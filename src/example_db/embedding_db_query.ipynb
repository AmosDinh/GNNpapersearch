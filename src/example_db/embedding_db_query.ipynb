{
 "cells": [
  {
   "cell_type": "code",
   "execution_count": 121,
   "metadata": {},
   "outputs": [],
   "source": [
    "import weaviate\n",
    "from typing import List\n",
    "\n",
    "from tqdm.auto import tqdm\n",
    "from pathlib import Path\n",
    "from concurrent.futures import ThreadPoolExecutor\n",
    "from typing import List, Optional\n",
    "import math\n",
    "import os\n",
    "\n",
    "\n",
    "class RawQuery:\n",
    "    def __init__(self, client: weaviate.Client, query: str) -> None:\n",
    "        self._query = query\n",
    "        self.client = client\n",
    "\n",
    "    def do(self):\n",
    "        result = self.client.query.raw(self._query)\n",
    "        return result\n",
    "\n",
    "\n",
    "class QueryUnpacker:\n",
    "    def __init__(self, query: weaviate.gql.Query) -> None:\n",
    "        self._query = query\n",
    "\n",
    "    @property\n",
    "    def query(self):\n",
    "        if isinstance(self._query, RawQuery):\n",
    "            raise ValueError(\n",
    "                'query attribute is a RawQuery object, implementation not done yet')\n",
    "        else:\n",
    "            return self._query\n",
    "\n",
    "    def do(self):\n",
    "\n",
    "        result = self._query.do()\n",
    "\n",
    "        if 'errors' in result.keys():\n",
    "            raise ValueError(\n",
    "                f'QueryUnpacker at execution of query: \\n {result[\"errors\"]}')\n",
    "        while True:\n",
    "            key = list(result.keys())[0]\n",
    "            result = result[key]\n",
    "            if key in ['Get', 'Aggregate', 'Explore']:\n",
    "                key = list(result.keys())[0]\n",
    "                result = result[key]\n",
    "                break\n",
    "\n",
    "        return result\n",
    "\n",
    "\n",
    "# idea: get locals() at beginnig of func, QueryUnpacker(locals())\n",
    "# return QueryUnpacker\n",
    "\n",
    "class Query:\n",
    "    def __init__(self, client: weaviate.Client):\n",
    "        self._client = client\n",
    "\n",
    "    def q_class_near_object(self, class_name: str, uuid: str, node_type=None,  properties=[], _additional=[], limit: int = 0):\n",
    "\n",
    "        _additional = set(_additional)\n",
    "        _additional.add(\"distance\")\n",
    "        _additional.add(\"id\")\n",
    "\n",
    "        # or {\"beacon\": \"weaviate://localhost/e5dc4a4c-ef0f-3aed-89a3-a73435c6bbcf\"}\n",
    "        nearObject = {\"id\": uuid}\n",
    "        \n",
    "        if node_type is not None:\n",
    "            where_filter = {\n",
    "                \"path\": ['type'],\n",
    "                \"operator\": 'Equal',\n",
    "                'valueString': node_type\n",
    "            }\n",
    "\n",
    "        q = (\n",
    "            self._client.query\n",
    "            .get(class_name, properties)\n",
    "            # \"certainty\" only supported if distance==cosine\n",
    "            .with_additional(list(_additional))\n",
    "            .with_near_object(nearObject)\n",
    "\n",
    "        )\n",
    "        if node_type is not None:\n",
    "            where_filter = {\n",
    "                \"path\": ['type'],\n",
    "                \"operator\": 'Equal',\n",
    "                'valueString': node_type\n",
    "            }\n",
    "            q = q.with_where(where_filter)\n",
    "            \n",
    "        if limit != 0:\n",
    "            q = q.with_limit(limit)\n",
    "        return QueryUnpacker(q)\n",
    "\n",
    "    def q_class_near_vec(self, class_name, vec, properties=[], _additional=[], certainty: int = 0, distance: int = 0, limit: int = 0) -> QueryUnpacker:\n",
    "        \"\"\"Finds objects of specified class close to vector\"\"\"\n",
    "\n",
    "        if certainty != 0 and distance != 0:\n",
    "            raise ValueError(\n",
    "                'You can\\'t set distance and certainty of near at the same time')\n",
    "\n",
    "        if 'id' not in _additional:\n",
    "            _additional.append('id')\n",
    "\n",
    "        near_vector = {\n",
    "            \"vector\": vec\n",
    "        }\n",
    "        if certainty != 0:\n",
    "            near_vector['certainty'] = certainty\n",
    "        elif distance != 0:\n",
    "            near_vector['distance'] = distance\n",
    "\n",
    "        q = (\n",
    "            self._client.query\n",
    "            .get(class_name, properties)\n",
    "            .with_additional(_additional)\n",
    "            .with_near_vector(near_vector)\n",
    "\n",
    "        )\n",
    "        if limit != 0:\n",
    "            q = q.with_limit(limit)\n",
    "\n",
    "        return QueryUnpacker(q)\n",
    "\n",
    "    def q_class_with_attrval(self, class_name: str, attr: str, val: str, attrType: str, operator='Equal', node_type=None, attributes: List[str] = [], _additional: List[str] = []) -> QueryUnpacker:\n",
    "        \"\"\"Finds objects with value in attribute\n",
    "            operator:\n",
    "                Like\n",
    "                Equal\n",
    "                more: https://weaviate.io/developers/weaviate/api/graphql/filters#filter-structure\n",
    "            attrType:\n",
    "                valueInt: The integer value where the Path's last property name should be compared to.\n",
    "                valueBoolean: The boolean value that the Path's last property name should be compared to.\n",
    "                valueString: The string value that the Path's last property name should be compared to.\n",
    "                valueText: The text value that the Path's last property name should be compared to.\n",
    "                valueNumber: The number (float) value that the Path's last property name should be compared to.\n",
    "                valueDate: The date (ISO 8601 timestamp, formatted as RFC3339) value that the Path's last property name should be compared to.\n",
    "        \"\"\"\n",
    "        if 'id' not in _additional:\n",
    "            _additional.append('id')\n",
    "\n",
    "        where_filter = {\n",
    "            \"path\": [attr],\n",
    "            \"operator\": operator,\n",
    "            attrType: val\n",
    "        }\n",
    "        if node_type is not None:\n",
    "            where_filter = {\n",
    "                \"operator\": \"And\",\n",
    "                \"operands\": [{\n",
    "                        \"path\": [attr],\n",
    "                        \"operator\": operator,\n",
    "                        attrType: val\n",
    "                    }, {\n",
    "                        \"path\": [\"type\"],\n",
    "                        \"operator\": \"Equal\",\n",
    "                        \"valueString\": node_type,\n",
    "                    }]\n",
    "            }\n",
    "\n",
    "        q = (\n",
    "            self._client.query\n",
    "            .get(class_name, attributes)\n",
    "            .with_additional(_additional)\n",
    "            .with_where(where_filter)\n",
    "        )\n",
    "        return QueryUnpacker(q)\n",
    "    \n",
    "    \n",
    "\n",
    "    def qr_obj(self, class_name: str, id: str,  attributes: List[str] = [], _additional: List[str] = []) -> QueryUnpacker:\n",
    "        \"\"\"Query one object by id\"\"\"\n",
    "        where_filter = {\n",
    "            \"path\": ['id'],\n",
    "            \"operator\": \"Equal\",\n",
    "            'valueString': id\n",
    "        }\n",
    "\n",
    "        q = (\n",
    "            self._client.query\n",
    "            .get(class_name, attributes)\n",
    "            .with_where(where_filter)\n",
    "            .with_additional(_additional)\n",
    "\n",
    "        )\n",
    "        return QueryUnpacker(q)\n",
    "\n",
    "    def q_class_all(self, class_name: str, attributes: List[str] = [], _additional: List[str] = []) -> QueryUnpacker:\n",
    "        \"\"\"Get Objects of a class, limit 10000\"\"\"\n",
    "        if 'id' not in _additional:\n",
    "            _additional.append('id')\n",
    "\n",
    "        q = (\n",
    "            self._client.query\n",
    "            .get(class_name, attributes)\n",
    "            .with_additional(_additional)\n",
    "            .with_limit(10000)\n",
    "        )\n",
    "        return QueryUnpacker(q)\n",
    "\n",
    "    def qr_class_all_after_cursor(self, class_name: str, after_uuid: str, limit: int):\n",
    "        \"\"\"Get All Objects of a class after specific one \"\"\"\n",
    "        _additional = []\n",
    "        if 'id' not in _additional:\n",
    "            _additional.append('id')\n",
    "\n",
    "        # q = (\n",
    "        #     self._client.query\n",
    "        #     .get(class_name, attributes)\n",
    "        #     .with_additional(_additional)\n",
    "        #     .with_limit(10000)\n",
    "        # )\n",
    "        # return QueryUnpacker(q)\n",
    "        qr = \"\"\"\n",
    "                {\n",
    "                    Get {\n",
    "                        %s (\n",
    "                              limit: %s,\n",
    "                              after: \"%s\"\n",
    "                            ) {\n",
    "                            _additional{id}\n",
    "                        }\n",
    "                    }\n",
    "                }\n",
    "             \"\"\" % (class_name, limit, after_uuid)\n",
    "        return QueryUnpacker(query=RawQuery(self._client, qr))\n",
    "\n",
    "    def q_aggregate_class(self, class_name: str) -> QueryUnpacker:\n",
    "\n",
    "        q = (\n",
    "            self._client.query.aggregate(class_name)\n",
    "            .with_meta_count()\n",
    "        )\n",
    "\n",
    "        return QueryUnpacker(q)\n",
    "\n",
    "    # def qraw_get_class_hasvector(self, class_name, has_vector:bool):\n",
    "    #     \"\"\"Query class \"\"\"\n",
    "    #     qr = \"\"\"\n",
    "\n",
    "    #             {\n",
    "    #                 Get {\n",
    "    #                     %s (\n",
    "    #                         where: {\n",
    "    #                                 path: [\"hasVector\"],\n",
    "    #                                 operator: Equal,\n",
    "    #                                 valueBoolean: %s\n",
    "    #                             }\n",
    "    #                         ) {\n",
    "    #                         _additional{id}\n",
    "    #                     }\n",
    "    #                 }\n",
    "    #             }\n",
    "    #          \"\"\" % (class_name,'true' if has_vector else 'false')\n",
    "    #     print(RawQuery(self._client, qr).do())\n",
    "    #     return QueryUnpacker(query=RawQuery(self._client, qr))\n",
    "\n",
    "\n",
    "    def delete_object(self, class_name: str, uuid: str):\n",
    "        self._client.data_object.delete(uuid=uuid, class_name=class_name, consistency_level=weaviate.ConsistencyLevel('ALL')  # all replica nodes must acknowledge delete\n",
    "                                        )\n",
    "\n",
    "    def get_schema(self):\n",
    "        return self._client.schema.get()\n",
    "\n",
    "    def describe_count(self) -> None:\n",
    "        \"\"\"Lists count of all objects in db\"\"\"\n",
    "\n",
    "        schema = self.get_schema()\n",
    "\n",
    "        for _class in schema['classes']:\n",
    "            r = self.q_aggregate_class(_class['class']).do()\n",
    "            print(f\"\"\"{_class['class']} {r[0]['meta']} \"\"\")\n",
    "\n",
    "    def get_class_objects(self, class_name: str, **kwargs):\n",
    "        \"\"\"Return max 100, https://weaviate-python-client.readthedocs.io/en/stable/weaviate.data.html#weaviate.data.DataObject.get \"\"\"\n",
    "        r = self._client.data_object.get(\n",
    "            class_name=class_name,\n",
    "            **kwargs\n",
    "        )\n",
    "        return r\n",
    "\n",
    "    def get_per_id(self, uuid: str):\n",
    "        return self._client.data_object.get_by_id(uuid=uuid)"
   ]
  },
  {
   "cell_type": "code",
   "execution_count": 122,
   "metadata": {},
   "outputs": [
    {
     "name": "stdout",
     "output_type": "stream",
     "text": [
      "Node {'count': 136684} \n"
     ]
    }
   ],
   "source": [
    "import weaviate\n",
    "\n",
    "query = Query(weaviate.Client('http://localhost:8081'))\n",
    "query.describe_count()"
   ]
  },
  {
   "cell_type": "code",
   "execution_count": 123,
   "metadata": {},
   "outputs": [
    {
     "name": "stdout",
     "output_type": "stream",
     "text": [
      "[{'_additional': {'id': 'f4b6154d-0d44-5675-bf46-a403d1aaa87a'}, 'name': 'Food Service Managers/Catering Director'}, {'_additional': {'id': 'f650935c-8e3a-54dd-8a61-9600d66c9d80'}, 'name': 'Food Service Managers/Catering Coordinator'}, {'_additional': {'id': 'c47e3b36-9bd8-5802-bee7-07122a97d1b7'}, 'name': 'Food Service Managers/Concessionaire'}, {'_additional': {'id': '5e9b4e18-5f23-5cd5-8de6-fb698f2e0744'}, 'name': 'Food Service Managers/Food Production Manager'}, {'_additional': {'id': 'a9003cb9-9414-5acc-ae91-d648a1b59ecd'}, 'name': 'Food Service Managers/Dining Services Director'}, {'_additional': {'id': '10c0d5a6-9a89-5985-81cf-251cf999e10f'}, 'name': 'Food Service Managers/Chef Manager'}, {'_additional': {'id': '26f16829-4482-52a9-bfa7-54a3606d6d89'}, 'name': 'Food Service Managers/Food Service General Manager'}, {'_additional': {'id': '6b962fbf-65cc-5196-8e81-2cce401f49be'}, 'name': 'Food Service Managers/Deli Manager'}, {'_additional': {'id': 'fcc4e1f2-f32c-55c9-9378-cff0b71d305b'}, 'name': 'Food Service Managers/Food General Manager'}, {'_additional': {'id': 'e76452c1-1b5a-5cb8-a002-04a2ef946a7c'}, 'name': 'Food Service Managers/Kitchen Manager'}, {'_additional': {'id': '042cb64b-aa09-5d0e-8da6-194d1ca6651e'}, 'name': 'Food Service Managers/Restaurant Manager'}, {'_additional': {'id': '28263605-14dc-5c52-ba39-d5579d47d66d'}, 'name': 'Food Service Managers/Catering Manager'}, {'_additional': {'id': 'cac9469b-e97e-5920-b19c-2a6802df25aa'}, 'name': 'Food Service Managers/Club Manager'}, {'_additional': {'id': '809fdbf5-77c9-5008-af16-59e313b83381'}, 'name': 'Food Service Managers/Cafeteria Manager'}, {'_additional': {'id': '73f21db8-9147-52a3-95a0-f159341096c4'}, 'name': 'Food Service Managers/Hospitality Manager'}, {'_additional': {'id': '46aabf20-ccb9-5945-8ef7-52974fc89dc8'}, 'name': 'Food Service Managers/Clubhouse Manager'}, {'_additional': {'id': '01349687-af7a-54e8-a6f8-e5bb285b4875'}, 'name': 'Food Service Managers/Food and Beverage Manager'}, {'_additional': {'id': '5f06ebfe-69b4-5491-8a6b-013207a62984'}, 'name': 'Food Service Managers/Banquet Manager'}, {'_additional': {'id': '29aa73e6-3ad0-5633-92fa-2c1332de5661'}, 'name': 'Food Service Managers/Food Service Manager'}, {'_additional': {'id': 'e8f692bc-1d98-51a0-9f5e-ec400cc0e50f'}, 'name': 'Food Service Managers/Food Service Director'}, {'_additional': {'id': 'eb059dec-0bfe-5e32-b02a-f9b6153e8dd3'}, 'name': 'Food Service Managers/Restaurant General Manager'}, {'_additional': {'id': 'f4fe6348-5cb2-59f1-bd34-ee169aad396f'}, 'name': 'Quality Control Systems Managers/Quality and Food Safety Manager'}, {'_additional': {'id': '4cefcfb1-610a-5020-bdc5-222cbacca8a6'}, 'name': 'Food Service Managers/Shift Manager'}, {'_additional': {'id': 'ba50fa36-9247-5846-8257-fda7b603315d'}, 'name': 'Food Service Managers/Food and Beverage Director'}, {'_additional': {'id': 'd919da8e-7b47-5335-8dbe-e0bec98990c2'}, 'name': 'Food Service Managers/Front of House Manager'}, {'_additional': {'id': '0faed879-c58e-5883-90db-b2a81fda64a3'}, 'name': 'Food Service Managers/Banquet Director'}, {'_additional': {'id': 'a4446e95-27cc-59ce-8435-8f901e8b6817'}, 'name': 'Food Service Managers/Cafe Operator'}, {'_additional': {'id': 'd601d463-d973-5ac1-abe4-2292c8ea044c'}, 'name': 'Food Scientists and Technologists/Food Technologist'}, {'_additional': {'id': '86ee002b-09a7-5379-b13e-86f7b6861653'}, 'name': 'Food Scientists and Technologists/Research Food Technologist'}, {'_additional': {'id': '3fd0a947-015f-5abe-9af6-bcd07d3c9daa'}, 'name': 'Food Scientists and Technologists/Hybrid Technologist'}, {'_additional': {'id': '99f5b220-8f16-5ffb-9c05-7e525c7658c4'}, 'name': 'Food Scientists and Technologists/Product Development Scientist'}, {'_additional': {'id': '56daeadf-1dc5-58df-9d5d-c3094a14ec4f'}, 'name': 'Food Scientists and Technologists/Food Safety Auditor'}, {'_additional': {'id': '9e90e01f-8650-5fd8-9216-f071e0539224'}, 'name': 'Food Scientists and Technologists/Food Scientist'}, {'_additional': {'id': '3059d900-385d-5a19-9118-d5117fd935ba'}, 'name': 'Food Scientists and Technologists/Flavorist'}, {'_additional': {'id': '26710deb-a06f-5cd3-b0c4-f2e6c37662dc'}, 'name': 'Food Scientists and Technologists/Research Scientist'}, {'_additional': {'id': 'd4658052-26ae-5f62-8eec-b3e2e98f65aa'}, 'name': 'Food Scientists and Technologists/Scientist'}, {'_additional': {'id': 'c51d46e3-a7be-5e6d-919e-3718820fc10c'}, 'name': 'Food Scientists and Technologists/Food Safety Scientist'}, {'_additional': {'id': '28caf83e-3f57-5d83-ad86-91beabc25646'}, 'name': 'Food Science Technicians/Food Science Tech (Food Science Technician)'}, {'_additional': {'id': '37614a55-5399-54cb-9c1e-5da2b2a56312'}, 'name': 'Food Science Technicians/Quality Tech (Quality Technician)'}, {'_additional': {'id': 'fb98968a-e389-5425-9bec-765a19e5febf'}, 'name': 'Food Science Technicians/Research Technician (Research Tech)'}, {'_additional': {'id': 'd0d9e187-1f12-57f8-bf6d-9262ed46fb2e'}, 'name': 'Food Science Technicians/Sensory Scientist'}, {'_additional': {'id': 'ff291004-421f-55db-9b60-3b4cb0e84c27'}, 'name': 'Food Science Technicians/QA Lab Tech (Quality Assurance Lab Technician)'}, {'_additional': {'id': '55df83a3-8921-574d-a92c-c129ec07787a'}, 'name': 'Food Science Technicians/Laboratory Assistant (Lab Assistant)'}, {'_additional': {'id': 'c7bedf27-dde9-529d-a5af-a2700e83614d'}, 'name': 'Food Science Technicians/Food Technician (Food Tech)'}, {'_additional': {'id': '9445ca6f-3c4b-5d0b-953a-8a95f85ca24b'}, 'name': 'Food Science Technicians/Laboratory Technician (Lab Tech)'}, {'_additional': {'id': '64bf05e8-1fd4-5939-b232-f026d4d19bf0'}, 'name': 'Food Science Technicians/Food Quality Technician (Food Quality Tech)'}, {'_additional': {'id': 'f0b51c0d-b896-5723-922f-bae0664d8cac'}, 'name': 'Food Science Technicians/Food Safety QA Tech (Food Safety Quality Assurance Technician)'}, {'_additional': {'id': '9d9d1ac0-c44e-5837-bcd3-f70b151dc524'}, 'name': 'Food Science Technicians/Food Analyst'}, {'_additional': {'id': '1db727d5-1942-504f-95dc-a63b1ad14188'}, 'name': 'First-Line Supervisors of Food Preparation and Serving Workers/Food and Nutrition Services Supervisor'}, {'_additional': {'id': '7d391f0b-7e6a-5caa-bd95-a43b82b87499'}, 'name': 'First-Line Supervisors of Food Preparation and Serving Workers/Bartender Manager'}, {'_additional': {'id': 'ccb4c80f-0938-5e63-b391-2aa4b63ac2bd'}, 'name': 'First-Line Supervisors of Food Preparation and Serving Workers/Bar Manager'}, {'_additional': {'id': '7e1f2d82-7886-5b58-b3e7-e31c10d193eb'}, 'name': 'First-Line Supervisors of Food Preparation and Serving Workers/Banquet Supervisor'}, {'_additional': {'id': '418d852d-ddb0-5434-b8a4-92e49b5fee8e'}, 'name': 'First-Line Supervisors of Food Preparation and Serving Workers/Lunch Counter Manager'}, {'_additional': {'id': '38ecb333-4d98-5c7c-99ac-92577c5730a3'}, 'name': 'First-Line Supervisors of Food Preparation and Serving Workers/Food Beverage Supervisor'}, {'_additional': {'id': '1a2bae8c-f741-53d9-9374-7dd9c5b20d8a'}, 'name': 'First-Line Supervisors of Food Preparation and Serving Workers/Lunchroom Food Service Supervisor'}, {'_additional': {'id': '8415a0a8-6fa5-5fae-ad7b-246160d6b836'}, 'name': 'First-Line Supervisors of Food Preparation and Serving Workers/Cafeteria Manager'}, {'_additional': {'id': '277fe1f4-1277-5e81-ad61-c83367ff23ef'}, 'name': 'First-Line Supervisors of Food Preparation and Serving Workers/Lunchroom Supervisor'}, {'_additional': {'id': 'fb8b4aee-dee2-557f-b206-23a4122c1f89'}, 'name': 'First-Line Supervisors of Food Preparation and Serving Workers/Kitchen Work Supervisor'}, {'_additional': {'id': 'ae34e9b8-a569-5e50-ad6c-30ee51839c9a'}, 'name': 'First-Line Supervisors of Food Preparation and Serving Workers/Cocktail Lounge Manager'}, {'_additional': {'id': '6607c2fb-17b9-58f2-a7e6-3b34e4b8415e'}, 'name': 'First-Line Supervisors of Food Preparation and Serving Workers/Restaurant Shift Leader'}, {'_additional': {'id': 'f94f7556-86fc-560d-85a5-52c715de25d6'}, 'name': 'First-Line Supervisors of Food Preparation and Serving Workers/Canteen Manager'}, {'_additional': {'id': '62dbd82d-9e16-5124-ac65-f8e1dae470b8'}, 'name': 'First-Line Supervisors of Food Preparation and Serving Workers/Cafeteria Supervisor'}, {'_additional': {'id': 'b4ac7ee6-d8c0-503e-abfb-5468f70af952'}, 'name': 'First-Line Supervisors of Food Preparation and Serving Workers/Restaurant Supervisor'}, {'_additional': {'id': '62c9d086-03cd-5098-bec0-489717a77053'}, 'name': 'First-Line Supervisors of Food Preparation and Serving Workers/Food Concession Manager'}, {'_additional': {'id': 'bbc1ffa8-43c9-5875-8b6a-605017736963'}, 'name': 'Food Preparation Workers/Food Service Aide'}, {'_additional': {'id': '6e31dab7-8725-5401-8ee1-a589f10a6a73'}, 'name': 'First-Line Supervisors of Food Preparation and Serving Workers/Commissary Production Supervisor'}, {'_additional': {'id': '07605a59-cea1-5dc6-859f-39ac3339ab41'}, 'name': 'First-Line Supervisors of Food Preparation and Serving Workers/Food Production Supervisor'}, {'_additional': {'id': '48a0a827-f4ce-5081-a191-759ab0039d58'}, 'name': 'First-Line Supervisors of Food Preparation and Serving Workers/Dairy Bar Manager'}, {'_additional': {'id': '7b92f0fe-bf48-56f9-951e-01bed80d2094'}, 'name': 'First-Line Supervisors of Food Preparation and Serving Workers/Food Service Industry Supervisor'}, {'_additional': {'id': '7029c1df-a3cb-5131-ae41-279a32629ed1'}, 'name': 'First-Line Supervisors of Food Preparation and Serving Workers/Dietary Supervisor'}, {'_additional': {'id': 'fb1877af-8596-570d-b8a7-eab8f99ee096'}, 'name': 'First-Line Supervisors of Food Preparation and Serving Workers/Dining Room Captain'}, {'_additional': {'id': '57ced69c-4092-52b4-887f-2909ea2c28c2'}, 'name': 'First-Line Supervisors of Food Preparation and Serving Workers/Crew Leader'}, {'_additional': {'id': 'a8cba301-ef94-5f9d-8afd-fb0a6038fdae'}, 'name': 'First-Line Supervisors of Food Preparation and Serving Workers/Dining Room Manager'}, {'_additional': {'id': 'e5b32925-6026-5e0e-8211-90dd1ccdb20f'}, 'name': 'Food Preparation Workers/Culinary Worker'}, {'_additional': {'id': '88e15ff5-3683-5f69-9f87-da8a81ddf64b'}, 'name': 'First-Line Supervisors of Food Preparation and Serving Workers/Fountain Supervisor'}, {'_additional': {'id': 'b1677402-f3f4-55a6-8f26-0be2725253ea'}, 'name': 'Cooks, Restaurant/Foreign Food Specialty Cook'}, {'_additional': {'id': '3824148a-e510-50f2-bffd-91c418e9382f'}, 'name': 'First-Line Supervisors of Food Preparation and Serving Workers/Snack Bar Manager'}, {'_additional': {'id': '793a4921-a26d-55fd-8673-b79043511a86'}, 'name': 'First-Line Supervisors of Food Preparation and Serving Workers/Food Service Director'}, {'_additional': {'id': '169cc8c2-0bfa-5a98-887f-03115bc7d135'}, 'name': 'Food Preparation Workers/Catering Assistant'}, {'_additional': {'id': '0a88a136-d7d0-5377-a820-fcec59529691'}, 'name': 'First-Line Supervisors of Food Preparation and Serving Workers/Kitchen Leader'}, {'_additional': {'id': 'cc51c805-3694-5560-9183-eb28a98db3c5'}, 'name': 'First-Line Supervisors of Food Preparation and Serving Workers/Floor Supervisor'}, {'_additional': {'id': 'b49ccc87-ab12-5801-85bc-1e50f1c838fc'}, 'name': 'First-Line Supervisors of Food Preparation and Serving Workers/Flight Kitchen Manager'}, {'_additional': {'id': '31260911-007e-53ef-b69c-b5ffb45d6eda'}, 'name': 'First-Line Supervisors of Food Preparation and Serving Workers/Kitchen Manager'}, {'_additional': {'id': '87a13a01-2ad5-5a6d-bbfc-c27a86c4ad9f'}, 'name': 'Food Preparation Workers/Food Expeditor'}, {'_additional': {'id': '95259cd0-c049-5c6b-955b-642d2da1f8aa'}, 'name': 'Food Preparation Workers/Food Server'}, {'_additional': {'id': 'd7b4fffa-0707-5e8e-a11a-7a1e96d472a9'}, 'name': 'Food Preparation Workers/Food Preparation Kitchen Aide'}, {'_additional': {'id': 'cb58d519-f43e-5d1d-a458-8547a148e873'}, 'name': 'First-Line Supervisors of Food Preparation and Serving Workers/Restaurant Shift Supervisor'}, {'_additional': {'id': 'da6e54f9-cef5-59ba-957d-7b5bd9a2d25d'}, 'name': 'Food Preparation Workers/Dietary Assistant'}, {'_additional': {'id': 'b2cf647b-0992-5bd5-92a1-8389c120fd49'}, 'name': 'Food Preparation Workers/Deli Clerk (Delicatessen Clerk)'}, {'_additional': {'id': 'd671e50d-0575-5ba3-aeff-606d203c4b04'}, 'name': 'First-Line Supervisors of Food Preparation and Serving Workers/Counter Supervisor'}, {'_additional': {'id': '42b6cfb6-8cc8-50a8-9747-94d343a216b4'}, 'name': 'First-Line Supervisors of Food Preparation and Serving Workers/Banquet Captain'}, {'_additional': {'id': '4ee13ce9-c6be-5b29-9034-7b49bfb87799'}, 'name': 'Food Preparation Workers/Food Prep (Food Preparer)'}, {'_additional': {'id': 'de341c39-e64a-50e6-a22d-765cc84e50cf'}, 'name': 'First-Line Supervisors of Food Preparation and Serving Workers/Fast Food Services Manager'}, {'_additional': {'id': '0eacd262-c8a6-5567-a77d-9f226a5d4e71'}, 'name': 'First-Line Supervisors of Food Preparation and Serving Workers/Dietary Manager'}, {'_additional': {'id': '5d611b6d-559c-5694-a27c-c563d6fa22b2'}, 'name': 'First-Line Supervisors of Food Preparation and Serving Workers/Crew Chief'}, {'_additional': {'id': 'b8cd142e-0565-5766-a7ee-5200d5d3940e'}, 'name': 'First-Line Supervisors of Food Preparation and Serving Workers/Motel Food Service Supervisor'}, {'_additional': {'id': 'edff7ce5-69db-5115-8134-522244b0518e'}, 'name': 'Food Preparation Workers/Diet Aide'}, {'_additional': {'id': 'acb494f7-b6c1-5ec6-8109-1392d3a1c48a'}, 'name': 'First-Line Supervisors of Food Preparation and Serving Workers/Dining Room Supervisor'}, {'_additional': {'id': 'ed536c21-f340-537d-b165-fba45f990a9a'}, 'name': 'First-Line Supervisors of Food Preparation and Serving Workers/Fast Food Restaurant Manager'}, {'_additional': {'id': '0f959f1b-6dd2-5ec5-b881-2ab4aef0fade'}, 'name': 'First-Line Supervisors of Food Preparation and Serving Workers/Room Service Supervisor'}]\n"
     ]
    }
   ],
   "source": [
    "result = query.q_class_with_attrval(\n",
    "    class_name='Node', attr='name', attrType='valueString', val='Food', operator='Like', attributes=['name'], ).do()\n",
    "print(result)"
   ]
  },
  {
   "cell_type": "code",
   "execution_count": 124,
   "metadata": {},
   "outputs": [
    {
     "name": "stdout",
     "output_type": "stream",
     "text": [
      "[{'_additional': {'id': '197f73e0-2016-5af8-9c28-923bfef3e664'}, 'name': 'data mapping/design'}, {'_additional': {'id': 'ea776eb2-095b-5b7d-bd7d-04581f990ef5'}, 'name': 'data quality initiatives'}, {'_additional': {'id': '80b29516-45dd-5e55-bca1-1e4e889bb5aa'}, 'name': 'data at rest'}, {'_additional': {'id': 'e7d50e33-fcf5-528f-9a5d-5d888968acfb'}, 'name': 'big data technologies'}, {'_additional': {'id': 'a52ff698-b42d-5ead-9eea-321a074e3601'}, 'name': 'data pipeline management'}, {'_additional': {'id': '52967ff6-7f71-5b95-89a8-e540e2a1e7b2'}, 'name': 'data network management'}, {'_additional': {'id': 'b43f2b57-95e9-586b-beeb-1c8ff9b1103a'}, 'name': 'data analysis and utilization'}, {'_additional': {'id': 'a138363c-94c3-5b73-9ab2-35cb68976b8a'}, 'name': 'data input'}, {'_additional': {'id': 'b778f863-7bdc-54a5-aee0-ef107c309498'}, 'name': 'data center optimization'}, {'_additional': {'id': '37b26107-2133-52a6-b062-89caa67f1fca'}, 'name': 'data warehouses'}, {'_additional': {'id': 'e3a092fb-c002-57cc-9bfb-0eb31640a566'}, 'name': 'systems and data requirement'}, {'_additional': {'id': '1160edb0-7e9b-5a35-8b05-2e93852db180'}, 'name': 'data sciences'}, {'_additional': {'id': 'c810873e-a67b-59d9-b4d4-dc42d184e7f7'}, 'name': 'health data collection'}, {'_additional': {'id': 'c1b41c7e-cdd3-5c78-97b4-c364be3f0e4a'}, 'name': 'process data analytics'}, {'_additional': {'id': 'd69f850d-f64c-551d-9ef2-196d873670f1'}, 'name': 'data migration'}, {'_additional': {'id': 'a52b5595-dfc5-5f0e-9149-ac3c2e2583e4'}, 'name': 'data analytics and reporting'}, {'_additional': {'id': 'eca8b845-73c2-5c52-b199-541f7731aa47'}, 'name': 'employment data management'}, {'_additional': {'id': 'd1a9bd7c-63dd-5958-8c4b-e24e9be10c6f'}, 'name': 'data management skills'}, {'_additional': {'id': '6627a7a7-bdd6-5213-9960-9c672b90619c'}, 'name': 'data coding'}, {'_additional': {'id': '148e100b-5f09-50fe-9291-8975ecc3eaed'}, 'name': 'statistical data analysis'}, {'_additional': {'id': 'ba71162c-cc98-5187-b33a-6bd92c0853bc'}, 'name': 'data integration concepts'}, {'_additional': {'id': '430bb451-bf35-5eba-9854-040015f6b1c8'}, 'name': 'unstructured data sources'}, {'_additional': {'id': '16a0f4e8-2974-58cc-9b6c-2520963d9d6f'}, 'name': 'project data organization'}, {'_additional': {'id': 'f2723cfa-3071-50f3-bcbc-6be533644a8a'}, 'name': 'aster data'}, {'_additional': {'id': '6c16e2dd-7ddd-5234-bba3-86b301d0dbdb'}, 'name': 'data modeling techniques'}, {'_additional': {'id': 'fac68300-d36a-5864-97a6-041871c04609'}, 'name': 'data movement solutions'}, {'_additional': {'id': '62421e25-f21a-581b-ba29-f07c1023bb4c'}, 'name': 'data transformation programs'}, {'_additional': {'id': '773a550c-7a79-53bb-8eb0-d68c7fe3ea02'}, 'name': 'data center asset management'}, {'_additional': {'id': '3cd0f330-a778-503c-8489-a46b40b7ab7c'}, 'name': 'data munging'}, {'_additional': {'id': 'd26d9f58-9654-5f55-afc9-a9eabe799912'}, 'name': 'data center facilities'}, {'_additional': {'id': '8382016f-efb9-5284-8b95-39566f81559d'}, 'name': 'voice and data networks'}, {'_additional': {'id': '83be6eaa-5c08-5936-9993-e643b656596f'}, 'name': 'data bricks'}, {'_additional': {'id': '7eaa38ce-7742-5ea6-bee3-754f04ed7183'}, 'name': 'security and data protection'}, {'_additional': {'id': '753b8de2-a5bc-5fdb-b552-4cc21d515071'}, 'name': 'data quality improvement projects'}, {'_additional': {'id': '34d30447-af0b-5f73-b7e1-fa80cb8d92c2'}, 'name': 'engineering data'}, {'_additional': {'id': '518c0ea6-6870-5bc4-b430-14d5c504af2a'}, 'name': 'data integrity management'}, {'_additional': {'id': '938bc1b5-d0e7-56dd-b19d-b60352b10783'}, 'name': 'data and process analytics'}, {'_additional': {'id': 'eb3cd07c-d42d-5d68-9ee2-793dc99ba12a'}, 'name': 'open data'}, {'_additional': {'id': 'dc032076-0984-5215-a3b8-51eba3f9c795'}, 'name': 'data analysis and auditing'}, {'_additional': {'id': '7c0ad251-8ff7-5c5d-a343-d1c2c6da7984'}, 'name': 'timesheet data entry'}, {'_additional': {'id': '32acd03f-fdd9-5018-9621-7033578192f5'}, 'name': 'statistical data analysis tools'}, {'_additional': {'id': '5d0fc47b-431f-572f-bb5b-be7af022a39e'}, 'name': 'canonical data models'}, {'_additional': {'id': 'a1649f68-9793-59a0-aec5-e13abb40f7fb'}, 'name': 'organizing and analyzing data'}, {'_additional': {'id': 'e26e4662-af28-51e7-bc90-f28e63622afe'}, 'name': 'data audit'}, {'_additional': {'id': '545cf864-8f45-5665-890d-4e5d5ea63395'}, 'name': 'organizing data'}, {'_additional': {'id': '35bb577d-f72b-5fbc-a1a2-93adffcb3e7d'}, 'name': 'data base maintenance'}, {'_additional': {'id': '284759ea-a6bb-54db-aba0-cdf4a2838c67'}, 'name': 'data ecosystems'}, {'_additional': {'id': '313fec6d-af0a-5740-bb42-5dcd6c3dac6e'}, 'name': 'collect relevant data'}, {'_additional': {'id': '93bc1c15-9676-51a7-bf5a-11cca00a1689'}, 'name': 'leveraging data'}, {'_additional': {'id': '045a00f5-6e79-5310-bfc7-c466950e657f'}, 'name': 'data entry proficiency'}, {'_additional': {'id': 'ebbfc2bf-1177-5a0e-b579-65a5e86411de'}, 'name': 'excellent data analysis skills'}, {'_additional': {'id': '7abb88de-34b4-58fe-987a-dfc64c2b68c2'}, 'name': 'voice and data services'}, {'_additional': {'id': '40d91d15-6956-5fcc-a17e-02b1466ccb56'}, 'name': 'big data mining'}, {'_additional': {'id': '7a5eb7ee-ab12-5ab2-947f-4df9068e35e2'}, 'name': 'using data and insights'}, {'_additional': {'id': '59350627-5dbb-53b5-af84-44ded0347e8d'}, 'name': 'data quality and integrity'}, {'_additional': {'id': '61cceff7-1c58-5d33-bc4e-298219dba155'}, 'name': 'documentation and data management'}, {'_additional': {'id': 'b8423d9f-b393-5903-94fe-bc3777d7260d'}, 'name': 'data anonymization'}, {'_additional': {'id': '7e2d7ca5-fe04-5975-9af6-5371e1eebb81'}, 'name': 'hr data management'}, {'_additional': {'id': '306ccc4a-bac9-5834-afdb-5b7635a12416'}, 'name': 'data backup and restore'}, {'_additional': {'id': '1e0e9851-c5e4-5957-978c-1174a70a3646'}, 'name': 'collating data'}, {'_additional': {'id': 'ff3e6d01-848f-5fdb-8a69-bb0fe439443c'}, 'name': 'large-scale data infrastructures'}, {'_additional': {'id': '8de7fcbf-757f-5503-a3ec-a668f217f825'}, 'name': 'big data ecosystem'}, {'_additional': {'id': 'f79a4084-fa3c-5097-9b82-d9b2db97db63'}, 'name': 'data fabric'}, {'_additional': {'id': '9677498c-2e84-5c5a-bab9-aec237027dcc'}, 'name': 'data science expertise'}, {'_additional': {'id': 'd98b70d6-64b6-5798-8bb4-98013aded674'}, 'name': 'data requests'}, {'_additional': {'id': 'fb2ecbeb-42d3-5f3e-a455-42f3c183c063'}, 'name': 'performing data entry'}, {'_additional': {'id': 'b12fc2c5-1d17-51a8-90fd-942a6ba0cab7'}, 'name': 'data privacy principles'}, {'_additional': {'id': '45d8fefb-c9d7-55a7-8fd8-2e149422fee5'}, 'name': 'data warehouse modeling'}, {'_additional': {'id': 'ddd73897-0e28-5cdc-8c66-71798aaa5892'}, 'name': 'numerical data analysis'}, {'_additional': {'id': 'ce6360f6-e71f-5db8-823c-de25cd70a08a'}, 'name': 'data entry and spreadsheets'}, {'_additional': {'id': 'be53e823-c903-5050-bb1d-3a9fbc8f09da'}, 'name': 'delivering data quality analysis'}, {'_additional': {'id': '2188b919-dd95-515d-b9da-fb7aa14c1057'}, 'name': 'data center operations'}, {'_additional': {'id': '33fc7198-d06c-53e1-a13d-a2710eeff7d5'}, 'name': 'data flow diagrams'}, {'_additional': {'id': 'de7dfd79-70ec-5630-9f88-b6d16eb1ca07'}, 'name': 'experience with data tools'}, {'_additional': {'id': '0e9e00c0-4886-553b-90b7-2a5dd0aa8c90'}, 'name': 'alpha-numeric data entry'}, {'_additional': {'id': 'afa3c51b-699f-53cc-8cef-9fe7c3ee0fc2'}, 'name': 'data collection and reporting'}, {'_additional': {'id': '231faabe-9106-5cad-8248-d5fd1239772b'}, 'name': 'monitoring data analysis'}, {'_additional': {'id': '9b793d97-bf11-50d0-bf77-7a4d84198ba0'}, 'name': 'data center maintenance'}, {'_additional': {'id': 'b3bd1442-0790-5185-b2ff-9c13ab4b6782'}, 'name': 'massive data storage'}, {'_additional': {'id': 'a6f1ce96-40f3-5a85-ac60-9bf8e28b51f4'}, 'name': 'etl data stage'}, {'_additional': {'id': 'a330218a-d8d0-54f1-8b09-728cc4fd0f17'}, 'name': 'web data collection'}, {'_additional': {'id': 'f399e20a-424a-5716-b1de-9cff62aabf31'}, 'name': 'data visualization'}, {'_additional': {'id': 'ec7039af-adeb-5d6d-b031-a74848f6b119'}, 'name': 'microsoft data platform'}, {'_additional': {'id': '675de6ab-46a2-53d0-99c5-ae1963ff0223'}, 'name': 'data guard'}, {'_additional': {'id': 'a03a902a-86c1-5238-a603-d9d20f1acdfe'}, 'name': 'data collection'}, {'_additional': {'id': 'a9773331-b78e-50b3-bfe3-bce3b6636184'}, 'name': 'data entry experience'}, {'_additional': {'id': '8641f8b4-7e2a-592f-b357-84b40c6e1e70'}, 'name': 'big data trends'}, {'_additional': {'id': '80f4c8a3-a042-535d-b141-a1ba6e9a1360'}, 'name': 'clinical data processing'}, {'_additional': {'id': 'df568ec6-f940-5932-8cd4-59b3ad10f218'}, 'name': 'data review'}, {'_additional': {'id': 'c57142fb-14c4-56fe-998b-5570e155f16f'}, 'name': 'utilization of big data'}, {'_additional': {'id': '0ba086b2-890b-5512-b668-013b04d8b314'}, 'name': 'interpreting assessment/diagnostic data'}, {'_additional': {'id': '51b990e4-e805-5801-8b37-ccea15c71cf3'}, 'name': 'integration of geospatial data'}, {'_additional': {'id': '4dddd10d-940f-5ff1-84b9-7914aaba6d52'}, 'name': 'data model development'}, {'_additional': {'id': '26c8c080-a4b0-5983-898b-13646c1c4b9c'}, 'name': 'data gathering and analysis'}, {'_additional': {'id': 'fde4bea2-c943-5528-b399-f72e5a88dc54'}, 'name': 'exploratory data analysis'}, {'_additional': {'id': '606942ac-30f5-5d20-8164-f0e16e0a0098'}, 'name': 'data management standards'}, {'_additional': {'id': '5dce256a-23bd-57e9-b728-357702594ab0'}, 'name': 'reports and data'}, {'_additional': {'id': '8d305771-20e1-57b1-8ef7-1c8d6cfa1551'}, 'name': 'data analysis and summary'}, {'_additional': {'id': '5d47bc87-84c2-5322-86a2-ebaa7fbcc1fc'}, 'name': 'analyzing and summarizing data'}, {'_additional': {'id': 'd05df3e1-7adc-577b-b33b-38d0597930c4'}, 'name': 'oracle data modelling'}]\n"
     ]
    }
   ],
   "source": [
    "\n",
    "result = query.q_class_with_attrval(\n",
    "    class_name='Node', attr='name', attrType='valueString', val='data', operator='Like', attributes=['name'], node_type='Skill' ).do()\n",
    "print(result)"
   ]
  },
  {
   "cell_type": "markdown",
   "metadata": {},
   "source": []
  },
  {
   "cell_type": "code",
   "execution_count": 125,
   "metadata": {},
   "outputs": [],
   "source": [
    "def get_similar(uuid, which=None):\n",
    "    # result = query.q_class_near_object('Job', uuid, properties=['name'] ).do()\n",
    "    # for dict_ in result:\n",
    "    #     print(dict_['name'], dict_['_additional']['distance'])\n",
    "        \n",
    "    \n",
    "    result = query.q_class_near_object('Node', uuid, properties=['name'], node_type=which).do()\n",
    "    print('Similar concepts:')\n",
    "    for i, dict_ in enumerate(result):\n",
    "        if i==31:\n",
    "            break\n",
    "        print(f\"{dict_['_additional']['distance']:.5f} {dict_['name']}\")"
   ]
  },
  {
   "cell_type": "code",
   "execution_count": 126,
   "metadata": {},
   "outputs": [],
   "source": [
    "#  query = Query(weaviate.Client('http://localhost:8081'))\n",
    "#     vector = np.load('coe-da-pa-ssc.npz')['vectors'][100]\n",
    "\n",
    "#     q = query.q_class_near_vec('Image', vector, _additional=['distance'])\n",
    "#     result = q.do()"
   ]
  },
  {
   "cell_type": "code",
   "execution_count": 127,
   "metadata": {},
   "outputs": [],
   "source": [
    " # q_class_with_attrval\n"
   ]
  },
  {
   "cell_type": "code",
   "execution_count": 128,
   "metadata": {},
   "outputs": [],
   "source": [
    "def demo(type, part_of_name, return_type=None):\n",
    "    assert return_type in ['Skill','Job',None]\n",
    "    assert type in ['Skill', 'Job', None]\n",
    "\n",
    "    print(f'Found {type}s:')\n",
    "    part_of_name = part_of_name\n",
    "    \n",
    "    result = query.q_class_with_attrval(\n",
    "        class_name='Node', attr='name', attrType='valueString', val=part_of_name, operator='Like', attributes=['name'], node_type=type ).do()\n",
    "    if len(result)==0:\n",
    "        print('No nodes containing string found')\n",
    "        return\n",
    "    for i in range(min(5, len(result))):\n",
    "        print(result[i]['name'])\n",
    "        \n",
    "    \n",
    "    print('')\n",
    "    print('>>> choosing',result[0]['name'],'<<<')\n",
    "    id = result[0]['_additional']['id']\n",
    "    \n",
    "    get_similar(id, which=return_type)\n",
    "\n",
    "    "
   ]
  },
  {
   "cell_type": "code",
   "execution_count": 129,
   "metadata": {},
   "outputs": [
    {
     "name": "stdout",
     "output_type": "stream",
     "text": [
      "Found Jobs:\n",
      "Epidemiologists/Epidemiology Research Doctor\n",
      "Dentists, General/Dental Medicine Doctor (DMD)\n",
      "Optometrists/Optometry Doctor (OD)\n",
      "Dentists, General/Dental Surgery Doctor (DDS)\n",
      "Veterinarians/Veterinary Medicine Doctor (DVM)\n",
      "\n",
      ">>> choosing Epidemiologists/Epidemiology Research Doctor <<<\n",
      "Similar concepts:\n",
      "-0.00000 Epidemiologists/Epidemiology Research Doctor\n",
      "0.00757 Epidemiologists/Epidemiologist Researcher\n",
      "0.00768 Epidemiologists/Research Epidemiologist\n",
      "0.00875 Epidemiologists/Medical Epidemiologist\n",
      "0.01258 Epidemiologists/Clinical Epidemiologist\n",
      "0.01282 Intelligence Analysts/Investigative Research Specialist\n",
      "0.01402 Microbiologists/Microbiology Specialist\n",
      "0.01480 Epidemiologists/Public Health Epidemiologist\n",
      "0.01504 Histotechnologists/Histology Specialist\n",
      "0.01510 Epidemiologists/Pharmacoepidemiologist\n",
      "0.01515 Skincare Specialists/Skin Care Specialist\n",
      "0.01577 Epidemiologists/Chronic Disease Epidemiologist\n",
      "0.01582 Dermatologists/Dermatologist Physician\n",
      "0.01587 Epidemiologists/Epidemiology Analyst\n",
      "0.01692 Regulatory Affairs Specialists/Research Compliance Specialist\n",
      "0.01761 Healthcare Diagnosing or Treating Practitioners, All Other/Neonatologist\n",
      "0.01771 Dietitians and Nutritionists/Oncology Dietitian\n",
      "0.01778 Forensic Science Technicians/Evidence Specialist\n",
      "0.01778 Epidemiologists/Epidemiologist\n",
      "0.01822 Clinical and Counseling Psychologists/Healthcare Science Specialist\n",
      "0.01837 Pediatricians, General/Neonatologist\n",
      "0.01890 Epidemiologists/State Epidemiologist\n",
      "0.01901 Area, Ethnic, and Cultural Studies Teachers, Postsecondary/African Studies Professor\n",
      "0.01939 Physicians, All Other/Dermatologist\n",
      "0.01940 Microbiologists/Microbiology Analyst\n",
      "0.01999 Obstetricians and Gynecologists/OB Specialist (Obstetrics Specialist)\n",
      "0.02000 Regulatory Affairs Specialists/Regulatory Affairs Analyst (RA Analyst)\n",
      "0.02008 Biochemists and Biophysicists/Protein Biochemistry Scientist\n",
      "0.02011 Insurance Sales Agents/Health Insurance Specialist\n",
      "0.02035 Biological Science Teachers, Postsecondary/Microbiology Professor\n",
      "0.02039 Nurse Practitioners/ARNP Specialist (Advanced Registered Nurse Practitioner Specialist)\n"
     ]
    }
   ],
   "source": [
    "\n",
    "demo('Job', 'Doctor', 'Job')"
   ]
  },
  {
   "cell_type": "code",
   "execution_count": 130,
   "metadata": {},
   "outputs": [
    {
     "name": "stdout",
     "output_type": "stream",
     "text": [
      "Found Jobs:\n",
      "Chefs and Head Cooks/Head Pastry Chef\n",
      "Chefs and Head Cooks/Head Chef\n",
      "Chefs and Head Cooks/Kitchen Chef\n",
      "Chefs and Head Cooks/Pastry Chef\n",
      "Chefs and Head Cooks/Sous Chef\n",
      "\n",
      ">>> choosing Chefs and Head Cooks/Head Pastry Chef <<<\n",
      "Similar concepts:\n",
      "0.00000 Chefs and Head Cooks/Head Pastry Chef\n",
      "0.00819 Bakers/Pastry Chef\n",
      "0.01376 Industrial Engineering Technologists and Technicians/Production Control Expert\n",
      "0.01417 Emergency Medicine Physicians/Emergency Room Physician (ER Physician)\n",
      "0.01443 Cooks, Restaurant/Foreign Food Specialty Cook\n",
      "0.01444 Printing Press Operators/Offset Pressman\n",
      "0.01448 First-Line Supervisors of Production and Operating Workers/Watch Manufacturing Supervisor\n",
      "0.01461 Dishwashers/Dishwashing Machine Operator\n",
      "0.01511 Media Technical Directors/Managers/Production Supervisor\n",
      "0.01522 Industrial Engineering Technologists and Technicians/Manufacturing Planner\n",
      "0.01527 Coin, Vending, and Amusement Machine Servicers and Repairers/Vending Service Technician\n",
      "0.01535 Architecture Teachers, Postsecondary/Interior Design Professor\n",
      "0.01549 Cashiers/Snack Bar Cashier\n",
      "0.01558 Cargo and Freight Agents/Freight Forwarder\n",
      "0.01581 Sewing Machine Operators/Embroidery Machine Operator\n",
      "0.01581 Billing and Posting Clerks/Freight Rate Specialist\n",
      "0.01606 Home Appliance Repairers/Appliance Technician (Appliance Tech)\n",
      "0.01632 Food Batchmakers/Tortilla Maker\n",
      "0.01647 Retail Salespersons/Design Consultant\n",
      "0.01680 Assemblers and Fabricators, All Other/Furniture Maker\n",
      "0.01690 Bus Drivers, Transit and Intercity/Jitney Driver\n",
      "0.01698 Heavy and Tractor-Trailer Truck Drivers/Dumpster Driver\n",
      "0.01721 Administrative Services Managers/Business Unit Manager\n",
      "0.01730 Cooks, Fast Food/Pizza Maker\n",
      "0.01735 Non-Destructive Testing Specialists/NDT Technical Specialist (Non-Destructive Testing Technical Specialist)\n",
      "0.01742 Structural Metal Fabricators and Fitters/Industrial Fabricator\n",
      "0.01746 Transportation Engineers/Transportation Analyst\n",
      "0.01746 Production Workers, All Other/Wafer Machine Operator\n",
      "0.01750 Molding, Coremaking, and Casting Machine Setters, Operators, and Tenders, Metal and Plastic/Molding Process Technician\n",
      "0.01751 Wind Turbine Service Technicians/Wind Turbine Blade Repair Technician\n",
      "0.01773 Printing Press Operators/Marking Machine Operator\n"
     ]
    }
   ],
   "source": [
    "demo('Job', 'Chef', 'Job')"
   ]
  },
  {
   "cell_type": "code",
   "execution_count": 131,
   "metadata": {},
   "outputs": [
    {
     "name": "stdout",
     "output_type": "stream",
     "text": [
      "Found Jobs:\n",
      "Epidemiologists/Epidemiology Research Doctor\n",
      "Dentists, General/Dental Medicine Doctor (DMD)\n",
      "Optometrists/Optometry Doctor (OD)\n",
      "Dentists, General/Dental Surgery Doctor (DDS)\n",
      "Veterinarians/Veterinary Medicine Doctor (DVM)\n",
      "\n",
      ">>> choosing Epidemiologists/Epidemiology Research Doctor <<<\n",
      "Similar concepts:\n",
      "0.56871 print production techniques\n",
      "0.57158 process and procedures\n",
      "0.60022 fact-based decision-making\n",
      "0.60101 analyzing patents\n",
      "0.60137 surface characterization\n",
      "0.60182 google ads platform\n",
      "0.60182 procurement transactions\n",
      "0.60182 qa testing tools\n",
      "0.60182 healthcare marketplace\n",
      "0.60182 programmatic leadership\n",
      "0.60182 unmanned systems\n",
      "0.60182 performance and reliability testing\n",
      "0.60182 cable splicing\n",
      "0.60246 user provisioning\n",
      "0.60737 data entry and retrieval\n",
      "0.60774 background verification\n",
      "0.61459 operating welding equipment\n",
      "0.61636 problem formulation\n",
      "0.62152 good judgement\n",
      "0.62682 environmental plan\n",
      "0.62820 control panel layout\n",
      "0.65266 wireless device support\n",
      "0.65982 understanding of cloud services\n",
      "0.70849 data governance strategies\n",
      "0.70987 quality service improvement\n",
      "0.71470 usability efforts\n",
      "0.75718 property claims service\n",
      "0.75904 global services organization\n",
      "0.76006 engineering projects\n",
      "0.76185 project architecture\n",
      "0.76200 annual planning\n"
     ]
    }
   ],
   "source": [
    "demo('Job', 'Doctor', 'Skill')"
   ]
  },
  {
   "cell_type": "code",
   "execution_count": 132,
   "metadata": {},
   "outputs": [
    {
     "name": "stdout",
     "output_type": "stream",
     "text": [
      "Found Jobs:\n",
      "Data Scientists/Machine Learning Scientist\n",
      "Data Scientists/Machine Learning Data Scientist\n",
      "\n",
      ">>> choosing Data Scientists/Machine Learning Scientist <<<\n",
      "Similar concepts:\n",
      "0.61630 process and procedures\n",
      "0.62093 print production techniques\n",
      "0.66177 surface characterization\n",
      "0.66227 analyzing patents\n",
      "0.66280 fact-based decision-making\n",
      "0.66448 google ads platform\n",
      "0.66448 cable splicing\n",
      "0.66448 healthcare marketplace\n",
      "0.66448 unmanned systems\n",
      "0.66448 performance and reliability testing\n",
      "0.66448 programmatic leadership\n",
      "0.66448 procurement transactions\n",
      "0.66448 qa testing tools\n",
      "0.66502 user provisioning\n",
      "0.66916 data entry and retrieval\n",
      "0.66947 background verification\n",
      "0.67524 operating welding equipment\n",
      "0.68020 good judgement\n",
      "0.68448 problem formulation\n",
      "0.68555 environmental plan\n",
      "0.68671 control panel layout\n",
      "0.69077 wireless device support\n",
      "0.71335 understanding of cloud services\n",
      "0.72679 global services organization\n",
      "0.74698 value added service\n",
      "0.75254 operations oversight\n",
      "0.75437 data governance strategies\n",
      "0.75553 quality service improvement\n",
      "0.75610 building upkeep\n",
      "0.75793 annual planning\n",
      "0.75959 usability efforts\n"
     ]
    }
   ],
   "source": [
    "demo('Job', '*Machine Learning Data Scientist', 'Skill')"
   ]
  },
  {
   "cell_type": "code",
   "execution_count": 133,
   "metadata": {},
   "outputs": [
    {
     "name": "stdout",
     "output_type": "stream",
     "text": [
      "Found Skills:\n",
      "ms-office excel\n",
      "specifically excel and powerpoint\n",
      "excel spreadsheet skills\n",
      "experience using excel\n",
      "excel and powerpoint\n",
      "\n",
      ">>> choosing ms-office excel <<<\n",
      "Similar concepts:\n",
      "0.00000 ms-office excel\n",
      "0.02905 automation and controls systems\n",
      "0.02954 construction quality control\n",
      "0.02961 communicable disease management\n",
      "0.02964 chemical program\n",
      "0.02988 maintenance and industrial services\n",
      "0.03444 local delivery experience\n",
      "0.03553 confidentiality of information\n",
      "0.04436 contract crushing\n",
      "0.04578 work queue\n",
      "0.05151 adobe after effects\n",
      "0.05442 safety training and inspections\n",
      "0.05554 networking applications\n",
      "0.05634 reliability planning\n",
      "0.05641 thin film optical coatings\n",
      "0.06096 scheduling system\n",
      "0.06109 efficient processing\n",
      "0.06123 apache web servers\n",
      "0.06221 software and application design\n",
      "0.06416 administration of oxygen\n",
      "0.06670 training and more\n",
      "0.06938 accurate order processing\n",
      "0.06969 post graduate qualification\n",
      "0.07019 incident lifecycle\n",
      "0.07042 jib procedures and standards\n",
      "0.07049 nursing professional practice\n",
      "0.07138 hr consultative support\n",
      "0.07728 team project management\n",
      "0.07730 concurrency patterns\n",
      "0.07964 functional analyses\n",
      "0.08139 fitness evaluations\n"
     ]
    }
   ],
   "source": [
    "demo('Skill', 'excel', 'Skill')"
   ]
  },
  {
   "cell_type": "code",
   "execution_count": 134,
   "metadata": {},
   "outputs": [
    {
     "name": "stdout",
     "output_type": "stream",
     "text": [
      "Found Skills:\n",
      "healthful eating\n",
      "eating disorders\n",
      "eating disorder treatment\n",
      "eating areas\n",
      "\n",
      ">>> choosing healthful eating <<<\n",
      "Similar concepts:\n",
      "0.00000 healthful eating\n",
      "0.01789 customer partnerships\n",
      "0.02458 functional analyses\n",
      "0.03621 macroeconomic forecasting\n",
      "0.03925 continuous growth\n",
      "0.04525 mechanical repair and maintenance\n",
      "0.04530 knowledge of electronic components\n",
      "0.04557 professional training\n",
      "0.05110 interconnection service agreements\n",
      "0.05516 patient admission/transfer/discharge\n",
      "0.05757 incident lifecycle\n",
      "0.06373 public relations/customer service\n",
      "0.06430 punctuation skills\n",
      "0.06545 it landscape\n",
      "0.06935 intellectual property issues\n",
      "0.07288 energy transition\n",
      "0.07363 global support\n",
      "0.07450 developing relationships with clients\n",
      "0.07458 incident follow-up\n",
      "0.07807 adobe after effects\n",
      "0.07915 administration of oxygen\n",
      "0.08108 hospital personnel\n",
      "0.08198 guest requests\n",
      "0.08317 contract crushing\n",
      "0.08433 practical setting\n",
      "0.08445 software and application design\n",
      "0.08499 hr consultative support\n",
      "0.08599 confidentiality of information\n",
      "0.08652 nursing professional practice\n",
      "0.08729 local delivery experience\n",
      "0.09012 work queue\n"
     ]
    }
   ],
   "source": [
    "demo('Skill', 'eating', 'Skill')\n"
   ]
  },
  {
   "cell_type": "code",
   "execution_count": 135,
   "metadata": {},
   "outputs": [
    {
     "name": "stdout",
     "output_type": "stream",
     "text": [
      "Found Jobs:\n",
      "No nodes containing string found\n"
     ]
    }
   ],
   "source": [
    "demo('Job', 'Front End', 'Job')"
   ]
  },
  {
   "cell_type": "code",
   "execution_count": 136,
   "metadata": {},
   "outputs": [
    {
     "name": "stdout",
     "output_type": "stream",
     "text": [
      "Found Jobs:\n",
      "Dentists, General/Pediatric Dentist\n",
      "Dentists, General/Public Health Dentist\n",
      "Dentists, General/General Dentist\n",
      "Dentists, All Other Specialists/Pediatric Dentist\n",
      "Veterinarians/Veterinary Dentist (Vet Dentist)\n",
      "\n",
      ">>> choosing Dentists, General/Pediatric Dentist <<<\n",
      "Similar concepts:\n",
      "0.60548 process and procedures\n",
      "0.60593 print production techniques\n",
      "0.64221 fact-based decision-making\n",
      "0.64238 google ads platform\n",
      "0.64238 qa testing tools\n",
      "0.64238 performance and reliability testing\n",
      "0.64238 procurement transactions\n",
      "0.64238 programmatic leadership\n",
      "0.64238 healthcare marketplace\n",
      "0.64238 unmanned systems\n",
      "0.64238 cable splicing\n",
      "0.64296 user provisioning\n",
      "0.64326 analyzing patents\n",
      "0.64444 surface characterization\n",
      "0.64737 data entry and retrieval\n",
      "0.64770 background verification\n",
      "0.65385 operating welding equipment\n",
      "0.66025 good judgement\n",
      "0.66425 problem formulation\n",
      "0.66484 environmental plan\n",
      "0.66608 control panel layout\n",
      "0.69267 wireless device support\n",
      "0.69447 understanding of cloud services\n",
      "0.73819 data governance strategies\n",
      "0.73943 quality service improvement\n",
      "0.74244 global services organization\n",
      "0.74376 usability efforts\n",
      "0.75303 identity governance and administration\n",
      "0.75492 project architecture\n",
      "0.75578 source code management tools\n",
      "0.75675 annual planning\n"
     ]
    }
   ],
   "source": [
    "demo('Job', 'Dentist', 'Skill')"
   ]
  },
  {
   "cell_type": "code",
   "execution_count": 137,
   "metadata": {},
   "outputs": [
    {
     "name": "stdout",
     "output_type": "stream",
     "text": [
      "Found Skills:\n",
      "No nodes containing string found\n"
     ]
    }
   ],
   "source": [
    "demo('Skill', 'radioology', 'Skill')"
   ]
  },
  {
   "cell_type": "code",
   "execution_count": 138,
   "metadata": {},
   "outputs": [
    {
     "ename": "KeyboardInterrupt",
     "evalue": "",
     "output_type": "error",
     "traceback": [
      "\u001b[0;31m---------------------------------------------------------------------------\u001b[0m",
      "\u001b[0;31mKeyboardInterrupt\u001b[0m                         Traceback (most recent call last)",
      "\u001b[1;32m/home/amos/programming/create_graphds/embedding_db_query.ipynb Cell 19\u001b[0m line \u001b[0;36m7\n\u001b[1;32m      <a href='vscode-notebook-cell://wsl%2Bubuntu/home/amos/programming/create_graphds/embedding_db_query.ipynb#X24sdnNjb2RlLXJlbW90ZQ%3D%3D?line=4'>5</a>\u001b[0m filename \u001b[39m=\u001b[39m \u001b[39m'\u001b[39m\u001b[39mJob_Skill_HeteroData_withdupes_fulldataset_v1.pt\u001b[39m\u001b[39m'\u001b[39m\n\u001b[1;32m      <a href='vscode-notebook-cell://wsl%2Bubuntu/home/amos/programming/create_graphds/embedding_db_query.ipynb#X24sdnNjb2RlLXJlbW90ZQ%3D%3D?line=5'>6</a>\u001b[0m \u001b[39mif\u001b[39;00m os\u001b[39m.\u001b[39mpath\u001b[39m.\u001b[39mexists(\u001b[39m'\u001b[39m\u001b[39m./\u001b[39m\u001b[39m'\u001b[39m\u001b[39m+\u001b[39mfilename):\n\u001b[0;32m----> <a href='vscode-notebook-cell://wsl%2Bubuntu/home/amos/programming/create_graphds/embedding_db_query.ipynb#X24sdnNjb2RlLXJlbW90ZQ%3D%3D?line=6'>7</a>\u001b[0m     data \u001b[39m=\u001b[39m HeteroData\u001b[39m.\u001b[39mfrom_dict(torch\u001b[39m.\u001b[39;49mload(\u001b[39m'\u001b[39;49m\u001b[39m./\u001b[39;49m\u001b[39m'\u001b[39;49m\u001b[39m+\u001b[39;49mfilename))\n\u001b[1;32m      <a href='vscode-notebook-cell://wsl%2Bubuntu/home/amos/programming/create_graphds/embedding_db_query.ipynb#X24sdnNjb2RlLXJlbW90ZQ%3D%3D?line=7'>8</a>\u001b[0m     \u001b[39mprint\u001b[39m(\u001b[39m'\u001b[39m\u001b[39mloading saved heterodata object\u001b[39m\u001b[39m'\u001b[39m)\n",
      "File \u001b[0;32m~/mambaforge/envs/pyg/lib/python3.10/site-packages/torch/serialization.py:809\u001b[0m, in \u001b[0;36mload\u001b[0;34m(f, map_location, pickle_module, weights_only, **pickle_load_args)\u001b[0m\n\u001b[1;32m    807\u001b[0m             \u001b[39mexcept\u001b[39;00m \u001b[39mRuntimeError\u001b[39;00m \u001b[39mas\u001b[39;00m e:\n\u001b[1;32m    808\u001b[0m                 \u001b[39mraise\u001b[39;00m pickle\u001b[39m.\u001b[39mUnpicklingError(UNSAFE_MESSAGE \u001b[39m+\u001b[39m \u001b[39mstr\u001b[39m(e)) \u001b[39mfrom\u001b[39;00m \u001b[39mNone\u001b[39m\n\u001b[0;32m--> 809\u001b[0m         \u001b[39mreturn\u001b[39;00m _load(opened_zipfile, map_location, pickle_module, \u001b[39m*\u001b[39;49m\u001b[39m*\u001b[39;49mpickle_load_args)\n\u001b[1;32m    810\u001b[0m \u001b[39mif\u001b[39;00m weights_only:\n\u001b[1;32m    811\u001b[0m     \u001b[39mtry\u001b[39;00m:\n",
      "File \u001b[0;32m~/mambaforge/envs/pyg/lib/python3.10/site-packages/torch/serialization.py:1172\u001b[0m, in \u001b[0;36m_load\u001b[0;34m(zip_file, map_location, pickle_module, pickle_file, **pickle_load_args)\u001b[0m\n\u001b[1;32m   1170\u001b[0m unpickler \u001b[39m=\u001b[39m UnpicklerWrapper(data_file, \u001b[39m*\u001b[39m\u001b[39m*\u001b[39mpickle_load_args)\n\u001b[1;32m   1171\u001b[0m unpickler\u001b[39m.\u001b[39mpersistent_load \u001b[39m=\u001b[39m persistent_load\n\u001b[0;32m-> 1172\u001b[0m result \u001b[39m=\u001b[39m unpickler\u001b[39m.\u001b[39;49mload()\n\u001b[1;32m   1174\u001b[0m torch\u001b[39m.\u001b[39m_utils\u001b[39m.\u001b[39m_validate_loaded_sparse_tensors()\n\u001b[1;32m   1176\u001b[0m \u001b[39mreturn\u001b[39;00m result\n",
      "File \u001b[0;32m~/mambaforge/envs/pyg/lib/python3.10/site-packages/torch/serialization.py:1142\u001b[0m, in \u001b[0;36m_load.<locals>.persistent_load\u001b[0;34m(saved_id)\u001b[0m\n\u001b[1;32m   1140\u001b[0m \u001b[39melse\u001b[39;00m:\n\u001b[1;32m   1141\u001b[0m     nbytes \u001b[39m=\u001b[39m numel \u001b[39m*\u001b[39m torch\u001b[39m.\u001b[39m_utils\u001b[39m.\u001b[39m_element_size(dtype)\n\u001b[0;32m-> 1142\u001b[0m     typed_storage \u001b[39m=\u001b[39m load_tensor(dtype, nbytes, key, _maybe_decode_ascii(location))\n\u001b[1;32m   1144\u001b[0m \u001b[39mreturn\u001b[39;00m typed_storage\n",
      "File \u001b[0;32m~/mambaforge/envs/pyg/lib/python3.10/site-packages/torch/serialization.py:1112\u001b[0m, in \u001b[0;36m_load.<locals>.load_tensor\u001b[0;34m(dtype, numel, key, location)\u001b[0m\n\u001b[1;32m   1109\u001b[0m \u001b[39mdef\u001b[39;00m \u001b[39mload_tensor\u001b[39m(dtype, numel, key, location):\n\u001b[1;32m   1110\u001b[0m     name \u001b[39m=\u001b[39m \u001b[39mf\u001b[39m\u001b[39m'\u001b[39m\u001b[39mdata/\u001b[39m\u001b[39m{\u001b[39;00mkey\u001b[39m}\u001b[39;00m\u001b[39m'\u001b[39m\n\u001b[0;32m-> 1112\u001b[0m     storage \u001b[39m=\u001b[39m zip_file\u001b[39m.\u001b[39;49mget_storage_from_record(name, numel, torch\u001b[39m.\u001b[39;49mUntypedStorage)\u001b[39m.\u001b[39m_typed_storage()\u001b[39m.\u001b[39m_untyped_storage\n\u001b[1;32m   1113\u001b[0m     \u001b[39m# TODO: Once we decide to break serialization FC, we can\u001b[39;00m\n\u001b[1;32m   1114\u001b[0m     \u001b[39m# stop wrapping with TypedStorage\u001b[39;00m\n\u001b[1;32m   1115\u001b[0m     typed_storage \u001b[39m=\u001b[39m torch\u001b[39m.\u001b[39mstorage\u001b[39m.\u001b[39mTypedStorage(\n\u001b[1;32m   1116\u001b[0m         wrap_storage\u001b[39m=\u001b[39mrestore_location(storage, location),\n\u001b[1;32m   1117\u001b[0m         dtype\u001b[39m=\u001b[39mdtype,\n\u001b[1;32m   1118\u001b[0m         _internal\u001b[39m=\u001b[39m\u001b[39mTrue\u001b[39;00m)\n",
      "\u001b[0;31mKeyboardInterrupt\u001b[0m: "
     ]
    }
   ],
   "source": [
    "import torch\n",
    "from torch_geometric.data import HeteroData\n",
    "\n",
    "\n",
    "filename = 'Job_Skill_HeteroData_withdupes_fulldataset_v1.pt'\n",
    "if os.path.exists('./'+filename):\n",
    "    data = HeteroData.from_dict(torch.load('./'+filename))\n",
    "    print('loading saved heterodata object')"
   ]
  },
  {
   "cell_type": "code",
   "execution_count": null,
   "metadata": {},
   "outputs": [
    {
     "name": "stdout",
     "output_type": "stream",
     "text": [
      "Using 0 workers in the dataloader for edgetype ('Job', 'REQUIRES', 'Skill')\n",
      "Using 0 workers in the dataloader for edgetype ('Job', 'IS_SIMILAR_JOB', 'Job')\n",
      "Using 0 workers in the dataloader for edgetype ('Job', 'REQUIRES', 'Skill')\n",
      "Using 0 workers in the dataloader for edgetype ('Job', 'IS_SIMILAR_JOB', 'Job')\n",
      "Using 0 workers in the dataloader for edgetype ('Job', 'REQUIRES', 'Skill')\n",
      "Using 0 workers in the dataloader for edgetype ('Job', 'IS_SIMILAR_JOB', 'Job')\n"
     ]
    }
   ],
   "source": [
    "from torch_geometric import seed_everything\n",
    "import torch_geometric.transforms as T\n",
    "\n",
    "\n",
    "transform = T.RandomLinkSplit(\n",
    "    is_undirected=True,\n",
    "    edge_types=[\n",
    "        ('Job', 'REQUIRES', 'Skill'),\n",
    "        ('Skill', 'IS_SIMILAR_SKILL', 'Skill'),\n",
    "        ('Job', 'IS_SIMILAR_JOB', 'Job')\n",
    "        ],\n",
    "    rev_edge_types=[\n",
    "        ('Skill', 'rev_REQUIRES', 'Job'),\n",
    "        ('Skill', 'rev_IS_SIMILAR_SKILL', 'Skill'),\n",
    "        ('Job', 'rev_IS_SIMILAR_JOB', 'Job')\n",
    "    ],\n",
    "    num_val=0.005,\n",
    "    num_test=0.01,\n",
    "    add_negative_train_samples=False, # only adds neg samples for val and test, neg train are added by LinkNeighborLoader. This means for each train batch, negs. are different, for val and train they stay the same\n",
    "    neg_sampling_ratio=1.0,\n",
    "    disjoint_train_ratio=0, #  training edges are shared for message passing and supervision\n",
    "    \n",
    "\n",
    "    )\n",
    "\n",
    "seed_everything(14)\n",
    "train_data, val_data, test_data = transform(data)\n",
    "\n",
    "from typing import Tuple, List\n",
    "from torch_geometric.loader import LinkNeighborLoader\n",
    "from torch_geometric.sampler import NegativeSampling\n",
    "from torch_geometric.data import HeteroData\n",
    "import gc\n",
    "import multiprocessing as mp\n",
    "\n",
    "\n",
    "def create_loader(data:HeteroData, edge_type:Tuple[str,str,str], num_neighbors:List[int], negative_sampling_amount:int, batch_size:int, is_training:bool)->LinkNeighborLoader:\n",
    "\n",
    "    #print('create mini-batches for', edge)\n",
    "\n",
    "    negative_sampling = NegativeSampling(\n",
    "        mode='binary',\n",
    "        amount=negative_sampling_amount  # ratio, like Graphsage\n",
    "        #weight=  # \"Probabilities\" of nodes to be sampled: Node degree follows power law distribution\n",
    "        )\n",
    "    num_workers = 0\n",
    "    \n",
    "    loader = LinkNeighborLoader(\n",
    "        data,\n",
    "        num_neighbors={\n",
    "            ('Job', 'REQUIRES', 'Skill'):[5,4],\n",
    "            ('Skill', 'rev_REQUIRES', 'Job'):[5,4],\n",
    "            ('Skill', 'IS_SIMILAR_SKILL', 'Skill'):[5,4], # In this example, index 0 will never be used, since neighboring edge to a job node can't be a skill-skill edge\n",
    "            ('Skill', 'rev_IS_SIMILAR_SKILL', 'Skill'):[5,4],\n",
    "            ('Job', 'IS_SIMILAR_JOB', 'Job'):[5,4],\n",
    "            ('Job', 'rev_IS_SIMILAR_JOB', 'Job'):[5,4],\n",
    "        },\n",
    "        edge_label_index=(edge_type, data[edge_type].edge_label_index), # if (edge, None), None means all edges are considered\n",
    "     \n",
    "        neg_sampling=negative_sampling, # adds negative samples\n",
    "        batch_size=batch_size,\n",
    "        shuffle=is_training,\n",
    "        #drop_last=True,\n",
    "        num_workers=num_workers,\n",
    "        directed=True,  # contains only edges which are followed, False: contains full node induced subgraph\n",
    "        #disjoint=True # sampled seed node creates its own, disjoint from the rest, subgraph, will add \"batch vector\" to loader output\n",
    "        pin_memory=True, # faster data transfer to gpu\n",
    "        #num_workers=2,\n",
    "        #prefetch_factor=2\n",
    "    )\n",
    "    print(f'Using {num_workers} workers in the dataloader for edgetype {edge_type}')\n",
    "# A\n",
    "    return loader\n",
    "\n",
    "\n",
    "batch_size=64\n",
    "num_neighbors = [5,4]\n",
    "\n",
    "def create_iterator(data, is_training:bool):\n",
    "    loaders = []\n",
    "    supervision_edge_types = []\n",
    "    for edge_type in [\n",
    "        ('Job', 'REQUIRES', 'Skill'),\n",
    "        ('Job', 'IS_SIMILAR_JOB', 'Job'), \n",
    "        # ('Skill', 'IS_SIMILAR_SKILL', 'Skill')\n",
    "        ]:\n",
    "        # if 'rev_' in edge_type[1]:\n",
    "        #     continue    \n",
    "        # we dont need rev_ target edges, since they are the same\n",
    "        # rev edges are only needed in the later step for the gnn traversal\n",
    "        # create mini-batches for each edge type, because LinkNeighborLoader only allows one target edge type\n",
    "     \n",
    "        loader = create_loader(\n",
    "            data=data,\n",
    "            edge_type=edge_type,\n",
    "            num_neighbors=num_neighbors,\n",
    "            batch_size=batch_size,\n",
    "            is_training=is_training,\n",
    "            negative_sampling_amount=(20 if is_training else 1)\n",
    "        )\n",
    "        loaders.append(loader)\n",
    "        supervision_edge_types.append(edge_type)\n",
    "    \n",
    "    \n",
    "    # creates an iterator which has as many elements as the longest iterable\n",
    "    # other iterables will be repeated until the longest is done\n",
    "    length = 0\n",
    "    index = 0\n",
    "    for i, iterable in enumerate(loaders):\n",
    "        l = len(iterable)\n",
    "        if l>length:\n",
    "            length = l\n",
    "            index = i\n",
    "            \n",
    " \n",
    "    # for loader in loaders:\n",
    "    #     minibatch = next(iter(loader))\n",
    "        \n",
    "\n",
    "    longest_loader = loaders.pop(index)\n",
    "    longest_loader_edge_type = supervision_edge_types.pop(index)\n",
    "    \n",
    "   \n",
    "    # create a list of iterators\n",
    "    iterators = [iter(loader) for loader in loaders]\n",
    "    \n",
    "    def iterator():\n",
    "        for batch in longest_loader:\n",
    "            batches = [(longest_loader_edge_type,batch)]\n",
    "            for i in range(len(iterators)):\n",
    "                try:\n",
    "                    batches.append((supervision_edge_types[i],next(iterators[i])))\n",
    "                   \n",
    "                except StopIteration:\n",
    "                    iterators[i] = iter(loaders[i]) # will \"reinit\" iterator\n",
    "                    batches.append((supervision_edge_types[i],next(iterators[i])))\n",
    "                    \n",
    "                    \n",
    "            yield tuple(batches)\n",
    "\n",
    "    return iterator, len(longest_loader)\n",
    "    \n",
    "    \n",
    "\n",
    "# watch -n 1 df -h /dev/shm\n",
    "gc.collect()\n",
    "train_iterator, train_batch_len = create_iterator(train_data, is_training=True)\n",
    "val_iterator, val_batch_len = create_iterator(val_data, is_training=False)\n",
    "test_iterator, test_batch_len = create_iterator(test_data, is_training=False)"
   ]
  },
  {
   "cell_type": "code",
   "execution_count": 139,
   "metadata": {},
   "outputs": [
    {
     "ename": "NameError",
     "evalue": "name 'val_iterator' is not defined",
     "output_type": "error",
     "traceback": [
      "\u001b[0;31m---------------------------------------------------------------------------\u001b[0m",
      "\u001b[0;31mNameError\u001b[0m                                 Traceback (most recent call last)",
      "\u001b[1;32m/home/amos/programming/create_graphds/embedding_db_query.ipynb Cell 21\u001b[0m line \u001b[0;36m1\n\u001b[0;32m----> <a href='vscode-notebook-cell://wsl%2Bubuntu/home/amos/programming/create_graphds/embedding_db_query.ipynb#X26sdnNjb2RlLXJlbW90ZQ%3D%3D?line=0'>1</a>\u001b[0m batch \u001b[39m=\u001b[39m \u001b[39mnext\u001b[39m(\u001b[39miter\u001b[39m(val_iterator()))\n",
      "\u001b[0;31mNameError\u001b[0m: name 'val_iterator' is not defined"
     ]
    }
   ],
   "source": [
    "batch = next(iter(val_iterator()))"
   ]
  },
  {
   "cell_type": "code",
   "execution_count": null,
   "metadata": {},
   "outputs": [
    {
     "data": {
      "text/plain": [
       "tensor([ 1292,  1552,  1955,  2860,  3459,  3463,  3717,  3838,  4929,  5186,\n",
       "         5200,  5221,  5345,  5501,  6506,  6997,  6998,  7283,  7287,  7942,\n",
       "         8122,  9227,  9480,  9685, 10146, 10324, 10931, 11097, 11261, 12220,\n",
       "        12458, 12715, 12777, 14243, 14848, 15178, 15329, 16073, 17326, 17999,\n",
       "        18100, 18368, 18424, 18624, 18945, 18995, 19712, 19884, 19933, 20122])"
      ]
     },
     "execution_count": 41,
     "metadata": {},
     "output_type": "execute_result"
    }
   ],
   "source": [
    "batch[1][1]['Job'].n_id[:50]"
   ]
  },
  {
   "cell_type": "code",
   "execution_count": null,
   "metadata": {},
   "outputs": [],
   "source": [
    "mappings = torch.load('Job_Skill_HeteroData_name_mappings_withdupes_fulldataset_v1.pt')"
   ]
  },
  {
   "cell_type": "code",
   "execution_count": 146,
   "metadata": {},
   "outputs": [
    {
     "name": "stdout",
     "output_type": "stream",
     "text": [
      "Found Jobs:\n",
      "Meat, Poultry, and Fish Cutters and Trimmers/Chicken Cutter\n",
      "\n",
      ">>> choosing Meat, Poultry, and Fish Cutters and Trimmers/Chicken Cutter <<<\n",
      "Similar concepts:\n",
      "-0.00000 Meat, Poultry, and Fish Cutters and Trimmers/Chicken Cutter\n",
      "0.01161 Embalmers/Embalmer\n",
      "0.01180 Captains, Mates, and Pilots of Water Vessels/Tugboat Mate\n",
      "0.01181 Food Preparation Workers/Pie Cutter\n",
      "0.01290 Cutting and Slicing Machine Setters, Operators, and Tenders/Shredder\n",
      "0.01472 Butchers and Meat Cutters/Journeyman Meat Cutter\n",
      "0.01503 Production Workers, All Other/Cheesemaking Laborer\n",
      "0.01573 Production Workers, All Other/Job Hand\n",
      "0.01575 Packers and Packagers, Hand/Meat Wrapper\n",
      "0.01593 Production Workers, All Other/Nylon Machine Operator\n",
      "0.01625 Farmworkers and Laborers, Crop, Nursery, and Greenhouse/Farm Hand\n",
      "0.01729 Title Examiners, Abstractors, and Searchers/Escrow Officer\n",
      "0.01760 Gambling Cage Workers/Gaming Cage Cashier\n",
      "0.01778 Packers and Packagers, Hand/Meat Packer\n",
      "0.01779 First-Line Supervisors of Gambling Services Workers/Casino Slot Supervisor\n",
      "0.01792 Production Workers, All Other/Rubber Worker\n",
      "0.01804 Gambling Managers/Gambling Manager\n",
      "0.01821 Managers, All Other/Hospitality House Supervisor\n",
      "0.01832 Chief Executives/Executive Vice President (EVP)\n",
      "0.01848 Hotel, Motel, and Resort Desk Clerks/Hotel Clerk\n",
      "0.01853 First-Line Supervisors of Production and Operating Workers/Cooking Supervisor\n",
      "0.01857 First-Line Supervisors of Farming, Fishing, and Forestry Workers/Harvest Supervisor\n",
      "0.01858 Gambling Change Persons and Booth Cashiers/Bingo Cashier\n",
      "0.01864 Recycling Coordinators/Recycling Supervisor\n",
      "0.01866 Helpers--Extraction Workers/Derrick Hand\n",
      "0.01876 Gambling Change Persons and Booth Cashiers/Booth Cashier\n",
      "0.01880 Print Binding and Finishing Workers/Bindery Cutter Operator\n",
      "0.01882 First-Line Supervisors of Production and Operating Workers/Tubing Supervisor\n",
      "0.01884 Bakers/Pastry Decorator\n",
      "0.01888 Gambling Cage Workers/Gambling Cashier\n",
      "0.01894 First-Line Supervisors of Food Preparation and Serving Workers/Fountain Supervisor\n"
     ]
    }
   ],
   "source": [
    "demo('Job','*Chicken Cutter*','Job')"
   ]
  },
  {
   "cell_type": "code",
   "execution_count": null,
   "metadata": {},
   "outputs": [
    {
     "data": {
      "text/plain": [
       "'First-Line Supervisors of Food Preparation and Serving Workers/Cafeteria Manager'"
      ]
     },
     "execution_count": 87,
     "metadata": {},
     "output_type": "execute_result"
    }
   ],
   "source": [
    "mappings['jobmapping_index_to_title_alttile'][mappings['inverted_jobmapping'][18995]]"
   ]
  },
  {
   "cell_type": "code",
   "execution_count": null,
   "metadata": {},
   "outputs": [
    {
     "name": "stdout",
     "output_type": "stream",
     "text": [
      "Found Skills:\n",
      "cloud native systems\n",
      "\n",
      ">>> choosing cloud native systems <<<\n",
      "Similar concepts:\n",
      "0.75876 Light Truck Drivers/Bulk Delivery Driver\n",
      "0.75893 Logistics Analysts/Inventory Control Analyst\n",
      "0.75959 Motor Vehicle Operators, All Other/New Autos Delivery Driver\n",
      "0.75975 Light Truck Drivers/Pharmacy Delivery Driver\n",
      "0.76187 Stockers and Order Fillers/Stock Checker\n",
      "0.76297 First-Line Supervisors of Office and Administrative Support Workers/Stock Control Supervisor\n",
      "0.76349 First-Line Supervisors of Retail Sales Workers/Stock Manager\n",
      "0.76469 Transportation, Storage, and Distribution Managers/Shipping Receiving Manager\n",
      "0.76481 First-Line Supervisors of Office and Administrative Support Workers/Inventory Control Manager\n",
      "0.76538 News Analysts, Reporters, and Journalists/Breaking News Reporter\n",
      "0.76555 Securities, Commodities, and Financial Services Sales Agents/Stock Associate\n",
      "0.76674 Stockers and Order Fillers/Store Stocker\n",
      "0.76743 Stockers and Order Fillers/Stock Deliverer\n",
      "0.76745 Stockers and Order Fillers/Stock Counter\n",
      "0.76761 Stockers and Order Fillers/Stock Controller\n",
      "0.76871 Laborers and Freight, Stock, and Material Movers, Hand/Shipping and Receiving Materials Handler\n",
      "0.76931 Business Intelligence Analysts/Business Technology Consultant\n",
      "0.76951 Heavy and Tractor-Trailer Truck Drivers/Delivery Truck Driver\n",
      "0.76979 Industrial Engineering Technologists and Technicians/Production Control Technologist\n",
      "0.77044 Molding, Coremaking, and Casting Machine Setters, Operators, and Tenders, Metal and Plastic/Injection Molding Process Technician\n",
      "0.77068 First-Line Supervisors of Material-Moving Machine and Vehicle Operators/Shipping Receiving Manager\n",
      "0.77104 Laborers and Freight, Stock, and Material Movers, Hand/Shipping and Receiving Material Handler\n",
      "0.77134 Logistics Analysts/Inventory Analyst\n",
      "0.77147 Aviation Inspectors/Manufacturing Safety Inspector\n",
      "0.77198 Customs Brokers/Corporate Licensed Broker\n",
      "0.77238 Production Workers, All Other/Hand Paint Mixer\n",
      "0.77253 Desktop Publishers/Desktop Publishing Specialist\n",
      "0.77256 Laborers and Freight, Stock, and Material Movers, Hand/Parcel Carrier\n",
      "0.77266 Food Preparation Workers/Seafood Preparer\n",
      "0.77285 Geographic Information Systems Technologists and Technicians/Geospatial Information Technologist\n",
      "0.77329 Logistics Analysts/Logistics Management Analyst\n"
     ]
    }
   ],
   "source": [
    "demo('Skill','* cloud native systems','Job')"
   ]
  },
  {
   "cell_type": "code",
   "execution_count": null,
   "metadata": {},
   "outputs": [
    {
     "name": "stdout",
     "output_type": "stream",
     "text": [
      "Found Skills:\n",
      "project planning and management\n",
      "external communications planning\n",
      "procurement planning and execution\n",
      "care planning and modification\n",
      "resource capacity planning\n",
      "\n",
      ">>> choosing project planning and management <<<\n",
      "Similar concepts:\n",
      "1.00000 Computer and Information Systems Managers/Knowledge Manager\n",
      "1.00000 Computer and Information Systems Managers/Information Technology Administrator (IT Administrator)\n",
      "1.00000 Administrative Services Managers/Administrative Coordinator\n",
      "1.00000 Computer and Information Systems Managers/Information Support Project Manager\n",
      "1.00000 Computer and Information Systems Managers/Development Manager\n",
      "1.00000 Computer and Information Systems Managers/Information Services Manager\n",
      "1.00000 Administrative Services Managers/Administrative Manager\n",
      "1.00000 Administrative Services Managers/Administrative Officer\n",
      "1.00000 Administrative Services Managers/Administrative Services Manager\n",
      "1.00000 Computer and Information Systems Managers/Information Systems Administrator\n",
      "1.00000 Fundraising Managers/Fundraising Manager\n",
      "1.00000 Computer and Information Systems Managers/Product Support Manager\n",
      "1.00000 Administrative Services Managers/Administrator\n",
      "1.00000 Administrative Services Managers/Business Administrator\n",
      "1.00000 Administrative Services Managers/Business Manager\n",
      "1.00000 Administrative Services Managers/Business Office Director\n",
      "1.00000 Administrative Services Managers/Business Office Manager\n",
      "1.00000 Administrative Services Managers/Business Unit Manager\n",
      "1.00000 Administrative Services Managers/Operations Administrator\n",
      "1.00000 Administrative Services Managers/Service Director\n",
      "1.00000 Computer and Information Systems Managers/Information Systems Manager (IS Manager)\n",
      "1.00000 Facilities Managers/Facilities Director\n",
      "1.00000 Facilities Managers/Facilities Maintenance Manager\n",
      "1.00000 Fundraising Managers/Development Director\n",
      "1.00000 General and Operations Managers/Site Operations Manager\n",
      "1.00000 General and Operations Managers/Revenue Manager\n",
      "1.00000 General and Operations Managers/Sports Team Manager\n",
      "1.00000 Facilities Managers/Facilities Manager\n",
      "1.00000 Chief Executives/Chief Warden\n",
      "1.00000 Advertising and Promotions Managers/Digital Advertising Manager (Digital Ad Manager)\n",
      "1.00000 Advertising and Promotions Managers/Digital Advertising Director\n"
     ]
    }
   ],
   "source": [
    "demo('Skill','planning','Job')"
   ]
  },
  {
   "cell_type": "code",
   "execution_count": null,
   "metadata": {},
   "outputs": [
    {
     "name": "stdout",
     "output_type": "stream",
     "text": [
      "Found Skills:\n",
      "manual dexterity and accuracy\n",
      "manual finger dexterity\n",
      "finger and manual dexterity\n",
      "good manual dexterity\n",
      "use of manual dexterity\n",
      "\n",
      ">>> choosing manual dexterity and accuracy <<<\n",
      "Similar concepts:\n",
      "0.86272 Electronics Engineers, Except Computer/Communications Engineer\n",
      "0.86414 Network and Computer Systems Administrators/Internet Systems Administrator\n",
      "0.86421 Captains, Mates, and Pilots of Water Vessels/River Pilot\n",
      "0.86423 Computer Network Support Specialists/Network Specialist\n",
      "0.86576 Public Safety Telecommunicators/Telecommunicator\n",
      "0.86581 Computer Network Support Specialists/Network Management Specialist\n",
      "0.86634 Information Security Analysts/Internet Security Specialist\n",
      "0.86650 Aerospace Engineers/Flight Engineer\n",
      "0.86696 Computer Network Architects/Network Specialist\n",
      "0.86799 Sales Representatives, Wholesale and Manufacturing, Technical and Scientific Products/Technical Service Representative\n",
      "0.86814 Electronics Engineers, Except Computer/Telecommunications Engineer\n",
      "0.86816 Computer Network Support Specialists/Computer Network Specialist\n",
      "0.86825 Web Developers/Internet Specialist\n",
      "0.86851 Water/Wastewater Engineers/Water Project Engineer\n",
      "0.86863 Public Safety Telecommunicators/911 Telecommunicator\n",
      "0.86870 Customer Service Representatives/Phone Representative\n",
      "0.86871 Architects, Except Landscape and Naval/Architect\n",
      "0.86874 Computer Network Architects/Networking Engineer\n",
      "0.86898 Baggage Porters and Bellhops/Bellperson\n",
      "0.86900 Biologists/Aquatic Scientist\n",
      "0.86910 Computer Systems Analysts/Computer Architect\n",
      "0.86943 Computer Network Architects/Telecommunications Analyst\n",
      "0.86988 Computer Network Support Specialists/Network Operations Specialist\n",
      "0.87006 Telecommunications Line Installers and Repairers/Telephone Lineworker\n",
      "0.87008 Environmental Engineers/Environmental Designer\n",
      "0.87023 Telecommunications Equipment Installers and Repairers, Except Line Installers/Broadband Technician\n",
      "0.87032 Aerospace Engineers/Aircraft Engineer\n",
      "0.87041 Electricians/Electrical Journeyman\n",
      "0.87064 Animal Caretakers/Aquarist\n",
      "0.87074 Computer Network Support Specialists/Networking Specialist\n",
      "0.87076 Computer Systems Analysts/Engineering Systems Analyst\n"
     ]
    }
   ],
   "source": [
    "demo('Skill','manual dexterity','Job')"
   ]
  },
  {
   "cell_type": "code",
   "execution_count": null,
   "metadata": {},
   "outputs": [],
   "source": [
    "demo('Job',mappings['jobmapping_index_to_title_alttile'][mappings['inverted_jobmapping'][18995]],'Job')"
   ]
  },
  {
   "cell_type": "code",
   "execution_count": null,
   "metadata": {},
   "outputs": [
    {
     "name": "stdout",
     "output_type": "stream",
     "text": [
      "Found Jobs:\n",
      "Logistics Analysts/Inventory Control Analyst\n",
      "\n",
      ">>> choosing Logistics Analysts/Inventory Control Analyst <<<\n",
      "Similar concepts:\n",
      "0.53348 print production techniques\n",
      "0.53865 process and procedures\n",
      "0.56089 fact-based decision-making\n",
      "0.56286 surface characterization\n",
      "0.56308 analyzing patents\n",
      "0.56357 data entry and retrieval\n",
      "0.56512 qa testing tools\n",
      "0.56512 unmanned systems\n",
      "0.56512 google ads platform\n",
      "0.56512 procurement transactions\n",
      "0.56512 performance and reliability testing\n"
     ]
    }
   ],
   "source": [
    "demo('Job',mappings['jobmapping_index_to_title_alttile'][mappings['inverted_jobmapping'][2860]],'Skill')\n",
    "https://login.microsoftonline.com/684b973b-fb6c-4e5d-984e-effedb1ee0b6/oauth2/authorize?client_id=684b973b-fb6c-4e5d-984e-effedb1ee0b6&response_type=id_token+code&redirect_uri=https%3A%2F%2Fwestus2.azuredatabricks.net%2Faad%2Fredirect&state=AHyPsQgAAAGLJSVCNp8gcxaWHjliP2Zyb21fcGVyX3dvcmtzcGFjZV91cmw9dHJ1ZSZvPTUyMzI4MzY0NjYzNjcyN_TDEoTVNvh6JUIIaN-SukI4ft9DJcfyXufkFaqe-vjW&response_mode=form_post&scope=openid3&nonce=-6980452881579230878"
   ]
  },
  {
   "cell_type": "code",
   "execution_count": null,
   "metadata": {},
   "outputs": [
    {
     "name": "stdout",
     "output_type": "stream",
     "text": [
      "Found Jobs:\n",
      "Architects, Except Landscape and Naval/Specifications Writer\n",
      "\n",
      ">>> choosing Architects, Except Landscape and Naval/Specifications Writer <<<\n",
      "Similar concepts:\n",
      "0.55691 process and procedures\n",
      "0.55862 print production techniques\n",
      "0.59912 fact-based decision-making\n",
      "0.60059 analyzing patents\n",
      "0.60070 surface characterization\n",
      "0.60190 procurement transactions\n",
      "0.60190 programmatic leadership\n",
      "0.60190 cable splicing\n",
      "0.60190 performance and reliability testing\n",
      "0.60190 qa testing tools\n",
      "0.60190 google ads platform\n"
     ]
    }
   ],
   "source": [
    "demo('Job',mappings['jobmapping_index_to_title_alttile'][mappings['inverted_jobmapping'][5501]],'Skill')"
   ]
  },
  {
   "cell_type": "code",
   "execution_count": null,
   "metadata": {},
   "outputs": [
    {
     "name": "stdout",
     "output_type": "stream",
     "text": [
      "Found Jobs:\n",
      "Clinical Research Coordinators/Clinical Research Director\n",
      "\n",
      ">>> choosing Clinical Research Coordinators/Clinical Research Director <<<\n",
      "Similar concepts:\n",
      "0.57790 process and procedures\n",
      "0.58642 print production techniques\n",
      "0.64053 analyzing patents\n",
      "0.64061 fact-based decision-making\n",
      "0.64094 procurement transactions\n",
      "0.64094 unmanned systems\n",
      "0.64094 performance and reliability testing\n",
      "0.64094 programmatic leadership\n",
      "0.64094 cable splicing\n",
      "0.64094 qa testing tools\n",
      "0.64094 healthcare marketplace\n",
      "0.64094 google ads platform\n",
      "0.64103 surface characterization\n",
      "0.64152 user provisioning\n",
      "0.64595 data entry and retrieval\n",
      "0.64628 background verification\n",
      "0.65246 operating welding equipment\n",
      "0.65888 good judgement\n",
      "0.66054 problem formulation\n",
      "0.66349 environmental plan\n",
      "0.66473 control panel layout\n",
      "0.67371 wireless device support\n",
      "0.69324 understanding of cloud services\n",
      "0.73713 data governance strategies\n",
      "0.73838 quality service improvement\n",
      "0.74208 global services organization\n",
      "0.74273 usability efforts\n",
      "0.74453 value added service\n",
      "0.74822 operations oversight\n",
      "0.75107 identity governance and administration\n",
      "0.75135 annual planning\n"
     ]
    }
   ],
   "source": [
    "demo('Job',mappings['jobmapping_index_to_title_alttile'][mappings['inverted_jobmapping'][1552]],'Skill')"
   ]
  },
  {
   "cell_type": "code",
   "execution_count": null,
   "metadata": {},
   "outputs": [
    {
     "name": "stdout",
     "output_type": "stream",
     "text": [
      "Found Skills:\n",
      "automation using python\n",
      "\n",
      ">>> choosing automation using python <<<\n",
      "Similar concepts:\n",
      "0.00000 automation using python\n",
      "0.05167 computerized patient care systems\n",
      "0.12407 data collecting\n",
      "0.14114 oral and written reports\n",
      "0.14987 peer-reviewed publications\n",
      "0.15035 personnel support\n",
      "0.15037 primary location\n",
      "0.15324 scheduling policies\n",
      "0.15445 digital camera\n",
      "0.15459 climate change\n",
      "0.15491 managed care industry knowledge\n"
     ]
    }
   ],
   "source": [
    "demo('Skill','automation using python','Skill')"
   ]
  },
  {
   "cell_type": "code",
   "execution_count": null,
   "metadata": {},
   "outputs": [
    {
     "name": "stdout",
     "output_type": "stream",
     "text": [
      "Found Skills:\n",
      "automation using python\n",
      "\n",
      ">>> choosing automation using python <<<\n",
      "Similar concepts:\n",
      "0.00000 automation using python\n",
      "0.05167 computerized patient care systems\n",
      "0.12407 data collecting\n",
      "0.14114 oral and written reports\n",
      "0.14987 peer-reviewed publications\n",
      "0.15035 personnel support\n",
      "0.15037 primary location\n",
      "0.15324 scheduling policies\n",
      "0.15445 digital camera\n",
      "0.15459 climate change\n",
      "0.15491 managed care industry knowledge\n"
     ]
    }
   ],
   "source": [
    "demo('Skill','automation using python','Skill')"
   ]
  },
  {
   "cell_type": "code",
   "execution_count": null,
   "metadata": {},
   "outputs": [
    {
     "name": "stdout",
     "output_type": "stream",
     "text": [
      "Found Jobs:\n",
      "Accountants and Auditors/General Ledger Accountant\n",
      "Accountants and Auditors/General Accountant\n",
      "\n",
      ">>> choosing Accountants and Auditors/General Ledger Accountant <<<\n",
      "Similar concepts:\n",
      "0.58790 process and procedures\n",
      "0.59110 print production techniques\n",
      "0.63379 analyzing patents\n",
      "0.63417 surface characterization\n",
      "0.63428 fact-based decision-making\n",
      "0.63446 cable splicing\n",
      "0.63446 healthcare marketplace\n",
      "0.63446 performance and reliability testing\n",
      "0.63446 procurement transactions\n",
      "0.63446 qa testing tools\n",
      "0.63446 google ads platform\n"
     ]
    }
   ],
   "source": [
    "demo('Job',mappings['jobmapping_index_to_title_alttile'][mappings['inverted_jobmapping'][3459]],'Skill')"
   ]
  },
  {
   "cell_type": "code",
   "execution_count": null,
   "metadata": {},
   "outputs": [
    {
     "name": "stdout",
     "output_type": "stream",
     "text": [
      "Found Jobs:\n",
      "Insulation Workers, Floor, Ceiling, and Wall/Construction Insulation Installer\n",
      "First-Line Supervisors of Construction Trades and Extraction Workers/Multifamily Superintendent\n",
      "First-Line Supervisors of Construction Trades and Extraction Workers/Commercial Construction Superintendent\n",
      "First-Line Supervisors of Construction Trades and Extraction Workers/Building Insulation Supervisor\n",
      "First-Line Supervisors of Construction Trades and Extraction Workers/Painting Supervisor\n",
      "\n",
      ">>> choosing Insulation Workers, Floor, Ceiling, and Wall/Construction Insulation Installer <<<\n",
      "Similar concepts:\n",
      "0.00000 Insulation Workers, Floor, Ceiling, and Wall/Construction Insulation Installer\n",
      "0.00858 Insulation Workers, Floor, Ceiling, and Wall/Insulation Installer\n",
      "0.01141 Insulation Workers, Floor, Ceiling, and Wall/Fiberglass Insulation Installer\n",
      "0.01398 Carpenters/Panel Installer\n",
      "0.01467 Heating, Air Conditioning, and Refrigeration Mechanics and Installers/Heating Systems Installer\n",
      "0.01524 Sheet Metal Workers/HVAC Sheet Metal Installer (Heating, Ventilation, and Air Conditioning Sheet Metal Installer)\n",
      "0.01567 Helpers--Installation, Maintenance, and Repair Workers/Installation Service Assistant\n",
      "0.01636 Control and Valve Installers and Repairers, Except Mechanical Door/Electric Meter Installer\n",
      "0.01689 Carpenters/Garage Door Installer\n",
      "0.01712 Solar Photovoltaic Installers/Solar Panel Installer\n",
      "0.01713 Solar Photovoltaic Installers/Solar Photovoltaic Installer (Solar PV Installer)\n"
     ]
    }
   ],
   "source": [
    "demo('Job','*Construction Worker*','Job')"
   ]
  }
 ],
 "metadata": {
  "kernelspec": {
   "display_name": "pyg",
   "language": "python",
   "name": "python3"
  },
  "language_info": {
   "codemirror_mode": {
    "name": "ipython",
    "version": 3
   },
   "file_extension": ".py",
   "mimetype": "text/x-python",
   "name": "python",
   "nbconvert_exporter": "python",
   "pygments_lexer": "ipython3",
   "version": "3.10.12"
  }
 },
 "nbformat": 4,
 "nbformat_minor": 2
}
