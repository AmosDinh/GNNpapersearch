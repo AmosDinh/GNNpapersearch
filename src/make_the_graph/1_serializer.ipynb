{
 "cells": [
  {
   "cell_type": "code",
   "execution_count": null,
   "metadata": {},
   "outputs": [],
   "source": [
    "import pickle \n",
    "dataset = pickle.load(open(\"arxiv_author_paper_graph_training_v1.pkl\", \"rb\"))"
   ]
  },
  {
   "cell_type": "code",
   "execution_count": null,
   "metadata": {},
   "outputs": [],
   "source": [
    "dataset"
   ]
  },
  {
   "cell_type": "code",
   "execution_count": null,
   "metadata": {},
   "outputs": [],
   "source": [
    "dataset "
   ]
  },
  {
   "cell_type": "code",
   "execution_count": null,
   "metadata": {},
   "outputs": [],
   "source": [
    "import os \n",
    "import torch\n",
    "def save_heterograph_dataset(dataset, folder):\n",
    "    os.makedirs(folder, exist_ok=True)\n",
    "    \n",
    "    for edge_or_node_type in dataset.node_types+dataset.edge_types:\n",
    "        if isinstance(edge_or_node_type, tuple):\n",
    "            name = '_'.join(edge_or_node_type) + \".pt\"\n",
    "        else:\n",
    "            name = edge_or_node_type + \".pt\"\n",
    "        data = {}\n",
    "        print('save', name)\n",
    "        for key, value in dataset[edge_or_node_type].items():\n",
    "            data[key] = value\n",
    "        torch.save({'name':edge_or_node_type, 'attributes':data}, os.path.join(folder, name))\n",
    "\n",
    "save_heterograph_dataset(dataset, \"train_data_arxiv_paper\")"
   ]
  },
  {
   "cell_type": "code",
   "execution_count": null,
   "metadata": {},
   "outputs": [],
   "source": [
    "from torch_geometric.data import HeteroData\n",
    "def load_heterograph_dataset(folder):\n",
    "    dataset = HeteroData()\n",
    "    for name in os.listdir(folder):\n",
    "        print('load', name)\n",
    "        path = os.path.join(folder, name)\n",
    "        if os.path.isfile(path):\n",
    "            data = torch.load(path)\n",
    "            for key, value in data['attributes'].items():\n",
    "                dataset[data['name']][key] = value\n",
    "    return dataset"
   ]
  },
  {
   "cell_type": "code",
   "execution_count": null,
   "metadata": {},
   "outputs": [],
   "source": [
    "dataset = pickle.load(open(\"arxiv_author_paper_graph_no_features_bare.pkl\", \"rb\"))\n",
    "save_heterograph_dataset(dataset, \"whole_graph\")\n"
   ]
  },
  {
   "cell_type": "code",
   "execution_count": null,
   "metadata": {},
   "outputs": [],
   "source": [
    "test_dataset = load_heterograph_dataset(\"train_data_arxiv_paper\")"
   ]
  }
 ],
 "metadata": {
  "kernelspec": {
   "display_name": "gnnpapersearch",
   "language": "python",
   "name": "python3"
  },
  "language_info": {
   "codemirror_mode": {
    "name": "ipython",
    "version": 3
   },
   "file_extension": ".py",
   "mimetype": "text/x-python",
   "name": "python",
   "nbconvert_exporter": "python",
   "pygments_lexer": "ipython3",
   "version": "3.10.13"
  }
 },
 "nbformat": 4,
 "nbformat_minor": 2
}
