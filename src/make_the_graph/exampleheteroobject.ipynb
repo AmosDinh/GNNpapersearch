{
 "cells": [
  {
   "cell_type": "code",
   "execution_count": null,
   "metadata": {},
   "outputs": [],
   "source": [
    "from torch_geometric.data import HeteroData\n",
    "import torch \n",
    "data = HeteroData()\n",
    "\n",
    "data['paper'].num_nodes = 2\n",
    "data['paper'].license = ['llicensepaper1', 'licensepaper2']\n",
    "data['paper'].categories = [['cs.AI', 'cs.LG'], ['cs.CV', 'cs.LG']]\n",
    "data['paper'].doi = ['doi123', None]\n",
    "data['paper'].title = ['Attention is all you need','BERT: Pre-training of Deep Bidirectional Transformers for Language Understanding']\n",
    "data['paper'].comment = ['comment1', 'comment2'] # comment without the page and figure numbers\n",
    "\n",
    "data['author'].num_nodes = 3\n",
    "data['author'].name = ['Ashish Vaswani', 'Noam Shazeer', 'Niki Parmar']\n",
    "\n",
    "data['category'].num_nodes = 4\n",
    "data['journal'].num_nodes = 4\n",
    "data['word'].num_nodes = 5\n",
    "\n",
    "data['paper', 'written_by', 'author'].edge_index = torch.tensor([[1,4],[3,3]])\n",
    "data['paper', 'has_category','category'].edge_index = torch.tensor([[1,4],[3,3]])\n",
    "data['paper', 'in_journal','journal'].edge_index = torch.tensor([[1,4],[3,3]])\n",
    "data['paper', 'has_word','word'].edge_index = torch.tensor([[1,4],[3,3]])\n",
    "data['paper','has_titleword','word'].edge_index = torch.tensor([[1,4],[3,3]])\n",
    "data['word','cooccurs_with','word'].edge_index = torch.tensor([[1,4],[3,3]])\n",
    "\n",
    "data['paper', 'has_word','word'].edge_attr = torch.tensor([[0.34243],[0.2322]])  # tf-idf weights\n",
    "data['word','cooccurs_with','word'].edge_attr = torch.tensor([[0.34243],[0.2322]])  # pmi weights\n",
    "\n",
    "\n",
    "\n"
   ]
  }
 ],
 "metadata": {
  "language_info": {
   "name": "python"
  }
 },
 "nbformat": 4,
 "nbformat_minor": 2
}
