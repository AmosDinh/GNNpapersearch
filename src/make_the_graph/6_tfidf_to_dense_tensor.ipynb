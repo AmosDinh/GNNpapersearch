{
 "cells": [
  {
   "cell_type": "code",
   "execution_count": 1,
   "metadata": {},
   "outputs": [],
   "source": [
    "import pickle \n",
    "data = pickle.load(open('tfidf_corpus (1).pkl', 'rb'))"
   ]
  },
  {
   "cell_type": "code",
   "execution_count": 2,
   "metadata": {},
   "outputs": [
    {
     "name": "stderr",
     "output_type": "stream",
     "text": [
      "c:\\Users\\I549512\\AppData\\Local\\miniconda3\\envs\\gnnpapersearch\\Lib\\site-packages\\tqdm\\auto.py:21: TqdmWarning: IProgress not found. Please update jupyter and ipywidgets. See https://ipywidgets.readthedocs.io/en/stable/user_install.html\n",
      "  from .autonotebook import tqdm as notebook_tqdm\n",
      "100%|██████████| 1000/1000 [00:00<00:00, 46261.05it/s]\n"
     ]
    }
   ],
   "source": [
    "from tqdm.auto import tqdm\n",
    "maximum_word = 0\n",
    "for doc in tqdm(data['vectors']):\n",
    "    max_index =max([v[0] for v in doc])\n",
    "    maximum_word = max(maximum_word, max_index)\n",
    "    "
   ]
  },
  {
   "cell_type": "code",
   "execution_count": 3,
   "metadata": {},
   "outputs": [
    {
     "data": {
      "text/plain": [
       "3649"
      ]
     },
     "execution_count": 3,
     "metadata": {},
     "output_type": "execute_result"
    }
   ],
   "source": [
    "maximum_word"
   ]
  },
  {
   "cell_type": "code",
   "execution_count": 4,
   "metadata": {},
   "outputs": [
    {
     "name": "stderr",
     "output_type": "stream",
     "text": [
      "256it [00:00, 42690.12it/s]\n"
     ]
    },
    {
     "name": "stdout",
     "output_type": "stream",
     "text": [
      "0 1\n"
     ]
    },
    {
     "name": "stderr",
     "output_type": "stream",
     "text": [
      "256it [00:00, 41172.66it/s]\n"
     ]
    },
    {
     "name": "stdout",
     "output_type": "stream",
     "text": [
      "1 1\n"
     ]
    },
    {
     "name": "stderr",
     "output_type": "stream",
     "text": [
      "256it [00:00, 35968.84it/s]"
     ]
    },
    {
     "name": "stdout",
     "output_type": "stream",
     "text": [
      "2 1\n"
     ]
    },
    {
     "name": "stderr",
     "output_type": "stream",
     "text": [
      "\n"
     ]
    }
   ],
   "source": [
    "import numpy as np\n",
    "import pickle\n",
    "\n",
    "ipca = pickle.load(open('ipca_0.pkl', 'rb'))\n",
    "\n",
    "def generator(batch_size):\n",
    "    for i in range(0, len(data['vectors'])//batch_size):\n",
    "        x = data['vectors'][i*batch_size : (i+1)*batch_size]\n",
    "        ids = data['ids'][i*batch_size : (i+1)*batch_size]\n",
    "        embeddings = np.zeros((len(x), maximum_word+1))\n",
    "        for i, doc in tqdm(enumerate(x)):\n",
    "            for v in doc:\n",
    "                embeddings[i, v[0]] = v[1]\n",
    "                \n",
    "        yield ids, embeddings\n",
    "\n",
    "\n",
    "gen = generator(256)\n",
    "tfidf_embeddings = []\n",
    "for i, (ids, embeddings) in enumerate(gen):\n",
    "    print(i, len(data['vectors'])//512)\n",
    "    embds = ipca.transform(embeddings)\n",
    "    tfidf_embeddings.append((ids, embds))\n",
    "\n",
    "# one numpy array\n",
    "tfidf_embeddingsx = np.concatenate([v[1] for v in tfidf_embeddings], axis=0)\n",
    "tfidf_ids = np.concatenate([v[0] for v in tfidf_embeddings], axis=0)\n",
    "\n",
    "pickle.dump({'ids':tfidf_ids, 'embeddings':tfidf_embeddingsx}, open('tfidf_embeddings.pkl', 'wb'))\n"
   ]
  }
 ],
 "metadata": {
  "kernelspec": {
   "display_name": "GNNpapersearch",
   "language": "python",
   "name": "python3"
  },
  "language_info": {
   "codemirror_mode": {
    "name": "ipython",
    "version": 3
   },
   "file_extension": ".py",
   "mimetype": "text/x-python",
   "name": "python",
   "nbconvert_exporter": "python",
   "pygments_lexer": "ipython3",
   "version": "3.11.5"
  }
 },
 "nbformat": 4,
 "nbformat_minor": 2
}
