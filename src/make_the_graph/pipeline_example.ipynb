{
 "cells": [
  {
   "cell_type": "code",
   "execution_count": null,
   "metadata": {},
   "outputs": [],
   "source": [
    "!"
   ]
  },
  {
   "cell_type": "code",
   "execution_count": 5,
   "metadata": {},
   "outputs": [
    {
     "ename": "",
     "evalue": "",
     "output_type": "error",
     "traceback": [
      "\u001b[1;31mThe Kernel crashed while executing code in the the current cell or a previous cell. Please review the code in the cell(s) to identify a possible cause of the failure. Click <a href='https://aka.ms/vscodeJupyterKernelCrash'>here</a> for more info. View Jupyter <a href='command:jupyter.viewOutput'>log</a> for further details."
     ]
    }
   ],
   "source": [
    "# read json file\n",
    "\n",
    "import json\n",
    "with open('data/arxiv-metadata-oai-snapshot.json', 'rb') as json_file:\n",
    "    data = json.load(json_file)"
   ]
  },
  {
   "cell_type": "code",
   "execution_count": 3,
   "metadata": {},
   "outputs": [
    {
     "ename": "IncompleteJSONError",
     "evalue": "parse error: trailing garbage\n          \",\"\"],[\"Yuan\",\"C. -P.\",\"\"]]} {\"id\":\"0704.0002\",\"submitter\":\"\n                     (right here) ------^\n",
     "output_type": "error",
     "traceback": [
      "\u001b[0;31m---------------------------------------------------------------------------\u001b[0m",
      "\u001b[0;31mIncompleteJSONError\u001b[0m                       Traceback (most recent call last)",
      "\u001b[1;32m/home/amos/programming/GNNpapersearch/src/make_the_graph/pipeline.ipynb Cell 2\u001b[0m line \u001b[0;36m8\n\u001b[1;32m      <a href='vscode-notebook-cell://wsl%2Bubuntu/home/amos/programming/GNNpapersearch/src/make_the_graph/pipeline.ipynb#W0sdnNjb2RlLXJlbW90ZQ%3D%3D?line=4'>5</a>\u001b[0m jsonobj \u001b[39m=\u001b[39m ijson\u001b[39m.\u001b[39mitems(input_file, \u001b[39m'\u001b[39m\u001b[39mrecords.item\u001b[39m\u001b[39m'\u001b[39m, use_float\u001b[39m=\u001b[39m\u001b[39mTrue\u001b[39;00m)\n\u001b[1;32m      <a href='vscode-notebook-cell://wsl%2Bubuntu/home/amos/programming/GNNpapersearch/src/make_the_graph/pipeline.ipynb#W0sdnNjb2RlLXJlbW90ZQ%3D%3D?line=6'>7</a>\u001b[0m jsons \u001b[39m=\u001b[39m (o \u001b[39mfor\u001b[39;00m o \u001b[39min\u001b[39;00m jsonobj)\n\u001b[0;32m----> <a href='vscode-notebook-cell://wsl%2Bubuntu/home/amos/programming/GNNpapersearch/src/make_the_graph/pipeline.ipynb#W0sdnNjb2RlLXJlbW90ZQ%3D%3D?line=7'>8</a>\u001b[0m \u001b[39mfor\u001b[39;00m j \u001b[39min\u001b[39;00m jsons:\n\u001b[1;32m      <a href='vscode-notebook-cell://wsl%2Bubuntu/home/amos/programming/GNNpapersearch/src/make_the_graph/pipeline.ipynb#W0sdnNjb2RlLXJlbW90ZQ%3D%3D?line=8'>9</a>\u001b[0m     \u001b[39mprint\u001b[39m(j)\n\u001b[1;32m     <a href='vscode-notebook-cell://wsl%2Bubuntu/home/amos/programming/GNNpapersearch/src/make_the_graph/pipeline.ipynb#W0sdnNjb2RlLXJlbW90ZQ%3D%3D?line=9'>10</a>\u001b[0m     \u001b[39mbreak\u001b[39;00m\n",
      "\u001b[1;32m/home/amos/programming/GNNpapersearch/src/make_the_graph/pipeline.ipynb Cell 2\u001b[0m line \u001b[0;36m7\n\u001b[1;32m      <a href='vscode-notebook-cell://wsl%2Bubuntu/home/amos/programming/GNNpapersearch/src/make_the_graph/pipeline.ipynb#W0sdnNjb2RlLXJlbW90ZQ%3D%3D?line=3'>4</a>\u001b[0m \u001b[39mwith\u001b[39;00m \u001b[39mopen\u001b[39m(filename, \u001b[39m'\u001b[39m\u001b[39mrb\u001b[39m\u001b[39m'\u001b[39m) \u001b[39mas\u001b[39;00m input_file:\n\u001b[1;32m      <a href='vscode-notebook-cell://wsl%2Bubuntu/home/amos/programming/GNNpapersearch/src/make_the_graph/pipeline.ipynb#W0sdnNjb2RlLXJlbW90ZQ%3D%3D?line=4'>5</a>\u001b[0m         jsonobj \u001b[39m=\u001b[39m ijson\u001b[39m.\u001b[39mitems(input_file, \u001b[39m'\u001b[39m\u001b[39mrecords.item\u001b[39m\u001b[39m'\u001b[39m, use_float\u001b[39m=\u001b[39m\u001b[39mTrue\u001b[39;00m)\n\u001b[0;32m----> <a href='vscode-notebook-cell://wsl%2Bubuntu/home/amos/programming/GNNpapersearch/src/make_the_graph/pipeline.ipynb#W0sdnNjb2RlLXJlbW90ZQ%3D%3D?line=6'>7</a>\u001b[0m         jsons \u001b[39m=\u001b[39m (o \u001b[39mfor\u001b[39;00m o \u001b[39min\u001b[39;00m jsonobj)\n\u001b[1;32m      <a href='vscode-notebook-cell://wsl%2Bubuntu/home/amos/programming/GNNpapersearch/src/make_the_graph/pipeline.ipynb#W0sdnNjb2RlLXJlbW90ZQ%3D%3D?line=7'>8</a>\u001b[0m         \u001b[39mfor\u001b[39;00m j \u001b[39min\u001b[39;00m jsons:\n\u001b[1;32m      <a href='vscode-notebook-cell://wsl%2Bubuntu/home/amos/programming/GNNpapersearch/src/make_the_graph/pipeline.ipynb#W0sdnNjb2RlLXJlbW90ZQ%3D%3D?line=8'>9</a>\u001b[0m             \u001b[39mprint\u001b[39m(j)\n",
      "\u001b[0;31mIncompleteJSONError\u001b[0m: parse error: trailing garbage\n          \",\"\"],[\"Yuan\",\"C. -P.\",\"\"]]} {\"id\":\"0704.0002\",\"submitter\":\"\n                     (right here) ------^\n"
     ]
    }
   ],
   "source": [
    "import ijson \n",
    "filename = 'data/arxiv-metadata-oai-snapshot.json'\n",
    "\n",
    "with open(filename, 'rb') as input_file:\n",
    "        jsonobj = ijson.items(input_file, 'records.item', use_float=True)\n",
    "        \n",
    "        jsons = (o for o in jsonobj)\n",
    "        for j in jsons:\n",
    "            print(j)\n",
    "            break"
   ]
  },
  {
   "cell_type": "code",
   "execution_count": 4,
   "metadata": {},
   "outputs": [
    {
     "ename": "",
     "evalue": "",
     "output_type": "error",
     "traceback": [
      "\u001b[1;31mThe Kernel crashed while executing code in the the current cell or a previous cell. Please review the code in the cell(s) to identify a possible cause of the failure. Click <a href='https://aka.ms/vscodeJupyterKernelCrash'>here</a> for more info. View Jupyter <a href='command:jupyter.viewOutput'>log</a> for further details."
     ]
    }
   ],
   "source": [
    "import pandas as pd \n",
    "df = pd.read_json(filename, lines=True)"
   ]
  },
  {
   "cell_type": "code",
   "execution_count": 1,
   "metadata": {},
   "outputs": [
    {
     "name": "stderr",
     "output_type": "stream",
     "text": [
      "/home/amos/miniconda3/envs/GNNpapersearch/lib/python3.10/site-packages/tqdm/auto.py:22: TqdmWarning: IProgress not found. Please update jupyter and ipywidgets. See https://ipywidgets.readthedocs.io/en/stable/user_install.html\n",
      "  from .autonotebook import tqdm as notebook_tqdm\n"
     ]
    }
   ],
   "source": []
  },
  {
   "cell_type": "code",
   "execution_count": 4,
   "metadata": {},
   "outputs": [],
   "source": [
    "\n"
   ]
  },
  {
   "cell_type": "code",
   "execution_count": 1,
   "metadata": {},
   "outputs": [
    {
     "name": "stderr",
     "output_type": "stream",
     "text": [
      "/home/amos/miniconda3/envs/GNNpapersearch/lib/python3.10/site-packages/tqdm/auto.py:22: TqdmWarning: IProgress not found. Please update jupyter and ipywidgets. See https://ipywidgets.readthedocs.io/en/stable/user_install.html\n",
      "  from .autonotebook import tqdm as notebook_tqdm\n"
     ]
    }
   ],
   "source": [
    "import torch\n",
    "from torch_geometric.data import HeteroData\n",
    "data = HeteroData()\n",
    "\n",
    "data['paper'].num_nodes = 300\n",
    "data['author'].num_nodes = 200\n",
    "data['paper', 'written_by', 'author'].edge_index = torch.tensor([\n",
    "    [1,2,2],\n",
    "    [100,102,105]\n",
    "]) \n",
    "\n",
    "1,100\n",
    "2,102\n",
    "data['author'].x = torch.tensor([\n",
    "    [3,4,1],\n",
    "    [1,1,1],\n",
    "    [0,0,0]\n",
    "])\n",
    "\n",
    "\n",
    "data['paper', 'written_by', 'author'].edge_attr = torch.tensor([\n",
    "    [3,4,1],\n",
    "    [1,1,1],\n",
    "    [0,0,0]\n",
    "])"
   ]
  },
  {
   "cell_type": "code",
   "execution_count": 2,
   "metadata": {},
   "outputs": [
    {
     "data": {
      "text/plain": [
       "HeteroData(\n",
       "  paper={ num_nodes=300 },\n",
       "  author={\n",
       "    num_nodes=200,\n",
       "    x=[3, 3],\n",
       "  },\n",
       "  (paper, written_by, author)={\n",
       "    edge_index=[2, 3],\n",
       "    edge_attr=[3, 3],\n",
       "  }\n",
       ")"
      ]
     },
     "execution_count": 2,
     "metadata": {},
     "output_type": "execute_result"
    }
   ],
   "source": [
    "data"
   ]
  },
  {
   "cell_type": "code",
   "execution_count": 3,
   "metadata": {},
   "outputs": [],
   "source": [
    "import torch_geometric.transforms as T\n",
    "\n",
    "transform = T.Compose([\n",
    "       T.RemoveIsolatedNodes(),\n",
    "       T.ToUndirected(merge=False), # don't merge reversed edges into the original edge type\n",
    "       T.RemoveDuplicatedEdges(),\n",
    "])\n",
    "data_before = data\n",
    "data = transform(data)"
   ]
  },
  {
   "cell_type": "code",
   "execution_count": 4,
   "metadata": {},
   "outputs": [
    {
     "data": {
      "text/plain": [
       "HeteroData(\n",
       "  paper={ num_nodes=2 },\n",
       "  author={\n",
       "    num_nodes=3,\n",
       "    x=[3, 3],\n",
       "  },\n",
       "  (paper, written_by, author)={\n",
       "    edge_index=[2, 3],\n",
       "    edge_attr=[3, 3],\n",
       "  },\n",
       "  (author, rev_written_by, paper)={\n",
       "    edge_index=[2, 3],\n",
       "    edge_attr=[3, 3],\n",
       "  }\n",
       ")"
      ]
     },
     "execution_count": 4,
     "metadata": {},
     "output_type": "execute_result"
    }
   ],
   "source": [
    "data"
   ]
  },
  {
   "cell_type": "code",
   "execution_count": 50,
   "metadata": {},
   "outputs": [
    {
     "data": {
      "text/plain": [
       "tensor([[0, 1, 1],\n",
       "        [0, 1, 2]])"
      ]
     },
     "execution_count": 50,
     "metadata": {},
     "output_type": "execute_result"
    }
   ],
   "source": [
    "data['paper', 'written_by', 'author'].edge_index"
   ]
  }
 ],
 "metadata": {
  "kernelspec": {
   "display_name": "GNNpapersearch",
   "language": "python",
   "name": "python3"
  },
  "language_info": {
   "codemirror_mode": {
    "name": "ipython",
    "version": 3
   },
   "file_extension": ".py",
   "mimetype": "text/x-python",
   "name": "python",
   "nbconvert_exporter": "python",
   "pygments_lexer": "ipython3",
   "version": "3.10.13"
  }
 },
 "nbformat": 4,
 "nbformat_minor": 2
}
