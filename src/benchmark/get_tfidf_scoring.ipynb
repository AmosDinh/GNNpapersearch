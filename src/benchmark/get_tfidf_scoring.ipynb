{
 "cells": [
  {
   "cell_type": "code",
   "execution_count": null,
   "metadata": {},
   "outputs": [],
   "source": [
    "!pip install pandas"
   ]
  },
  {
   "cell_type": "code",
   "execution_count": 4,
   "metadata": {},
   "outputs": [],
   "source": [
    "import pickle \n",
    "titles = pickle.load(open(\"titles.pickle\", \"rb\"))\n",
    "embeddings = pickle.load(open(\"tfidf_embeddings.pkl\", \"rb\"))['embeddings']"
   ]
  },
  {
   "cell_type": "code",
   "execution_count": 7,
   "metadata": {},
   "outputs": [
    {
     "data": {
      "text/plain": [
       "(2381056, 256)"
      ]
     },
     "execution_count": 7,
     "metadata": {},
     "output_type": "execute_result"
    }
   ],
   "source": [
    "import numpy as np\n",
    "embeddings.shape"
   ]
  },
  {
   "cell_type": "code",
   "execution_count": 10,
   "metadata": {},
   "outputs": [],
   "source": [
    "titles = np.array(titles)"
   ]
  },
  {
   "cell_type": "code",
   "execution_count": 37,
   "metadata": {},
   "outputs": [],
   "source": [
    "# check titles in the embeddings\n",
    "import pandas as pd\n",
    "csv = pd.read_csv('benchmark_data.csv')"
   ]
  },
  {
   "cell_type": "code",
   "execution_count": 38,
   "metadata": {},
   "outputs": [
    {
     "data": {
      "text/html": [
       "<div>\n",
       "<style scoped>\n",
       "    .dataframe tbody tr th:only-of-type {\n",
       "        vertical-align: middle;\n",
       "    }\n",
       "\n",
       "    .dataframe tbody tr th {\n",
       "        vertical-align: top;\n",
       "    }\n",
       "\n",
       "    .dataframe thead th {\n",
       "        text-align: right;\n",
       "    }\n",
       "</style>\n",
       "<table border=\"1\" class=\"dataframe\">\n",
       "  <thead>\n",
       "    <tr style=\"text-align: right;\">\n",
       "      <th></th>\n",
       "      <th>search_doi</th>\n",
       "      <th>search_title</th>\n",
       "      <th>result_doi</th>\n",
       "      <th>result_title</th>\n",
       "    </tr>\n",
       "  </thead>\n",
       "  <tbody>\n",
       "    <tr>\n",
       "      <th>0</th>\n",
       "      <td>arXiv:2003.01332</td>\n",
       "      <td>Heterogeneous Graph Transformer</td>\n",
       "      <td>arXiv:1703.06103</td>\n",
       "      <td>Modeling Relational Data with Graph Convolutio...</td>\n",
       "    </tr>\n",
       "    <tr>\n",
       "      <th>1</th>\n",
       "      <td>arXiv:2003.01332</td>\n",
       "      <td>Heterogeneous Graph Transformer</td>\n",
       "      <td>arXiv:1710.10903</td>\n",
       "      <td>Graph Attention Networks</td>\n",
       "    </tr>\n",
       "    <tr>\n",
       "      <th>2</th>\n",
       "      <td>arXiv:2003.01332</td>\n",
       "      <td>Heterogeneous Graph Transformer</td>\n",
       "      <td>arXiv:1904.05811</td>\n",
       "      <td>Relational Graph Attention Networks</td>\n",
       "    </tr>\n",
       "    <tr>\n",
       "      <th>3</th>\n",
       "      <td>arXiv:1902.10197</td>\n",
       "      <td>RotatE: Knowledge Graph Embedding by Relationa...</td>\n",
       "      <td>arXiv:1412.6575</td>\n",
       "      <td>Embedding Entities and Relations for Learning ...</td>\n",
       "    </tr>\n",
       "    <tr>\n",
       "      <th>4</th>\n",
       "      <td>arXiv:1902.10197</td>\n",
       "      <td>RotatE: Knowledge Graph Embedding by Relationa...</td>\n",
       "      <td>arXiv:1606.06357</td>\n",
       "      <td>Complex Embeddings for Simple Link Prediction</td>\n",
       "    </tr>\n",
       "    <tr>\n",
       "      <th>5</th>\n",
       "      <td>arXiv:1902.10197</td>\n",
       "      <td>RotatE: Knowledge Graph Embedding by Relationa...</td>\n",
       "      <td>arXiv:2107.07842</td>\n",
       "      <td>A Survey of Knowledge Graph Embedding and Thei...</td>\n",
       "    </tr>\n",
       "    <tr>\n",
       "      <th>6</th>\n",
       "      <td>arXiv:2306.11264</td>\n",
       "      <td>GraphGLOW: Universal and Generalizable Structu...</td>\n",
       "      <td>arXiv:2310.05174</td>\n",
       "      <td>GSLB: The Graph Structure Learning Benchmark</td>\n",
       "    </tr>\n",
       "    <tr>\n",
       "      <th>7</th>\n",
       "      <td>arXiv:2306.11264</td>\n",
       "      <td>GraphGLOW: Universal and Generalizable Structu...</td>\n",
       "      <td>arXiv:2105.09111</td>\n",
       "      <td>Self-supervised Heterogeneous Graph Neural Net...</td>\n",
       "    </tr>\n",
       "    <tr>\n",
       "      <th>8</th>\n",
       "      <td>arXiv:2306.11264</td>\n",
       "      <td>GraphGLOW: Universal and Generalizable Structu...</td>\n",
       "      <td>arXiv:1801.07829</td>\n",
       "      <td>Dynamic Graph CNN for Learning on Point Clouds</td>\n",
       "    </tr>\n",
       "    <tr>\n",
       "      <th>9</th>\n",
       "      <td>arXiv:2011.08843</td>\n",
       "      <td>Design Space for Graph Neural Networks</td>\n",
       "      <td>arXiv:2203.00112</td>\n",
       "      <td>GraphWorld: Fake Graphs Bring Real Insights fo...</td>\n",
       "    </tr>\n",
       "    <tr>\n",
       "      <th>10</th>\n",
       "      <td>arXiv:1609.02907</td>\n",
       "      <td>Semi-Supervised Classification with Graph Conv...</td>\n",
       "      <td>arXiv:1809.09401</td>\n",
       "      <td>Hypergraph Neural Networks</td>\n",
       "    </tr>\n",
       "    <tr>\n",
       "      <th>11</th>\n",
       "      <td>arXiv:1801.07606</td>\n",
       "      <td>Deeper Insights into Graph Convolutional Netwo...</td>\n",
       "      <td>arXiv:2008.09864</td>\n",
       "      <td>Tackling Over-Smoothing for General Graph Conv...</td>\n",
       "    </tr>\n",
       "    <tr>\n",
       "      <th>12</th>\n",
       "      <td>arXiv:1801.07606</td>\n",
       "      <td>Deeper Insights into Graph Convolutional Netwo...</td>\n",
       "      <td>arXiv:2002.05287</td>\n",
       "      <td>Geom-GCN: Geometric Graph Convolutional Networks</td>\n",
       "    </tr>\n",
       "    <tr>\n",
       "      <th>13</th>\n",
       "      <td>arXiv:1810.00826</td>\n",
       "      <td>How Powerful are Graph Neural Networks?</td>\n",
       "      <td>arXiv:1810.02244</td>\n",
       "      <td>Weisfeiler and Leman Go Neural: Higher-order G...</td>\n",
       "    </tr>\n",
       "    <tr>\n",
       "      <th>14</th>\n",
       "      <td>arXiv:1709.05254</td>\n",
       "      <td>Detection of Anomalies in Large Scale Accounti...</td>\n",
       "      <td>arXiv:1908.00734</td>\n",
       "      <td>Detection of Accounting Anomalies in the Laten...</td>\n",
       "    </tr>\n",
       "    <tr>\n",
       "      <th>15</th>\n",
       "      <td>arXiv:1709.05254</td>\n",
       "      <td>Detection of Anomalies in Large Scale Accounti...</td>\n",
       "      <td>arXiv:2210.14056</td>\n",
       "      <td>Unsupervised Anomaly Detection for Auditing Da...</td>\n",
       "    </tr>\n",
       "    <tr>\n",
       "      <th>16</th>\n",
       "      <td>arXiv:1803.01092</td>\n",
       "      <td>Analyzing Business Process Anomalies Using Aut...</td>\n",
       "      <td>arXiv:1908.00734</td>\n",
       "      <td>Detection of Accounting Anomalies in the Laten...</td>\n",
       "    </tr>\n",
       "    <tr>\n",
       "      <th>17</th>\n",
       "      <td>arXiv:2203.16060</td>\n",
       "      <td>Understanding Graph Convolutional Networks for...</td>\n",
       "      <td>arXiv:1809.05679</td>\n",
       "      <td>Graph Convolutional Networks for Text Classifi...</td>\n",
       "    </tr>\n",
       "  </tbody>\n",
       "</table>\n",
       "</div>"
      ],
      "text/plain": [
       "          search_doi                                       search_title  \\\n",
       "0   arXiv:2003.01332                    Heterogeneous Graph Transformer   \n",
       "1   arXiv:2003.01332                    Heterogeneous Graph Transformer   \n",
       "2   arXiv:2003.01332                    Heterogeneous Graph Transformer   \n",
       "3   arXiv:1902.10197  RotatE: Knowledge Graph Embedding by Relationa...   \n",
       "4   arXiv:1902.10197  RotatE: Knowledge Graph Embedding by Relationa...   \n",
       "5   arXiv:1902.10197  RotatE: Knowledge Graph Embedding by Relationa...   \n",
       "6   arXiv:2306.11264  GraphGLOW: Universal and Generalizable Structu...   \n",
       "7   arXiv:2306.11264  GraphGLOW: Universal and Generalizable Structu...   \n",
       "8   arXiv:2306.11264  GraphGLOW: Universal and Generalizable Structu...   \n",
       "9   arXiv:2011.08843             Design Space for Graph Neural Networks   \n",
       "10  arXiv:1609.02907  Semi-Supervised Classification with Graph Conv...   \n",
       "11  arXiv:1801.07606  Deeper Insights into Graph Convolutional Netwo...   \n",
       "12  arXiv:1801.07606  Deeper Insights into Graph Convolutional Netwo...   \n",
       "13  arXiv:1810.00826            How Powerful are Graph Neural Networks?   \n",
       "14  arXiv:1709.05254  Detection of Anomalies in Large Scale Accounti...   \n",
       "15  arXiv:1709.05254  Detection of Anomalies in Large Scale Accounti...   \n",
       "16  arXiv:1803.01092  Analyzing Business Process Anomalies Using Aut...   \n",
       "17  arXiv:2203.16060  Understanding Graph Convolutional Networks for...   \n",
       "\n",
       "          result_doi                                       result_title  \n",
       "0   arXiv:1703.06103  Modeling Relational Data with Graph Convolutio...  \n",
       "1   arXiv:1710.10903                           Graph Attention Networks  \n",
       "2   arXiv:1904.05811                Relational Graph Attention Networks  \n",
       "3    arXiv:1412.6575  Embedding Entities and Relations for Learning ...  \n",
       "4   arXiv:1606.06357      Complex Embeddings for Simple Link Prediction  \n",
       "5   arXiv:2107.07842  A Survey of Knowledge Graph Embedding and Thei...  \n",
       "6   arXiv:2310.05174       GSLB: The Graph Structure Learning Benchmark  \n",
       "7   arXiv:2105.09111  Self-supervised Heterogeneous Graph Neural Net...  \n",
       "8   arXiv:1801.07829     Dynamic Graph CNN for Learning on Point Clouds  \n",
       "9   arXiv:2203.00112  GraphWorld: Fake Graphs Bring Real Insights fo...  \n",
       "10  arXiv:1809.09401                         Hypergraph Neural Networks  \n",
       "11  arXiv:2008.09864  Tackling Over-Smoothing for General Graph Conv...  \n",
       "12  arXiv:2002.05287   Geom-GCN: Geometric Graph Convolutional Networks  \n",
       "13  arXiv:1810.02244  Weisfeiler and Leman Go Neural: Higher-order G...  \n",
       "14  arXiv:1908.00734  Detection of Accounting Anomalies in the Laten...  \n",
       "15  arXiv:2210.14056  Unsupervised Anomaly Detection for Auditing Da...  \n",
       "16  arXiv:1908.00734  Detection of Accounting Anomalies in the Laten...  \n",
       "17  arXiv:1809.05679  Graph Convolutional Networks for Text Classifi...  "
      ]
     },
     "execution_count": 38,
     "metadata": {},
     "output_type": "execute_result"
    }
   ],
   "source": [
    "csv"
   ]
  },
  {
   "cell_type": "code",
   "execution_count": 40,
   "metadata": {},
   "outputs": [],
   "source": [
    "# check all titles in csv\n",
    "titles = [title.lower().replace('\\n','').replace('  ',' ') for title in titles]\n",
    "for title in csv['search_title']:\n",
    "    if title.lower() not in titles:\n",
    "        print(title)\n",
    "        \n",
    "for title in csv['result_title']:\n",
    "    if title.lower() not in titles:\n",
    "        print(title)"
   ]
  },
  {
   "cell_type": "code",
   "execution_count": 48,
   "metadata": {},
   "outputs": [],
   "source": [
    "titles = pd.Series(titles)"
   ]
  },
  {
   "cell_type": "code",
   "execution_count": 49,
   "metadata": {},
   "outputs": [
    {
     "data": {
      "text/plain": [
       "1250161"
      ]
     },
     "execution_count": 49,
     "metadata": {},
     "output_type": "execute_result"
    }
   ],
   "source": [
    "# get index of title\n",
    "def get_index(title):\n",
    "    return titles.loc[titles == title].index[0]\n",
    "\n",
    "get_index(csv['search_title'][0].lower())"
   ]
  },
  {
   "cell_type": "code",
   "execution_count": 83,
   "metadata": {},
   "outputs": [
    {
     "name": "stdout",
     "output_type": "stream",
     "text": [
      "Heterogeneous Graph Transformer\n",
      "RotatE: Knowledge Graph Embedding by Relational Rotation in Complex Space\n",
      "GraphGLOW: Universal and Generalizable Structure Learning for Graph Neural Networks\n",
      "Design Space for Graph Neural Networks\n",
      "Semi-Supervised Classification with Graph Convolutional Networks\n",
      "Deeper Insights into Graph Convolutional Networks for Semi-Supervised Learning\n",
      "How Powerful are Graph Neural Networks?\n",
      "Detection of Anomalies in Large Scale Accounting Data using Deep Autoencoder Networks\n",
      "Analyzing Business Process Anomalies Using Autoencoders\n",
      "Understanding Graph Convolutional Networks for Text Classification\n"
     ]
    }
   ],
   "source": [
    "# get cosine similarity between target and all titles\n",
    "# use numpy\n",
    "from numpy.linalg import norm\n",
    "def get_cosine_similarity(target, embeddings):\n",
    "    target = target.reshape(1,-1)\n",
    "    target = target / norm(target)\n",
    "    embeddings = embeddings / norm(embeddings, axis=1).reshape(-1,1)\n",
    "    result =  np.dot(target, embeddings.T) # dot product is unnormalized cosine\n",
    "    return result[0]\n",
    "\n",
    "cosine_sims = {}\n",
    "for seach_title in csv['search_title'].unique():\n",
    "    print(seach_title)\n",
    "    cosine_sims[seach_title] = get_cosine_similarity(embeddings[get_index(seach_title.lower())], embeddings)"
   ]
  },
  {
   "cell_type": "code",
   "execution_count": 84,
   "metadata": {},
   "outputs": [
    {
     "data": {
      "text/plain": [
       "1.0"
      ]
     },
     "execution_count": 84,
     "metadata": {},
     "output_type": "execute_result"
    }
   ],
   "source": [
    "cosine_sims['Heterogeneous Graph Transformer'][get_index('Heterogeneous Graph Transformer'.lower())]"
   ]
  },
  {
   "cell_type": "code",
   "execution_count": 88,
   "metadata": {},
   "outputs": [],
   "source": [
    "indices = np.argsort(cosine_sims['Heterogeneous Graph Transformer'])[::-1]"
   ]
  },
  {
   "cell_type": "code",
   "execution_count": 110,
   "metadata": {},
   "outputs": [
    {
     "name": "stdout",
     "output_type": "stream",
     "text": [
      "------------\n",
      "Search title:  Heterogeneous Graph Transformer\n",
      "rank 648932 Result title Modeling Relational Data with Graph Convolutional Networks\n",
      "----------------------\n",
      "rank 100266 Result title Graph Attention Networks\n",
      "----------------------\n",
      "rank 60130 Result title Relational Graph Attention Networks\n",
      "----------------------\n",
      "Average rank:  269776.0 out of 2381173\n",
      "------------\n",
      "Search title:  RotatE: Knowledge Graph Embedding by Relational Rotation in Complex Space\n",
      "rank 399493 Result title Embedding Entities and Relations for Learning and Inference in Knowledge Bases\n",
      "----------------------\n",
      "rank 139190 Result title Complex Embeddings for Simple Link Prediction\n",
      "----------------------\n",
      "rank 1949137 Result title A Survey of Knowledge Graph Embedding and Their Applications\n",
      "----------------------\n",
      "Average rank:  829273.33 out of 2381173\n",
      "------------\n",
      "Search title:  GraphGLOW: Universal and Generalizable Structure Learning for Graph Neural Networks\n",
      "rank 729 Result title GSLB: The Graph Structure Learning Benchmark\n",
      "----------------------\n",
      "rank 373890 Result title Self-supervised Heterogeneous Graph Neural Network with Co-contrastive Learning\n",
      "----------------------\n",
      "rank 617590 Result title Dynamic Graph CNN for Learning on Point Clouds\n",
      "----------------------\n",
      "Average rank:  330736.33 out of 2381173\n",
      "------------\n",
      "Search title:  Design Space for Graph Neural Networks\n",
      "rank 33525 Result title GraphWorld: Fake Graphs Bring Real Insights for GNNs\n",
      "----------------------\n",
      "Average rank:  33525.0 out of 2381173\n",
      "------------\n",
      "Search title:  Semi-Supervised Classification with Graph Convolutional Networks\n",
      "rank 28474 Result title Hypergraph Neural Networks\n",
      "----------------------\n",
      "Average rank:  28474.0 out of 2381173\n",
      "------------\n",
      "Search title:  Deeper Insights into Graph Convolutional Networks for Semi-Supervised Learning\n",
      "rank 69536 Result title Tackling Over-Smoothing for General Graph Convolutional Networks\n",
      "----------------------\n",
      "rank 23641 Result title Geom-GCN: Geometric Graph Convolutional Networks\n",
      "----------------------\n",
      "Average rank:  46588.5 out of 2381173\n",
      "------------\n",
      "Search title:  How Powerful are Graph Neural Networks?\n",
      "rank 183912 Result title Weisfeiler and Leman Go Neural: Higher-order Graph Neural Networks\n",
      "----------------------\n",
      "Average rank:  183912.0 out of 2381173\n",
      "------------\n",
      "Search title:  Detection of Anomalies in Large Scale Accounting Data using Deep Autoencoder Networks\n",
      "rank 42399 Result title Detection of Accounting Anomalies in the Latent Space using Adversarial Autoencoder Neural Networks\n",
      "----------------------\n",
      "rank 235868 Result title Unsupervised Anomaly Detection for Auditing Data and Impact of Categorical Encodings\n",
      "----------------------\n",
      "Average rank:  139133.5 out of 2381173\n",
      "------------\n",
      "Search title:  Analyzing Business Process Anomalies Using Autoencoders\n",
      "rank 28946 Result title Detection of Accounting Anomalies in the Latent Space using Adversarial Autoencoder Neural Networks\n",
      "----------------------\n",
      "Average rank:  28946.0 out of 2381173\n",
      "------------\n",
      "Search title:  Understanding Graph Convolutional Networks for Text Classification\n",
      "rank 3 Result title Graph Convolutional Networks for Text Classification\n",
      "----------------------\n",
      "Average rank:  3.0 out of 2381173\n",
      "Total average rank:  189036.77 out of 2381173\n"
     ]
    }
   ],
   "source": [
    "total_average_rank = 0\n",
    "for seach_title in csv['search_title'].unique():\n",
    "    result_titles = csv.loc[csv['search_title'] == seach_title]['result_title']\n",
    "    number_result_titles = len(result_titles)\n",
    "    indices = np.argsort(cosine_sims[seach_title])[::-1]\n",
    "    print('------------')\n",
    "    print('Search title: ', seach_title)\n",
    "    avg_rank = 0\n",
    "    for i in range(number_result_titles):\n",
    "        result_title = result_titles.iloc[i]\n",
    "        result_title_index = get_index(result_title.lower())\n",
    "        rank = np.argwhere(indices==result_title_index)[0][0] + 1\n",
    "        \n",
    "        print('rank', rank,'Result title',result_title)\n",
    "        print('----------------------')\n",
    "        avg_rank += rank\n",
    "    print('Average rank: ', round(avg_rank/number_result_titles,2),'out of', len(titles))\n",
    "    total_average_rank += avg_rank/number_result_titles\n",
    "\n",
    "print('Total average rank: ', round(total_average_rank/len(csv['search_title'].unique()),2),'out of', len(titles))"
   ]
  },
  {
   "cell_type": "markdown",
   "metadata": {},
   "source": [
    "## Result:\n",
    "Average rank across all queries: 189036.77 out of 2381173"
   ]
  }
 ],
 "metadata": {
  "kernelspec": {
   "display_name": "Python 3",
   "language": "python",
   "name": "python3"
  },
  "language_info": {
   "codemirror_mode": {
    "name": "ipython",
    "version": 3
   },
   "file_extension": ".py",
   "mimetype": "text/x-python",
   "name": "python",
   "nbconvert_exporter": "python",
   "pygments_lexer": "ipython3",
   "version": "3.11.5"
  }
 },
 "nbformat": 4,
 "nbformat_minor": 2
}
