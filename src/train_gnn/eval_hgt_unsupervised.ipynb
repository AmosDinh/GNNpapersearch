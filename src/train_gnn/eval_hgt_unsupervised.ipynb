{
 "cells": [
  {
   "cell_type": "code",
   "execution_count": 1,
   "metadata": {},
   "outputs": [],
   "source": [
    "# Mean Reciprocal Rank"
   ]
  },
  {
   "cell_type": "code",
   "execution_count": 2,
   "metadata": {},
   "outputs": [],
   "source": [
    "%load_ext autoreload\n",
    "%autoreload 2"
   ]
  },
  {
   "cell_type": "code",
   "execution_count": 2,
   "metadata": {},
   "outputs": [],
   "source": [
    "! pip install torch==2.1.0  torchvision==0.16.0 torchtext==0.16.0 torchaudio==2.1.0 --index-url https://download.pytorch.org/whl/cu121\n",
    "#! pip install pyg_lib torch_scatter torch_sparse torch_cluster -f https://data.pyg.org/whl/torch-2.1.0+${CUDA}.html # torch_spline_conv\n",
    "! pip install torch_geometric\n",
    "! pip install pyg_lib torch_scatter torch_sparse torch_cluster torch_spline_conv -f https://data.pyg.org/whl/torch-2.1.0+cu121.html\n",
    "#! pip install torch_sparse -f https://data.pyg.org/whl/torch-2.1.0+${CUDA}.html\n",
    "#! pip install torch_scatter -f https://data.pyg.org/whl/torch-2.1.0+${CUDA}.html\n",
    "#! pip install pyg_lib -f https://data.pyg.org/whl/torch-2.1.0+${CUDA}.html\n",
    "! pip install sentence-transformers\n",
    "! pip install torcheval\n",
    "! pip install matplotlib\n",
    "! pip install pandas\n",
    "! pip install tensorboard\n",
    "! pip install weaviate-client\n",
    "\n",
    "! pip install -U pip setuptools wheel\n",
    "! pip install -U spacy\n",
    "! python -m spacy download en_core_web_sm"
   ]
  },
  {
   "cell_type": "markdown",
   "metadata": {},
   "source": [
    "HGT"
   ]
  },
  {
   "cell_type": "code",
   "execution_count": null,
   "metadata": {},
   "outputs": [],
   "source": [
    "from torch_geometric.nn import HGTConv, Linear\n",
    "import torch \n",
    "\n",
    "class HGT(torch.nn.Module):\n",
    "    def __init__(self, hidden_channels, out_channels, num_heads, num_layers, node_types, data_metadata):\n",
    "        super().__init__()\n",
    "\n",
    "        self.lin_dict = torch.nn.ModuleDict()\n",
    "        for node_type in node_types:\n",
    "            self.lin_dict[node_type] = Linear(-1, hidden_channels)\n",
    "\n",
    "        self.convs = torch.nn.ModuleList()\n",
    "        for _ in range(num_layers):\n",
    "            conv = HGTConv(hidden_channels, hidden_channels, data_metadata,\n",
    "                           num_heads, group='sum')\n",
    "            self.convs.append(conv)\n",
    "\n",
    "        self.lin = Linear(hidden_channels, out_channels)\n",
    "\n",
    "    def forward(self, x_dict, edge_index_dict):\n",
    "        x_dict = {\n",
    "            node_type: self.lin_dict[node_type](x).relu_()\n",
    "            for node_type, x in x_dict.items()\n",
    "        }\n",
    "\n",
    "        for conv in self.convs:\n",
    "            x_dict = conv(x_dict, edge_index_dict)\n",
    "\n",
    "        return x_dict\n",
    "    \n",
    "if __name__ == '__main__':\n",
    "    model = HGT(hidden_channels=64, out_channels=4, num_heads=2, num_layers=1, node_types=data.node_types, data_metadata=data.metadata())"
   ]
  },
  {
   "cell_type": "markdown",
   "metadata": {},
   "source": [
    "TransE"
   ]
  },
  {
   "cell_type": "code",
   "execution_count": null,
   "metadata": {},
   "outputs": [],
   "source": [
    "from torch_geometric.nn.kge import TransE\n",
    "\n",
    "import math\n",
    "\n",
    "import torch\n",
    "import torch.nn.functional as F\n",
    "from torch import Tensor\n",
    "\n",
    "from torch_geometric.nn.kge import KGEModel\n",
    "\n",
    "# adapted and taken from https://github.com/pyg-team/pytorch_geometric/blob/master/torch_geometric/nn/kge/transe.py\n",
    "\n",
    "class TransE(KGEModel):\n",
    "    r\"\"\"The TransE model from the `\"Translating Embeddings for Modeling\n",
    "    Multi-Relational Data\" <https://proceedings.neurips.cc/paper/2013/file/\n",
    "    1cecc7a77928ca8133fa24680a88d2f9-Paper.pdf>`_ paper.\n",
    "\n",
    "    :class:`TransE` models relations as a translation from head to tail\n",
    "    entities such that\n",
    "\n",
    "    .. math::\n",
    "        \\mathbf{e}_h + \\mathbf{e}_r \\approx \\mathbf{e}_t,\n",
    "\n",
    "    resulting in the scoring function:\n",
    "\n",
    "    .. math::\n",
    "        d(h, r, t) = - {\\| \\mathbf{e}_h + \\mathbf{e}_r - \\mathbf{e}_t \\|}_p\n",
    "\n",
    "    .. note::\n",
    "\n",
    "        For an example of using the :class:`TransE` model, see\n",
    "        `examples/kge_fb15k_237.py\n",
    "        <https://github.com/pyg-team/pytorch_geometric/blob/master/examples/\n",
    "        kge_fb15k_237.py>`_.\n",
    "\n",
    "    Args:\n",
    "        num_nodes (int): The number of nodes/entities in the graph.\n",
    "        num_relations (int): The number of relations in the graph.\n",
    "        hidden_channels (int): The hidden embedding size.\n",
    "        margin (int, optional): The margin of the ranking loss.\n",
    "            (default: :obj:`1.0`)\n",
    "        p_norm (int, optional): The order embedding and distance normalization.\n",
    "            (default: :obj:`1.0`)\n",
    "        sparse (bool, optional): If set to :obj:`True`, gradients w.r.t. to the\n",
    "            embedding matrices will be sparse. (default: :obj:`False`)\n",
    "    \"\"\"\n",
    "    def __init__(\n",
    "        self,\n",
    "        num_nodes: int,\n",
    "        num_relations: int,\n",
    "        hidden_channels: int,\n",
    "        margin: float = 1.0,\n",
    "        p_norm: float = 1.0,\n",
    "        sparse: bool = False,\n",
    "    ):\n",
    "        super().__init__(num_nodes, num_relations, hidden_channels, sparse)\n",
    "\n",
    "        self.p_norm = p_norm\n",
    "        self.margin = margin\n",
    "\n",
    "        self.reset_parameters()\n",
    "\n",
    "    def reset_parameters(self):\n",
    "        bound = 6. / math.sqrt(self.hidden_channels)\n",
    "        torch.nn.init.uniform_(self.node_emb.weight, -bound, bound)\n",
    "        torch.nn.init.uniform_(self.rel_emb.weight, -bound, bound)\n",
    "        F.normalize(self.rel_emb.weight.data, p=self.p_norm, dim=-1,\n",
    "                    out=self.rel_emb.weight.data)\n",
    "\n",
    "    def forward(\n",
    "        self,\n",
    "        head_embeddings: Tensor,\n",
    "        rel_type,\n",
    "        tail_embeddings: Tensor,\n",
    "    ) -> Tensor:\n",
    "        #head = self.node_emb(head_index)\n",
    "        rel = self.rel_emb(rel_type)  # Amos: only learn the relation embeddings, others are learned with GNN\n",
    "        #tail = self.node_emb(tail_index)\n",
    "\n",
    "        head = F.normalize(head_embeddings, p=self.p_norm, dim=-1)\n",
    "        tail = F.normalize(tail_embeddings, p=self.p_norm, dim=-1)\n",
    "\n",
    "        # Calculate *negative* TransE norm:\n",
    "        return -((head + rel) - tail).norm(p=self.p_norm, dim=-1)\n",
    "\n",
    "    \n",
    "    def get_embedding(self,\n",
    "                      embedding,\n",
    "                      rel_type,\n",
    "                        have_head_or_tail\n",
    "                      ):\n",
    "        rel = self.rel_emb(rel_type)\n",
    "        embedding = F.normalize(embedding, p=self.p_norm, dim=-1)\n",
    "        if have_head_or_tail == 'head':\n",
    "            return embedding + rel\n",
    "        else:\n",
    "            return embedding - rel\n",
    "    \n",
    "    \n",
    "    def loss(\n",
    "        self,\n",
    "        head_embeddings: Tensor,\n",
    "        rel_type: Tensor,\n",
    "        tail_embeddings: Tensor,\n",
    "        labels: Tensor, # labels 0 or 1\n",
    "    ) -> Tensor:\n",
    "        pos_mask = labels == 1\n",
    "        neg_mask = labels == 0\n",
    "        \n",
    "        pos_score = self(head_embeddings[pos_mask], rel_type, tail_embeddings[pos_mask])\n",
    "        neg_score = self(head_embeddings[neg_mask], rel_type, tail_embeddings[neg_mask])\n",
    "\n",
    "        return F.margin_ranking_loss(\n",
    "            pos_score,\n",
    "            neg_score,\n",
    "            target=torch.ones_like(pos_score), # 1 for similarity, -1 for dissimilarity\n",
    "            margin=self.margin,\n",
    "        )"
   ]
  },
  {
   "cell_type": "code",
   "execution_count": null,
   "metadata": {},
   "outputs": [],
   "source": [
    "# GraphSampler \n",
    "# COMMAND ----------\n",
    "# Sampling\n",
    "# 1. Sample using HGT Sampler as outlined in the paper, using pyg implementations\n",
    "# 2. The sampling is adapted to link prediction, by first sampling random supervision edges of which the nodes create the supervision nodes\n",
    "# a. Dataset is divided across multiple dimensions:\n",
    "#   a.1. Split into Train, Val, Test split (96, 2, 2)\n",
    "#   a.2. Training only: Edges are split into those which are used solely for message passing and those solely used for supervision (80, 20). \n",
    "#        Because an expressive model (HGT) is used, this prevents the model from memorizing supervision edges by their appearance as message passing edges\n",
    "#   a.3. This means Training consists of 96%*80% Message passing Edges, 96%*20% supervision edges, Val contains 2% Supervision Edges, Test contains 2% supervison Edges\n",
    "#   a.4. Validation and Test edges use the Training Message passing Edges as well.\n",
    "# b. For mini-batch sampling in the training phase, first x random edges are sampled as supervision edges. \n",
    "#    For the nodes of these supervision edges, we apply batch-wise HGT Sampling. Due to implementation limitations, for each supervision entity type, the hgt sampling is separate. \n",
    "#    This limitation does not apply for sampled neighbor entity types\n",
    "# during sampling, also the reverse edge of the supervision edge is removed to avoid data leakage\n",
    "\n",
    "\n",
    "# HGT Sampler (See Paper for further reference)\n",
    "# The probablity of a neighbor node s to be sampled depends on the normalized degree of all its edge types connecting it to all source nodes\n",
    "# If neighbor node s is connected to a and b by edge type r, and a has 2 neighbors through edge type r and b has 1 neighbor (node s) through edge type r, \n",
    "# then the sampling probablity of s is (1/2+1)**2 / 2**2, if it were connected through other edge types to the nodes as well, those degrees would be added to the numerator and denominator.\n",
    "# Nodes are sampled without replacement.\n",
    "# This sampling strategy creates more dense mini-batches, because neighbor nodes which are connected to multiple source nodes and by multiple relationship types are sampled more frequently.\n",
    "# Therefore, training is sped up since less node representations have to be computed. Furthermore, as stated in the paper, the sampling method allows to sample a \n",
    "# similar number of neighbors for each edge type, because high-count edge types and low-count edge types are weighted equally. For each neighbor node type T, a fixed number n of nodes is sampled.\n",
    "\n",
    "\n",
    "\n",
    "\n",
    "\n",
    "import os\n",
    "import torch\n",
    "from torch_geometric.data import HeteroData\n",
    "from tqdm.auto import tqdm\n",
    "import numpy as np\n",
    "def add_reverse_edge_original_attributes_and_label_inplace(original_edge, reverse_edge):\n",
    "    # add edge label and index and edge attr to reverse edge \n",
    "    if 'edge_attr' in original_edge:\n",
    "        reverse_edge['edge_attr'] = original_edge['edge_attr']\n",
    "    reverse_edge['edge_label'] = original_edge['edge_label']\n",
    "    reverse_edge['edge_label_index'] = original_edge['edge_label_index'].index_select(0, torch.LongTensor([1, 0]))\n",
    "    for key in original_edge.keys():\n",
    "        if key not in ['edge_index', 'edge_attr', 'edge_label', 'edge_label_index']:\n",
    "            reverse_edge[key] = original_edge[key]\n",
    "                \n",
    "    return reverse_edge\n",
    "\n",
    "def get_datasets(get_edge_attr=False, filename=None, filter_top_k=False, top_k=50, remove_text_attr=True):\n",
    "    if filename is None:\n",
    "        filename = 'HeteroData_Learnings_normalized_triangles_withadditionaldata_v1.pt'\n",
    "    size = os.path.getsize(filename)\n",
    "    print('size of dataset on disk: ', size/1e9, 'gb')\n",
    "\n",
    "    if os.path.exists(filename):\n",
    "        data = HeteroData.from_dict(torch.load(filename))\n",
    "        print('loading saved heterodata object')\n",
    "\n",
    "\n",
    "    \n",
    "    def top_k_mask(scores, indices, top_k ):\n",
    "        # Make sure we are using the GPU\n",
    "        scores = scores.cuda()\n",
    "        indices = indices.cuda()\n",
    "        \n",
    "        # Create an empty mask with the same shape as scores\n",
    "        mask = torch.zeros_like(scores, dtype=torch.bool)\n",
    "        # Get the unique indices and their counts\n",
    "        unique_indices, counts = torch.unique(indices, return_counts=True)\n",
    "    \n",
    "        # Indices where count > top_k\n",
    "        large_indices = unique_indices[counts > top_k]\n",
    "    \n",
    "        # Set mask for indices where count <= top_k\n",
    "        mask[~torch.isin(indices,large_indices)] = True\n",
    "        # For indices where count > 50, we only keep top 50 scores\n",
    "        for idx in tqdm(large_indices):\n",
    "            idx_mask = (indices == idx)\n",
    "            values, idxs = scores[idx_mask].topk(top_k)\n",
    "            a = mask[idx_mask]\n",
    "            a[idxs] = True\n",
    "            mask[idx_mask] = a\n",
    "            \n",
    "        return mask.cpu()\n",
    "\n",
    "    \n",
    "   \n",
    "    if filter_top_k:\n",
    "        print('for skill job edges keep top k edges per job, k is ',top_k)\n",
    "        e = ('skills', 'job_skill', 'jobs')\n",
    "        rev_e = (e[2],'rev_'+e[1],e[0])\n",
    "        cache_dir = 'cache'\n",
    "        if not os.path.exists(cache_dir):\n",
    "            os.makedirs(cache_dir)\n",
    "        \n",
    "        mask_path = os.path.join(cache_dir, f'mask{top_k}.pt') \n",
    "        \n",
    "        if os.path.isfile(mask_path):\n",
    "            mask = torch.load(mask_path)\n",
    "        else:\n",
    "            mask = top_k_mask(data[e].edge_attr.squeeze(1), data[e].edge_index[1,:], top_k)\n",
    "            torch.save(mask, mask_path) \n",
    "        \n",
    "        data[e].edge_attr = data[e].edge_attr[mask]\n",
    "        data[rev_e].edge_attr = data[rev_e].edge_attr[mask]\n",
    "        data[e].edge_index = data[e].edge_index[:,mask]\n",
    "        data[rev_e].edge_index = data[rev_e].edge_index[:,mask]\n",
    "        print('keep',torch.sum(mask), 'of total',mask.shape[0])\n",
    "    \n",
    "    \n",
    "    from torch_geometric import seed_everything\n",
    "    import torch_geometric.transforms as T\n",
    "    from torch_geometric.utils import sort_edge_index\n",
    "\n",
    "\n",
    "    \n",
    "    edge_types = []\n",
    "    rev_edge_types = []\n",
    "    for edge_type in data.edge_types:\n",
    "        if edge_type[1].startswith('rev_'):\n",
    "            rev_edge_types.append(edge_type)\n",
    "        else:\n",
    "            edge_types.append(edge_type)\n",
    "\n",
    "    transform = T.RandomLinkSplit(\n",
    "        is_undirected=True,\n",
    "        edge_types=edge_types,\n",
    "        rev_edge_types=rev_edge_types,\n",
    "        num_val=0.02,\n",
    "        num_test=0.05,\n",
    "        add_negative_train_samples=False, # only adds neg samples for val and test, neg train are added by LinkNeighborLoader. This means for each train batch, negs. are different, for val and train they stay the same\n",
    "        neg_sampling_ratio=1.0,\n",
    "        disjoint_train_ratio=0.3, #  training edges are shared for message passing and supervision\n",
    "        )\n",
    "\n",
    "    seed_everything(14)\n",
    "    # sort by col to speed up sampling later (we can sepcify is_sorted=True in link neighbor loader)\n",
    "    # we actually dont use the sort, because it seems to mess up things, but have not checked if everything works without sorting, so we leave it here\n",
    "    def sort_edges(data):\n",
    "        for edge_type in data.edge_types:\n",
    "            if 'edge_attr' in data[edge_type].keys():\n",
    "                data[edge_type].edge_index, data[edge_type].edge_attr = sort_edge_index(data[edge_type].edge_index, data[edge_type].edge_attr, sort_by_row=False) \n",
    "            else:\n",
    "                data[edge_type].edge_index = sort_edge_index(data[edge_type].edge_index, sort_by_row=False) \n",
    "        return data\n",
    "    \n",
    "\n",
    "    def preprocess(data):\n",
    "        if not get_edge_attr:\n",
    "            # delete edge_attr of every edge type\n",
    "            for edge_type in data.edge_types:\n",
    "                del data[edge_type].edge_attr \n",
    "\n",
    "        # delete all keys for every node type except 'x' (e.g. description and title)\n",
    "        for node_type in data.node_types:\n",
    "            keys = list(data[node_type].keys())\n",
    "            for key in keys:\n",
    "                if key != 'x':\n",
    "                    del data[node_type][key]\n",
    "        return data\n",
    "    \n",
    "    \n",
    "    # change all types to float32 and normalize the triangle columns\n",
    "    for node_type in data.node_types:\n",
    "        for i in range(data[node_type].x.shape[1]):\n",
    "            if data[node_type].x[:,i].max()>5:\n",
    "                #normalize\n",
    "                print('normalizing column ', i, ' of node type ', node_type)\n",
    "                data[node_type].x[:,i] = data[node_type].x[:,i]/data[node_type].x[:,i].max()\n",
    "        \n",
    "        data[node_type].x = data[node_type].x.to(torch.float32)\n",
    "        \n",
    "    \n",
    "    \n",
    "    train_data, val_data, test_data = transform(data)\n",
    "    #train_data = sort_edges(train_data)\n",
    "    #val_data = sort_edges(val_data)\n",
    "    #test_data = sort_edges(test_data)\n",
    "    if remove_text_attr:\n",
    "        train_data = preprocess(train_data)\n",
    "        val_data = preprocess(val_data)\n",
    "        test_data = preprocess(test_data)\n",
    "    \n",
    "    return train_data, val_data, test_data\n",
    "\n",
    "\n",
    "\n",
    "\n",
    "from torch_geometric.loader import LinkNeighborLoader\n",
    "from torch_geometric.loader import HGTLoader\n",
    "from torch_geometric.sampler import NegativeSampling\n",
    "\n",
    "def get_hgt_linkloader(data, target_edge, batch_size, is_training, sampling_mode, neg_ratio, num_neighbors_hgtloader, num_workers, prefetch_factor, pin_memory):\n",
    "    # first sample some edges in linkNeighborLoader\n",
    "    # use the nodes of the sampled edges to sample from hgt loader\n",
    "    \n",
    "    \n",
    "    num_neighbors_linkloader = [0]\n",
    "    #for edge_type in data.edge_types:\n",
    "    #    num_neighbors_linkloader[edge_type] = [0,0]\n",
    "    \n",
    "    negative_sampling = NegativeSampling(\n",
    "        mode=sampling_mode, # binary or triplet\n",
    "        amount=neg_ratio  # ratio, like Graphsage # 10\n",
    "        #weight=  # \"Probabilities\" of nodes to be sampled: Node degree follows power law distribution\n",
    "        )\n",
    "    \n",
    "    if sampling_mode == 'triplet':\n",
    "        data[target_edge].edge_label = None\n",
    "        \n",
    "\n",
    "    linkNeighborLoader = LinkNeighborLoader(\n",
    "            data,\n",
    "            num_neighbors=num_neighbors_linkloader,\n",
    "            edge_label_index=(target_edge, data[target_edge].edge_label_index), # if (edge, None), None means all edges are considered\n",
    "        \n",
    "            neg_sampling=negative_sampling, # adds negative samples\n",
    "            batch_size=batch_size,\n",
    "            shuffle=is_training, #is_training\n",
    "            subgraph_type='directional', # contains only sampled edges\n",
    "            #drop_last=True,\n",
    "            num_workers=num_workers,\n",
    "            #disjoint=True # sampled seed node creates its own, disjoint from the rest, subgraph, will add \"batch vector\" to loader output\n",
    "        \n",
    "            #num_workers=2,\n",
    "            #prefetch_factor=2\n",
    "            is_sorted = False,\n",
    "            pin_memory=pin_memory,\n",
    "            prefetch_factor=prefetch_factor,\n",
    "    )\n",
    "   \n",
    "   \n",
    "    def get_hgt(data, input_nodetype, input_mask):\n",
    "        return next(iter(HGTLoader(\n",
    "                data,\n",
    "                # Sample 512 nodes per type and per iteration for 4 iterations\n",
    "                num_samples=num_neighbors_hgtloader,\n",
    "                batch_size=input_mask.shape[0],\n",
    "                input_nodes=(input_nodetype, input_mask),\n",
    "                num_workers=num_workers,\n",
    "                pin_memory=pin_memory,\n",
    "                prefetch_factor=prefetch_factor,\n",
    "            )))\n",
    "        \n",
    "    \n",
    "    def add_self_loops(data):\n",
    "        for node_type in data.node_types:\n",
    "            data[node_type, 'self_loop', node_type].edge_index = torch.arange(data[node_type].num_nodes).repeat(2,1)\n",
    "        return data \n",
    "\n",
    "            \n",
    "    def get_hgt_with_selfloops(loader):\n",
    "        \n",
    "        \n",
    "        for batch in loader:   \n",
    "            if sampling_mode=='triplet':      \n",
    "                # original edge_label_index from the whole data object\n",
    "                unmapped_batchids = torch.cat((batch[target_edge[0]].src_index,batch[target_edge[2]].dst_pos_index, batch[target_edge[2]].dst_neg_index.flatten()))\n",
    "                original_node_ids = batch[target_edge[0]].n_id[unmapped_batchids]\n",
    "                original_edge_label_nodes = torch.LongTensor(original_node_ids.unique())\n",
    "\n",
    "                #remapping or sorting is not needed, since nodes are sorted, also in the htg batch, the edges will be the same\n",
    "                src = batch[target_edge[0]].src_index.unsqueeze(0)\n",
    "                src_total = src\n",
    "                for i in range(neg_ratio):\n",
    "                    src_total = torch.cat((src_total,src), dim=1)\n",
    "                dst = torch.cat((batch[target_edge[2]].dst_pos_index, batch[target_edge[2]].dst_neg_index.flatten()),dim=0).unsqueeze(0)\n",
    "                \n",
    "                local_edge_label_index = torch.cat((src_total, dst),dim=0)\n",
    "                edge_label = torch.cat((torch.ones(batch[target_edge[2]].dst_pos_index.shape[0]), torch.zeros(batch[target_edge[2]].dst_neg_index.flatten().shape[0])))\n",
    "                \n",
    "            elif sampling_mode=='binary':\n",
    "                unmapped_batchids = batch[target_edge].edge_label_index.flatten()\n",
    "                original_node_ids = batch[target_edge[0]].n_id[unmapped_batchids]\n",
    "                original_edge_label_nodes = torch.LongTensor(original_node_ids.unique())\n",
    "\n",
    "            else:\n",
    "                raise Exception('binary or triplet sampling mode')\n",
    "                \n",
    "                \n",
    "            hgt_batch = get_hgt(data, target_edge[0], original_edge_label_nodes) # 0,1,3,4,5,6,7,8,9,\n",
    "          \n",
    "            if sampling_mode=='triplet':\n",
    "                \n",
    "                # return message passing edges, and supervision edges/labels, ignore labels/label_indices in the message passing edges\n",
    "                yield add_self_loops(hgt_batch), local_edge_label_index, edge_label, batch[target_edge].input_id, original_node_ids\n",
    "            else: # sampling_mode=='binary':\n",
    "                # return message passing edges, and supervision edges/labels, ignore labels/label_indices in the message passing edges, as well as original edge indices\n",
    "                yield add_self_loops(hgt_batch), batch[target_edge].edge_label_index, batch[target_edge].edge_label, batch[target_edge].input_id, original_node_ids\n",
    "    \n",
    "    def get_hgt_2types_with_selfloops(loader):\n",
    "        for batch in loader:\n",
    "            if sampling_mode=='triplet':   \n",
    "                original_src_nodes = batch[target_edge[0]].n_id[batch[target_edge[0]].src_index]\n",
    "                original_edge_label_nodes_class1 = torch.LongTensor(original_src_nodes.unique())\n",
    "                \n",
    "                original_dst_nodes = batch[target_edge[2]].n_id[torch.cat((batch[target_edge[2]].dst_pos_index, batch[target_edge[2]].dst_neg_index.flatten()))]\n",
    "                original_edge_label_nodes_class2 = torch.LongTensor(original_dst_nodes.unique())\n",
    "                \n",
    "                \n",
    "                src = batch[target_edge[0]].src_index.unsqueeze(0)\n",
    "                src_total = src\n",
    "                for i in range(neg_ratio):\n",
    "                    src_total = torch.cat((src_total,src), dim=1)\n",
    "                \n",
    "                dst = torch.cat((batch[target_edge[2]].dst_pos_index, batch[target_edge[2]].dst_neg_index.flatten()),dim=0).unsqueeze(0)\n",
    "                \n",
    "                local_edge_label_index = torch.cat((src_total, dst),dim=0)\n",
    "                edge_label = torch.cat((torch.ones(batch[target_edge[2]].dst_pos_index.shape[0]), torch.zeros(batch[target_edge[2]].dst_neg_index.flatten().shape[0])))\n",
    "\n",
    "            elif sampling_mode=='binary':\n",
    "                original_src_nodes = batch[target_edge[0]].n_id[batch[target_edge].edge_label_index[0,:]]\n",
    "                original_edge_label_nodes_class1 = original_src_nodes.unique()\n",
    "                original_dst_nodes = batch[target_edge[2]].n_id[batch[target_edge].edge_label_index[1,:]]\n",
    "                original_edge_label_nodes_class2 = original_dst_nodes.unique()\n",
    "\n",
    "            else:\n",
    "                raise Exception('binary or triplet sampling mode')\n",
    "\n",
    "            # batch the start and end supervision nodes separately\n",
    "            hgt_batch1 = get_hgt(data, target_edge[0], original_edge_label_nodes_class1)\n",
    "            hgt_batch2 = get_hgt(data, target_edge[2], original_edge_label_nodes_class2)\n",
    "            \n",
    "            \n",
    "            # ** We dont need to remove any edges ** since the supervision edges wont be sampled by hgt\n",
    "            if sampling_mode=='triplet':\n",
    "                yield add_self_loops(hgt_batch1), add_self_loops(hgt_batch2), local_edge_label_index, edge_label, batch[target_edge].input_id, original_src_nodes, original_dst_nodes\n",
    "            else: # sampling_mode=='binary':\n",
    "                # we can access the corresponding nodes of edge_label_index[0,:] in hgt_batch1[target_edge[0]], those of [1,:] in hgt_batch2...\n",
    "                yield add_self_loops(hgt_batch1), add_self_loops(hgt_batch2), batch[target_edge].edge_label_index, batch[target_edge].edge_label, batch[target_edge].input_id, original_src_nodes, original_dst_nodes\n",
    "\n",
    "        \n",
    "    if target_edge[0] == target_edge[2]:\n",
    "        # same edge type, only need to sample once\n",
    "        return get_hgt_with_selfloops(linkNeighborLoader)\n",
    "    else:\n",
    "        return get_hgt_2types_with_selfloops(linkNeighborLoader)\n",
    "\n",
    "\n",
    "import random\n",
    "\n",
    "def get_minibatch_count(data, batch_size):\n",
    "    batches = []\n",
    "    for edge_type in data.edge_types:\n",
    "        if edge_type[1].startswith('rev_'):\n",
    "            continue\n",
    "        batches.extend([edge_type for _ in range((data[edge_type].edge_label_index.shape[1]+batch_size)//batch_size)])\n",
    "        \n",
    "    return len(batches)\n",
    "\n",
    "def get_single_minibatch_count(data, batch_size, edge_type):\n",
    "    return (data[edge_type].edge_label_index.shape[1]+batch_size)//batch_size\n",
    "\n",
    "def uniform_hgt_sampler(data, batch_size, is_training, sampling_mode, neg_sampling_ratio, num_neighbors, num_workers, prefetch_factor, pin_memory):\n",
    "\n",
    "    # return batches from all edgetypes with each \"edge\" being drawn uniformly at random (but we translate the probabilities to batches), last batches of each edge type may be smaller than batch_size\n",
    "    batches = []\n",
    "    loaders = {}\n",
    "    # only the non-reverse edge types for now\n",
    "    for edge_type in data.edge_types:\n",
    "        if edge_type[1].startswith('rev_'):\n",
    "            continue\n",
    "        batches.extend([edge_type for _ in range((data[edge_type].edge_label_index.shape[1]+batch_size)//batch_size)])\n",
    "        loaders[edge_type]=get_hgt_linkloader(data, edge_type, batch_size, is_training, sampling_mode, neg_sampling_ratio, num_neighbors, num_workers, prefetch_factor, pin_memory)\n",
    "        \n",
    "    random.seed(14)\n",
    "    random.shuffle(batches)\n",
    "    # set a random random seed again (may affect creating the loaders later for a second epoch)\n",
    "    random.seed()\n",
    "    \n",
    "    print('total batches:', len(batches))\n",
    "    \n",
    "    for target_edge_type in batches:\n",
    "        if target_edge_type[0] == target_edge_type[2]:\n",
    "            same_nodetype = True\n",
    "        else:\n",
    "            same_nodetype = False\n",
    "        try:\n",
    "            minibatch = next(loaders[target_edge_type])\n",
    "        except StopIteration: # \"reinit\" iterator\n",
    "            loaders[target_edge_type] = get_hgt_linkloader(data, target_edge_type, batch_size, is_training, sampling_mode, neg_sampling_ratio, num_neighbors, num_workers, prefetch_factor, pin_memory)#iter(loaders[target_edge_type])\n",
    "            minibatch = next(loaders[target_edge_type])\n",
    "            pass\n",
    "\n",
    "        yield same_nodetype, target_edge_type, minibatch\n",
    "        \n",
    "def sampler_for_init(data, batch_size, is_training, sampling_mode, neg_sampling_ratio, num_neighbors, num_workers, prefetch_factor, pin_memory):\n",
    "    batchcount=[]\n",
    "    batches=[]\n",
    "    loaders = {}\n",
    "    for edge_type in data.edge_types:\n",
    "        if edge_type[1].startswith('rev_'):\n",
    "            continue\n",
    "        batchcount.extend([edge_type for _ in range((data[edge_type].edge_label_index.shape[1]+batch_size)//batch_size)])\n",
    "        batches.append(edge_type)\n",
    "        loaders[edge_type]=get_hgt_linkloader(data, edge_type, batch_size, is_training, sampling_mode, neg_sampling_ratio, num_neighbors, num_workers, prefetch_factor, pin_memory)\n",
    "        \n",
    "    print('total batches:', len(batchcount))\n",
    "\n",
    "    \n",
    "    # set a random random seed again (may affect creating the loaders later for a second epoch)\n",
    "    random.seed()\n",
    "    \n",
    "    for target_edge_type in batches:\n",
    "        if target_edge_type[0] == target_edge_type[2]:\n",
    "            same_nodetype = True\n",
    "        else:\n",
    "            same_nodetype = False\n",
    "        try:\n",
    "            minibatch = next(loaders[target_edge_type])\n",
    "        except StopIteration: # \"reinit\" iterator\n",
    "            loaders[target_edge_type] = get_hgt_linkloader(data, target_edge_type, batch_size, is_training, sampling_mode, neg_sampling_ratio, num_neighbors, num_workers, prefetch_factor, pin_memory)#iter(loaders[target_edge_type])\n",
    "            minibatch = next(loaders[target_edge_type])\n",
    "            pass\n",
    "            \n",
    "        yield same_nodetype, target_edge_type, minibatch\n",
    "\n",
    "def equal_edgeweight_hgt_sampler(data, batch_size, is_training, sampling_mode, neg_sampling_ratio, num_neighbors, num_workers, prefetch_factor, pin_memory):\n",
    "    batchcount=[]\n",
    "    batches=[]\n",
    "    loaders = {}\n",
    "    for edge_type in data.edge_types:\n",
    "        if edge_type[1].startswith('rev_'):\n",
    "            continue\n",
    "        batchcount.extend([edge_type for _ in range((data[edge_type].edge_label_index.shape[1]+batch_size)//batch_size)])\n",
    "        batches.append(edge_type)\n",
    "        loaders[edge_type]=get_hgt_linkloader(data, edge_type, batch_size, is_training, sampling_mode, neg_sampling_ratio, num_neighbors, num_workers, prefetch_factor, pin_memory)\n",
    "        \n",
    "    print('total batches:', len(batchcount))\n",
    "\n",
    "    batches = random.choices(batches, k=len(batchcount)) \n",
    "    # set a random random seed again (may affect creating the loaders later for a second epoch)\n",
    "    random.seed()\n",
    "    \n",
    "   \n",
    "    \n",
    "    for target_edge_type in batches:\n",
    "        if target_edge_type[0] == target_edge_type[2]:\n",
    "            same_nodetype = True\n",
    "        else:\n",
    "            same_nodetype = False\n",
    "        try:\n",
    "            minibatch = next(loaders[target_edge_type])\n",
    "        except StopIteration: # \"reinit\" iterator\n",
    "            loaders[target_edge_type] = get_hgt_linkloader(data, target_edge_type, batch_size, is_training, sampling_mode, neg_sampling_ratio, num_neighbors, num_workers, prefetch_factor, pin_memory)#iter(loaders[target_edge_type])\n",
    "            minibatch = next(loaders[target_edge_type])\n",
    "            pass\n",
    "            \n",
    "        yield same_nodetype, target_edge_type, minibatch"
   ]
  },
  {
   "cell_type": "code",
   "execution_count": 3,
   "metadata": {},
   "outputs": [
    {
     "name": "stdout",
     "output_type": "stream",
     "text": [
      "size of dataset on disk:  2.279761238 gb\n",
      "loading saved heterodata object\n",
      "for skill job edges keep top k edges per job, k is  50\n",
      "keep tensor(1208056) of total 16289586\n"
     ]
    }
   ],
   "source": [
    "#from graph_sampler import get_datasets, equal_edgeweight_hgt_sampler, get_minibatch_count, add_reverse_edge_original_attributes_and_label_inplace, get_hgt_linkloader, get_single_minibatch_count, sampler_for_init\n",
    "\n",
    "train_data, val_data, test_data = get_datasets(get_edge_attr=False, filename=ROOT_FOLDER+'HeteroData_Learnings_normalized_triangles_withadditionaldata_v1.pt', filter_top_k=True, top_k=50)\n"
   ]
  },
  {
   "cell_type": "code",
   "execution_count": 4,
   "metadata": {},
   "outputs": [],
   "source": [
    "import torch\n",
    "from models.TransE import TransE\n",
    "from models.DistMult import DistMult\n",
    "from models.HGT import HGT\n",
    "import torch_geometric\n",
    "device = torch.device('cuda' if torch.cuda.is_available() else 'cpu')\n",
    "\n",
    "class Model(torch.nn.Module):\n",
    "    def __init__(self, gnn : torch.nn.Module, head , node_types, edge_types, ggn_output_dim, pnorm=1):\n",
    "        super().__init__()\n",
    "        # edge_type onehot lookup table with keys\n",
    "        # node_type onehot lookup table with keys\n",
    "        self.node_type_embedding = torch.nn.Embedding(len(node_types), ggn_output_dim) # hidden channels should be the output dim of gnn\n",
    "        \n",
    "        self.edge_types = edge_types\n",
    "        for edge_type in edge_types:\n",
    "            if edge_type[1].startswith('rev_'):\n",
    "                self.edge_types.remove(edge_type)\n",
    "        \n",
    "        # create edge to int mapping\n",
    "        self.edgeindex_lookup = {edge_type:torch.tensor(i)  for i, edge_type in enumerate(edge_types)}\n",
    "            \n",
    "        # hidden channels should be the output dim of gnn\n",
    "        if head=='TransE': \n",
    "            self.head = TransE(len(node_types), len(edge_types) , ggn_output_dim, p_norm= pnorm, margin=0.5)  # KGE head with loss function\n",
    "        elif head=='DistMult':\n",
    "            self.head = DistMult(len(node_types), len(edge_types) , ggn_output_dim, p_norm= pnorm, margin=0.5)  # KGE head with loss function\n",
    "        else:\n",
    "            raise NotImplementedError\n",
    "        \n",
    "        self.gnn = gnn\n",
    "        \n",
    "    \n",
    "\n",
    "    def forward(self, hetero_data1, target_edge_type, edge_label_index, edge_label, hetero_data2=None, get_head_fn='loss'):\n",
    "        \n",
    "        if hetero_data2 is not None:\n",
    "            assert target_edge_type[0] != target_edge_type[2], 'when passing two data objects, the edge type has to contain two different node types'\n",
    "            head_embeddings = self.gnn(hetero_data1.x_dict, hetero_data1.edge_index_dict)[target_edge_type[0]][edge_label_index[0,:]]\n",
    "            tail_embeddings = self.gnn(hetero_data2.x_dict, hetero_data2.edge_index_dict)[target_edge_type[2]][edge_label_index[1,:]]\n",
    "        else:\n",
    "            assert target_edge_type[0] == target_edge_type[2], 'when passing one data object, the edge type has to contain the same node types'\n",
    "\n",
    "\n",
    "            embeddings = self.gnn(hetero_data1.x_dict, hetero_data1.edge_index_dict)\n",
    "            head_embeddings = embeddings[target_edge_type[0]][edge_label_index[0,:]]\n",
    "            tail_embeddings = embeddings[target_edge_type[2]][edge_label_index[1,:]]\n",
    "\n",
    "        \n",
    "        edgeindex = self.edgeindex_lookup[target_edge_type]\n",
    "        if get_head_fn=='loss':\n",
    "            loss = self.head.loss(head_embeddings, edgeindex.to(device), tail_embeddings, edge_label)\n",
    "            return loss\n",
    "        elif get_head_fn=='forward':\n",
    "            return self.head.forward(head_embeddings, edgeindex.to(device), tail_embeddings)\n",
    "    \n",
    "        \n",
    "metadata = train_data.metadata()\n",
    "# add selfloops\n",
    "for node_type in train_data.node_types:\n",
    "    metadata[1].append((node_type, 'self_loop', node_type))    \n",
    "    \n",
    "out_channels = 256\n",
    "hidden_channels = 256\n",
    "num_heads = 8\n",
    "num_layers = 2\n",
    "pnorm = 2\n",
    "head = 'TransE'\n",
    "gnn = HGT(hidden_channels=out_channels, out_channels=out_channels, num_heads=num_heads, num_layers=num_layers, node_types=train_data.node_types, data_metadata=metadata)\n",
    "\n",
    "model = Model(gnn, head=head, node_types=metadata[0], edge_types=metadata[1], ggn_output_dim=out_channels, pnorm=pnorm)\n",
    "#torch_geometric.compile(model, dynamic=True)\n",
    "model.to(device)\n"
   ]
  },
  {
   "cell_type": "code",
   "execution_count": null,
   "metadata": {},
   "outputs": [],
   "source": [
    "# init model\n",
    "from tqdm.auto import tqdm\n",
    "from datetime import datetime\n",
    "batch_size = 32\n",
    "num_node_types = len(train_data.node_types)\n",
    "print('num_node_types', num_node_types)\n",
    "one_hop_neighbors = (20 * batch_size)//num_node_types # per relationship type\n",
    "two_hop_neighbors = (20 * 8 * batch_size)//num_node_types # per relationship type\n",
    "three_hop_neighbors = (20 * 8 * 3 * batch_size)//num_node_types # per relationship type\n",
    "num_neighbors = [one_hop_neighbors, two_hop_neighbors] # three_hop_neighbors\n",
    "# num_neighbors [36, 363, 1454]\n",
    "\n",
    "print('num_neighbors', num_neighbors)\n",
    "print('avg_num_neighbors', [num_neighbors[0]/batch_size,num_neighbors[1]/batch_size,  num_neighbors[2]/batch_size if len(num_neighbors)==3 else 0 ])\n",
    "\n",
    "sampler_for_init = equal_edgeweight_hgt_sampler(train_data, batch_size, True, 'triplet', 1, num_neighbors, num_workers=0, prefetch_factor=None, pin_memory=True) \n",
    "\n"
   ]
  },
  {
   "cell_type": "code",
   "execution_count": null,
   "metadata": {},
   "outputs": [],
   "source": [
    "# have to init until all node types are present\n",
    "model.eval()\n",
    "for i, (same_nodetype, target_edge_type, minibatch) in tqdm(enumerate(sampler_for_init)):\n",
    "\n",
    "    # batching is different depending on if node types in edge are same or different\n",
    "    print(target_edge_type)\n",
    "    if same_nodetype:\n",
    "        \n",
    "        minibatch, edge_label_index, edge_label, input_edge_ids, global_node_ids = minibatch\n",
    "        #print(minibatch['jobs'].x.device, edge_label_index.device, edge_label.device)\n",
    "        loss = model(minibatch.to(device), target_edge_type, edge_label_index.to(device), edge_label.to(device))\n",
    "        #loss, pos, neg = model(minibatch, target_edge_type, edge_label_index, edge_label)\n",
    "    else:\n",
    "        try:\n",
    "            minibatchpart1, minibatchpart2, edge_label_index, edge_label, input_edge_id, global_src_ids, global_dst_ids = minibatch\n",
    "        except ValueError as err:\n",
    "            print('value error', err)\n",
    "            continue # for skill qual edges sometimes for some reason only 5 instead of 7 elements returned\n",
    "        #print(minibatchpart1['jobs'].device, minibatchpart2['jobs'].device, edge_label_index.device, edge_label.device)\n",
    "        loss = model(minibatchpart1.to(device), target_edge_type, edge_label_index.to(device), edge_label.to(device), minibatchpart2.to(device))"
   ]
  },
  {
   "cell_type": "code",
   "execution_count": null,
   "metadata": {},
   "outputs": [],
   "source": [
    "# get parameters form statedcit\n",
    "model.load_state_dict = torch.load(ROOT_FOLDER+'models/learningall_hgt_20231104_123858_margin05_pnorm2_llr0.0002_bs32_neighbors_106_853_head_TransE_hiddenchannels_256_outchannels_256_numheads_8_numlayers_2/')"
   ]
  },
  {
   "cell_type": "code",
   "execution_count": 21,
   "metadata": {},
   "outputs": [],
   "source": [
    "# evaluate model on test set\n",
    "# init dimensions of model by training it\n",
    "from tqdm.auto import tqdm\n",
    "from datetime import datetime\n",
    "import numpy as np \n",
    "\n",
    "def evaluate(model, n_negatives, model_folder, on='test'):\n",
    "    num_neighbors = [int(x) for x in model_folder.split('neighbors_')[1].split('head')[0].strip('_').split('_')]\n",
    "    \n",
    "    model.to(device)\n",
    "    mrrs = []\n",
    "   \n",
    "    \n",
    "    #test_sampler = get_hgt_linkloader(test_data, input_edgetype, 1, False, 'triplet', n_negatives, num_neighbors, num_workers=0, prefetch_factor=None, pin_memory=True)\n",
    "    \n",
    "\n",
    "\n",
    "\n",
    "    # test data\n",
    "    train_data_text, val_data_text, test_data_text = get_datasets(get_edge_attr=False, filename=ROOT_FOLDER+'HeteroData_Learnings_normalized_triangles_withadditionaldata_v1.pt', filter_top_k=True, top_k=50, remove_text_attr=False)\n",
    "    input_edgetype = ('people', 'rev_course_and_programs_student', 'courses_and_programs')\n",
    "    if on=='test':\n",
    "        add_reverse_edge_original_attributes_and_label_inplace(test_data['courses_and_programs', 'course_and_programs_student', 'people'], reverse_edge=test_data[input_edgetype] )\n",
    "        test_sampler = get_hgt_linkloader(test_data, input_edgetype, 1, False, 'triplet', n_negatives, num_neighbors, num_workers=0, prefetch_factor=None, pin_memory=True)\n",
    "    elif on =='train':\n",
    "        add_reverse_edge_original_attributes_and_label_inplace(train_data['courses_and_programs', 'course_and_programs_student', 'people'], reverse_edge=train_data[input_edgetype] )\n",
    "        test_sampler = get_hgt_linkloader(train_data, input_edgetype, 1, False, 'triplet', n_negatives, num_neighbors, num_workers=0, prefetch_factor=None, pin_memory=True)\n",
    "    # test data\n",
    "    model.eval()\n",
    "    mrr_per_edge_type = {}\n",
    "    rank_per_edge_type = {}\n",
    "    best_mrr, best_differences, best_src_nodes, best_dst_nodes = 0, None, None, None\n",
    "    for i, (same_nodetype, target_edge_type, minibatch) in tqdm(enumerate(sampler_for_init)):\n",
    "        if i==1000:\n",
    "            break\n",
    "        \n",
    "        print(target_edge_type)\n",
    "        if same_nodetype:\n",
    "            minibatch, edge_label_index, edge_label, input_edge_ids, global_node_ids = minibatch\n",
    "            #print(minibatch['jobs'].x.device, edge_label_index.device, edge_label.device)\n",
    "            differences = model(minibatch.to(device), target_edge_type, edge_label_index.to(device), edge_label.to(device))\n",
    "            #loss, pos, neg = model(minibatch, target_edge_type, edge_label_index, edge_label)\n",
    "        else:\n",
    "            try:\n",
    "                minibatchpart1, minibatchpart2, edge_label_index, edge_label, input_edge_id, global_src_ids, global_dst_ids = minibatch\n",
    "            except ValueError as err:\n",
    "                print('value error', err)\n",
    "                continue # for skill qual edges sometimes for some reason only 5 instead of 7 elements returned\n",
    "            #print(minibatchpart1['jobs'].device, minibatchpart2['jobs'].device, edge_label_index.device, edge_label.device)\n",
    "            differences = model(minibatchpart1.to(device), target_edge_type, edge_label_index.to(device), edge_label.to(device), minibatchpart2.to(device))\n",
    "        #loss.backward()\n",
    "\n",
    "        # define mrr with differences and labels\n",
    "        # get rank of positive edge from tensor, positive edge is first in batch\n",
    "\n",
    "        differences = -1* differences.cpu().detach().numpy()\n",
    "        edge_label = edge_label.cpu().detach().numpy()\n",
    "        rank = (differences < differences[0]).sum()\n",
    "\n",
    "        # reciprocal\n",
    "        mrr = 1/(rank+1)\n",
    "        if mrr > best_mrr:\n",
    "            best_mrr = mrr\n",
    "            best_differences = differences\n",
    "            best_src_nodes = global_src_nodes\n",
    "            best_dst_nodes = global_dst_nodes\n",
    "            print('new best mrr', best_mrr)\n",
    "            \n",
    "    \n",
    "        mrrs.append(mrr)\n",
    "        mrr_per_edge_type[target_edge_type] = mrr_per_edge_type.get(target_edge_type, []) + [mrr]\n",
    "        rank_per_edge_type[target_edge_type] = rank_per_edge_type.get(target_edge_type, []) + [rank]\n",
    "        print('mrr',target_edge_type,mrr)\n",
    "        print(rank)\n",
    "        \n",
    "    print('mean mrr',np.mean(mrrs))\n",
    "    print('mean rank',1/np.mean(mrrs))\n",
    "    # mean rank\n",
    "    model.to('cpu')\n"
   ]
  },
  {
   "cell_type": "code",
   "execution_count": 30,
   "metadata": {},
   "outputs": [
    {
     "data": {
      "text/plain": [
       "torch.Size([32494])"
      ]
     },
     "execution_count": 30,
     "metadata": {},
     "output_type": "execute_result"
    }
   ],
   "source": [
    "torch.cat((test_data['courses_and_programs', 'course_and_programs_student', 'people'].edge_index[0,:].unique(),test_data['courses_and_programs', 'course_and_programs_student', 'people'].edge_label_index[0,:].unique())).unique().shape"
   ]
  },
  {
   "cell_type": "code",
   "execution_count": 57,
   "metadata": {},
   "outputs": [],
   "source": [
    "a = set(test_data['courses_and_programs', 'course_and_programs_student', 'people'].edge_label_index[0,:].unique().tolist())\n",
    "a2 = set(train_data['courses_and_programs', 'course_and_programs_student', 'people'].edge_label_index[0,:].unique().tolist())"
   ]
  },
  {
   "cell_type": "code",
   "execution_count": 42,
   "metadata": {},
   "outputs": [],
   "source": [
    "b = set(torch.cat((train_data['courses_and_programs', 'course_and_programs_student', 'people'].edge_index[0,:].unique(),train_data['courses_and_programs', 'course_and_programs_student', 'people'].edge_label_index[0,:].unique())).tolist())"
   ]
  },
  {
   "cell_type": "code",
   "execution_count": 47,
   "metadata": {},
   "outputs": [
    {
     "data": {
      "text/plain": [
       "9335"
      ]
     },
     "execution_count": 47,
     "metadata": {},
     "output_type": "execute_result"
    }
   ],
   "source": [
    "len(a.intersection(b))"
   ]
  },
  {
   "cell_type": "code",
   "execution_count": 62,
   "metadata": {},
   "outputs": [
    {
     "name": "stdout",
     "output_type": "stream",
     "text": [
      "size of dataset on disk:  2.279761238 gb\n",
      "loading saved heterodata object\n",
      "for skill job edges keep top k edges per job, k is  50\n",
      "keep tensor(1208056) of total 16289586\n"
     ]
    },
    {
     "name": "stderr",
     "output_type": "stream",
     "text": [
      "1it [00:06,  6.70s/it]"
     ]
    },
    {
     "name": "stdout",
     "output_type": "stream",
     "text": [
      "new best mrr 0.0024752475247524753\n"
     ]
    },
    {
     "name": "stderr",
     "output_type": "stream",
     "text": [
      "3it [00:12,  3.57s/it]"
     ]
    },
    {
     "name": "stdout",
     "output_type": "stream",
     "text": [
      "new best mrr 0.05\n"
     ]
    },
    {
     "name": "stderr",
     "output_type": "stream",
     "text": [
      "4it [00:14,  3.11s/it]"
     ]
    },
    {
     "name": "stdout",
     "output_type": "stream",
     "text": [
      "new best mrr 1.0\n"
     ]
    },
    {
     "name": "stderr",
     "output_type": "stream",
     "text": [
      "1000it [45:27,  2.73s/it]\n"
     ]
    },
    {
     "name": "stdout",
     "output_type": "stream",
     "text": [
      "mean mrr 0.17139854320945072\n",
      "mean rank 5.834355305914065\n"
     ]
    }
   ],
   "source": [
    "# evaluate(model_3layereuclid, 10000, model_folder3layereuclid, on='test')\n",
    "# evaluate(model_2layereuclid, 10000, model_folder2layereuclid, on='test')\n",
    "evaluate(model_2layerp1, 10000, model_folder2layerp1, on='test')"
   ]
  },
  {
   "cell_type": "code",
   "execution_count": null,
   "metadata": {},
   "outputs": [
    {
     "name": "stdout",
     "output_type": "stream",
     "text": [
      "size of dataset on disk:  2.279761238 gb\n",
      "loading saved heterodata object\n",
      "for skill job edges keep top k edges per job, k is  50\n",
      "keep tensor(1208056) of total 16289586\n"
     ]
    },
    {
     "name": "stderr",
     "output_type": "stream",
     "text": [
      "1it [00:15, 15.19s/it]"
     ]
    },
    {
     "name": "stdout",
     "output_type": "stream",
     "text": [
      "new best mrr 8.13206473123526e-05\n"
     ]
    },
    {
     "name": "stderr",
     "output_type": "stream",
     "text": [
      "2it [00:23, 10.85s/it]"
     ]
    },
    {
     "name": "stdout",
     "output_type": "stream",
     "text": [
      "new best mrr 0.000500751126690035\n"
     ]
    },
    {
     "name": "stderr",
     "output_type": "stream",
     "text": [
      "4it [00:36,  8.10s/it]"
     ]
    },
    {
     "name": "stdout",
     "output_type": "stream",
     "text": [
      "new best mrr 0.2\n"
     ]
    },
    {
     "name": "stderr",
     "output_type": "stream",
     "text": [
      "8it [01:00,  6.52s/it]"
     ]
    },
    {
     "name": "stdout",
     "output_type": "stream",
     "text": [
      "new best mrr 1.0\n"
     ]
    },
    {
     "name": "stderr",
     "output_type": "stream",
     "text": [
      "200it [23:41,  7.11s/it]\n"
     ]
    },
    {
     "name": "stdout",
     "output_type": "stream",
     "text": [
      "mean mrr 0.13983406037281088\n",
      "mean rank 7.151333497245987\n",
      "size of dataset on disk:  2.279761238 gb\n",
      "loading saved heterodata object\n",
      "for skill job edges keep top k edges per job, k is  50\n",
      "keep tensor(1208056) of total 16289586\n"
     ]
    },
    {
     "name": "stderr",
     "output_type": "stream",
     "text": [
      "1it [00:09,  9.78s/it]"
     ]
    },
    {
     "name": "stdout",
     "output_type": "stream",
     "text": [
      "new best mrr 0.0001484560570071259\n"
     ]
    },
    {
     "name": "stderr",
     "output_type": "stream",
     "text": [
      "2it [00:13,  6.03s/it]"
     ]
    },
    {
     "name": "stdout",
     "output_type": "stream",
     "text": [
      "new best mrr 0.005494505494505495\n"
     ]
    },
    {
     "name": "stderr",
     "output_type": "stream",
     "text": [
      "4it [00:18,  3.63s/it]"
     ]
    },
    {
     "name": "stdout",
     "output_type": "stream",
     "text": [
      "new best mrr 0.16666666666666666\n"
     ]
    },
    {
     "name": "stderr",
     "output_type": "stream",
     "text": [
      "8it [00:27,  2.44s/it]"
     ]
    },
    {
     "name": "stdout",
     "output_type": "stream",
     "text": [
      "new best mrr 0.3333333333333333\n"
     ]
    },
    {
     "name": "stderr",
     "output_type": "stream",
     "text": [
      "31it [01:25,  2.68s/it]"
     ]
    },
    {
     "name": "stdout",
     "output_type": "stream",
     "text": [
      "new best mrr 1.0\n"
     ]
    },
    {
     "name": "stderr",
     "output_type": "stream",
     "text": [
      "200it [09:34,  2.87s/it]\n"
     ]
    },
    {
     "name": "stdout",
     "output_type": "stream",
     "text": [
      "mean mrr 0.08684513895969696\n",
      "mean rank 11.514749264942502\n",
      "size of dataset on disk:  2.279761238 gb\n",
      "loading saved heterodata object\n",
      "for skill job edges keep top k edges per job, k is  50\n",
      "keep tensor(1208056) of total 16289586\n"
     ]
    },
    {
     "name": "stderr",
     "output_type": "stream",
     "text": [
      "1it [00:05,  5.00s/it]"
     ]
    },
    {
     "name": "stdout",
     "output_type": "stream",
     "text": [
      "new best mrr 0.00016452780519907864\n"
     ]
    },
    {
     "name": "stderr",
     "output_type": "stream",
     "text": [
      "2it [00:07,  3.52s/it]"
     ]
    },
    {
     "name": "stdout",
     "output_type": "stream",
     "text": [
      "new best mrr 0.02127659574468085\n"
     ]
    },
    {
     "name": "stderr",
     "output_type": "stream",
     "text": [
      "4it [00:12,  2.73s/it]"
     ]
    },
    {
     "name": "stdout",
     "output_type": "stream",
     "text": [
      "new best mrr 0.1111111111111111\n"
     ]
    },
    {
     "name": "stderr",
     "output_type": "stream",
     "text": [
      "8it [00:20,  2.25s/it]"
     ]
    },
    {
     "name": "stdout",
     "output_type": "stream",
     "text": [
      "new best mrr 1.0\n"
     ]
    },
    {
     "name": "stderr",
     "output_type": "stream",
     "text": [
      "200it [10:11,  3.06s/it]\n"
     ]
    },
    {
     "name": "stdout",
     "output_type": "stream",
     "text": [
      "mean mrr 0.11901925778350261\n",
      "mean rank 8.402001647657823\n"
     ]
    }
   ],
   "source": [
    "evaluate(model_3layereuclid, 10000, model_folder3layereuclid, on='train')\n",
    "evaluate(model_2layereuclid, 10000, model_folder2layereuclid, on='train')\n",
    "evaluate(model_2layerp1, 10000, model_folder2layerp1, on='train')"
   ]
  },
  {
   "cell_type": "code",
   "execution_count": null,
   "metadata": {},
   "outputs": [],
   "source": [
    "evaluate(modele4, 50000, model_foldere4)"
   ]
  },
  {
   "cell_type": "code",
   "execution_count": null,
   "metadata": {},
   "outputs": [],
   "source": [
    "evaluate(modele4euclidean, 50000, model_foldere4euclidean)"
   ]
  },
  {
   "cell_type": "code",
   "execution_count": null,
   "metadata": {},
   "outputs": [],
   "source": [
    "evaluate(modele5, 50000, model_foldere5, on='train')"
   ]
  },
  {
   "cell_type": "code",
   "execution_count": null,
   "metadata": {},
   "outputs": [],
   "source": []
  },
  {
   "cell_type": "code",
   "execution_count": null,
   "metadata": {},
   "outputs": [],
   "source": [
    "evaluate(modele4, 50000, model_foldere4, on='train')"
   ]
  },
  {
   "cell_type": "code",
   "execution_count": null,
   "metadata": {},
   "outputs": [],
   "source": [
    "evaluate(modele4euclidean, 30000, model_foldere4euclidean, on='train')"
   ]
  }
 ],
 "metadata": {
  "kernelspec": {
   "display_name": "Python 3 (ipykernel)",
   "language": "python",
   "name": "python3"
  },
  "language_info": {
   "codemirror_mode": {
    "name": "ipython",
    "version": 3
   },
   "file_extension": ".py",
   "mimetype": "text/x-python",
   "name": "python",
   "nbconvert_exporter": "python",
   "pygments_lexer": "ipython3",
   "version": "3.10.12"
  }
 },
 "nbformat": 4,
 "nbformat_minor": 4
}
