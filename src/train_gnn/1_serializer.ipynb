{
 "cells": [
  {
   "cell_type": "code",
   "execution_count": 1,
   "metadata": {},
   "outputs": [
    {
     "name": "stderr",
     "output_type": "stream",
     "text": [
      "c:\\Users\\I549512\\AppData\\Local\\miniconda3\\envs\\gnnpapersearch\\Lib\\site-packages\\tqdm\\auto.py:21: TqdmWarning: IProgress not found. Please update jupyter and ipywidgets. See https://ipywidgets.readthedocs.io/en/stable/user_install.html\n",
      "  from .autonotebook import tqdm as notebook_tqdm\n"
     ]
    }
   ],
   "source": [
    "import pickle \n",
    "dataset = pickle.load(open(\"arxiv_author_paper_graph_no_features_bare.pkl\", \"rb\"))\n",
    "\n"
   ]
  },
  {
   "cell_type": "code",
   "execution_count": 2,
   "metadata": {},
   "outputs": [
    {
     "data": {
      "text/plain": [
       "HeteroData(\n",
       "  paper={\n",
       "    name=[2381173],\n",
       "    num_nodes=2381173,\n",
       "    license=[2381173],\n",
       "    doi=[2381173],\n",
       "    pages=[2381173],\n",
       "    journal=[2381173],\n",
       "    date=[2381173],\n",
       "    id=[2381173],\n",
       "  },\n",
       "  author={\n",
       "    name=[1894426],\n",
       "    num_nodes=1894426,\n",
       "  },\n",
       "  category={\n",
       "    name=[176],\n",
       "    num_nodes=176,\n",
       "  },\n",
       "  word={\n",
       "    name=[2464870],\n",
       "    num_nodes=2464870,\n",
       "  },\n",
       "  journal={\n",
       "    name=[815904],\n",
       "    num_nodes=815904,\n",
       "  },\n",
       "  (paper, written_by, author)={ edge_index=[2, 10586478] },\n",
       "  (paper, has_category, category)={ edge_index=[2, 4035894] },\n",
       "  (paper, has_word, word)={\n",
       "    edge_index=[2, 156112429],\n",
       "    edge_attr=[156112429],\n",
       "  },\n",
       "  (paper, has_titleword, word)={ edge_index=[2, 18361007] },\n",
       "  (paper, in_journal, journal)={ edge_index=[2, 2381173] },\n",
       "  (word, co_occurs_with, word)={\n",
       "    edge_index=[2, 268481982],\n",
       "    edge_attr=[268481982],\n",
       "  },\n",
       "  (author, rev_written_by, paper)={ edge_index=[2, 10586478] },\n",
       "  (category, rev_has_category, paper)={ edge_index=[2, 4035894] },\n",
       "  (word, rev_has_word, paper)={\n",
       "    edge_index=[2, 156112429],\n",
       "    edge_attr=[156112429],\n",
       "  },\n",
       "  (word, rev_has_titleword, paper)={ edge_index=[2, 18361007] },\n",
       "  (journal, rev_in_journal, paper)={ edge_index=[2, 2381173] }\n",
       ")"
      ]
     },
     "execution_count": 2,
     "metadata": {},
     "output_type": "execute_result"
    }
   ],
   "source": [
    "dataset"
   ]
  },
  {
   "cell_type": "code",
   "execution_count": 2,
   "metadata": {},
   "outputs": [
    {
     "data": {
      "text/plain": [
       "HeteroData(\n",
       "  paper={\n",
       "    num_nodes=2381173,\n",
       "    x=[2381173, 400],\n",
       "  },\n",
       "  author={\n",
       "    num_nodes=1894426,\n",
       "    x=[1894426, 385],\n",
       "  },\n",
       "  category={\n",
       "    num_nodes=176,\n",
       "    x=[176, 385],\n",
       "  },\n",
       "  word={\n",
       "    num_nodes=2464870,\n",
       "    x=[2464870, 386],\n",
       "  },\n",
       "  journal={\n",
       "    num_nodes=815904,\n",
       "    x=[815904, 385],\n",
       "  },\n",
       "  (paper, written_by, author)={ edge_index=[2, 10586478] },\n",
       "  (paper, has_category, category)={ edge_index=[2, 4035894] },\n",
       "  (paper, has_word, word)={\n",
       "    edge_index=[2, 156112429],\n",
       "    edge_attr=[156112429],\n",
       "  },\n",
       "  (paper, has_titleword, word)={ edge_index=[2, 18361007] },\n",
       "  (paper, in_journal, journal)={ edge_index=[2, 2381173] },\n",
       "  (word, co_occurs_with, word)={\n",
       "    edge_index=[2, 268481982],\n",
       "    edge_attr=[268481982],\n",
       "  },\n",
       "  (author, rev_written_by, paper)={ edge_index=[2, 10586478] },\n",
       "  (category, rev_has_category, paper)={ edge_index=[2, 4035894] },\n",
       "  (word, rev_has_word, paper)={\n",
       "    edge_index=[2, 156112429],\n",
       "    edge_attr=[156112429],\n",
       "  },\n",
       "  (word, rev_has_titleword, paper)={ edge_index=[2, 18361007] },\n",
       "  (journal, rev_in_journal, paper)={ edge_index=[2, 2381173] }\n",
       ")"
      ]
     },
     "execution_count": 2,
     "metadata": {},
     "output_type": "execute_result"
    }
   ],
   "source": [
    "dataset "
   ]
  },
  {
   "cell_type": "code",
   "execution_count": 2,
   "metadata": {},
   "outputs": [],
   "source": [
    "import os \n",
    "import torch\n",
    "def save_heterograph_dataset(dataset, folder):\n",
    "    os.makedirs(folder, exist_ok=True)\n",
    "    \n",
    "    for edge_or_node_type in dataset.node_types+dataset.edge_types:\n",
    "        if isinstance(edge_or_node_type, tuple):\n",
    "            name = '_'.join(edge_or_node_type) + \".pt\"\n",
    "        else:\n",
    "            name = edge_or_node_type + \".pt\"\n",
    "        data = {}\n",
    "        print('save', name)\n",
    "        for key, value in dataset[edge_or_node_type].items():\n",
    "            data[key] = value\n",
    "        torch.save({'name':edge_or_node_type, 'attributes':data}, os.path.join(folder, name))\n",
    "save_heterograph_dataset(dataset, \"val_data_arxiv_paper\")"
   ]
  },
  {
   "cell_type": "code",
   "execution_count": 3,
   "metadata": {},
   "outputs": [
    {
     "name": "stdout",
     "output_type": "stream",
     "text": [
      "save paper.pt\n",
      "save author.pt\n",
      "save category.pt\n",
      "save word.pt\n",
      "save journal.pt\n",
      "save paper_written_by_author.pt\n",
      "save paper_has_category_category.pt\n",
      "save paper_has_word_word.pt\n",
      "save paper_has_titleword_word.pt\n",
      "save paper_in_journal_journal.pt\n",
      "save word_co_occurs_with_word.pt\n",
      "save author_rev_written_by_paper.pt\n",
      "save category_rev_has_category_paper.pt\n",
      "save word_rev_has_word_paper.pt\n",
      "save word_rev_has_titleword_paper.pt\n",
      "save journal_rev_in_journal_paper.pt\n",
      "save word_rev_co_occurs_with_word.pt\n"
     ]
    }
   ],
   "source": []
  },
  {
   "cell_type": "code",
   "execution_count": 4,
   "metadata": {},
   "outputs": [],
   "source": [
    "from torch_geometric.data import HeteroData\n",
    "def load_heterograph_dataset(folder):\n",
    "    dataset = HeteroData()\n",
    "    for name in os.listdir(folder):\n",
    "        print('load', name)\n",
    "        path = os.path.join(folder, name)\n",
    "        if os.path.isfile(path):\n",
    "            data = torch.load(path)\n",
    "            for key, value in data['attributes'].items():\n",
    "                dataset[data['name']][key] = value\n",
    "    return dataset"
   ]
  },
  {
   "cell_type": "code",
   "execution_count": 24,
   "metadata": {},
   "outputs": [
    {
     "data": {
      "text/plain": [
       "HeteroData(\n",
       "  author={ x=[1894426, 385] },\n",
       "  category={ x=[176, 385] },\n",
       "  journal={ x=[815904, 385] },\n",
       "  paper={ x=[2381173, 400] },\n",
       "  word={ x=[2464870, 386] },\n",
       "  (author, rev_written_by, paper)={ edge_index=[2, 7336430] },\n",
       "  (category, rev_has_category, paper)={ edge_index=[2, 2796876] },\n",
       "  (journal, rev_in_journal, paper)={ edge_index=[2, 1650154] },\n",
       "  (paper, has_category, category)={\n",
       "    edge_index=[2, 2796876],\n",
       "    edge_label=[1198660],\n",
       "    edge_label_index=[2, 1198660],\n",
       "  },\n",
       "  (paper, has_titleword, word)={\n",
       "    edge_index=[2, 12724178],\n",
       "    edge_label=[5453219],\n",
       "    edge_label_index=[2, 5453219],\n",
       "  },\n",
       "  (paper, has_word, word)={\n",
       "    edge_index=[2, 24675833],\n",
       "    edge_label=[10575357],\n",
       "    edge_label_index=[2, 10575357],\n",
       "  },\n",
       "  (paper, in_journal, journal)={\n",
       "    edge_index=[2, 1650154],\n",
       "    edge_label=[707208],\n",
       "    edge_label_index=[2, 707208],\n",
       "  },\n",
       "  (paper, written_by, author)={\n",
       "    edge_index=[2, 7336430],\n",
       "    edge_label=[3144184],\n",
       "    edge_label_index=[2, 3144184],\n",
       "  },\n",
       "  (word, co_occurs_with, word)={\n",
       "    edge_index=[2, 6642744],\n",
       "    edge_label=[2846889],\n",
       "    edge_label_index=[2, 2846889],\n",
       "  },\n",
       "  (word, rev_co_occurs_with, word)={ edge_index=[2, 6642744] },\n",
       "  (word, rev_has_titleword, paper)={ edge_index=[2, 12724178] },\n",
       "  (word, rev_has_word, paper)={ edge_index=[2, 24675833] }\n",
       ")"
      ]
     },
     "execution_count": 24,
     "metadata": {},
     "output_type": "execute_result"
    }
   ],
   "source": [
    "test_dataset"
   ]
  },
  {
   "cell_type": "code",
   "execution_count": 6,
   "metadata": {},
   "outputs": [
    {
     "data": {
      "text/plain": [
       "HeteroData(\n",
       "  author={ x=[1894426, 385] },\n",
       "  category={ x=[176, 385] },\n",
       "  journal={ x=[815904, 385] },\n",
       "  paper={ x=[2381173, 400] },\n",
       "  word={ x=[2464870, 386] },\n",
       "  (author, rev_written_by, paper)={ edge_index=[2, 10480614] },\n",
       "  (category, rev_has_category, paper)={ edge_index=[2, 3995536] },\n",
       "  (journal, rev_in_journal, paper)={ edge_index=[2, 2357362] },\n",
       "  (paper, has_category, category)={\n",
       "    edge_index=[2, 3995536],\n",
       "    edge_label=[80716],\n",
       "    edge_label_index=[2, 80716],\n",
       "  },\n",
       "  (paper, has_titleword, word)={\n",
       "    edge_index=[2, 18177397],\n",
       "    edge_label=[367220],\n",
       "    edge_label_index=[2, 367220],\n",
       "  },\n",
       "  (paper, has_word, word)={\n",
       "    edge_index=[2, 35251190],\n",
       "    edge_label=[712144],\n",
       "    edge_label_index=[2, 712144],\n",
       "  },\n",
       "  (paper, in_journal, journal)={\n",
       "    edge_index=[2, 2357362],\n",
       "    edge_label=[47622],\n",
       "    edge_label_index=[2, 47622],\n",
       "  },\n",
       "  (paper, written_by, author)={\n",
       "    edge_index=[2, 10480614],\n",
       "    edge_label=[211728],\n",
       "    edge_label_index=[2, 211728],\n",
       "  },\n",
       "  (word, co_occurs_with, word)={\n",
       "    edge_index=[2, 9489633],\n",
       "    edge_label=[191708],\n",
       "    edge_label_index=[2, 191708],\n",
       "  },\n",
       "  (word, rev_co_occurs_with, word)={ edge_index=[2, 9489633] },\n",
       "  (word, rev_has_titleword, paper)={ edge_index=[2, 18177397] },\n",
       "  (word, rev_has_word, paper)={ edge_index=[2, 35251190] }\n",
       ")"
      ]
     },
     "execution_count": 6,
     "metadata": {},
     "output_type": "execute_result"
    }
   ],
   "source": [
    "test_dataset"
   ]
  },
  {
   "cell_type": "code",
   "execution_count": 5,
   "metadata": {},
   "outputs": [
    {
     "name": "stdout",
     "output_type": "stream",
     "text": [
      "load author.pt\n",
      "load author_rev_written_by_paper.pt\n",
      "load category.pt\n",
      "load category_rev_has_category_paper.pt\n",
      "load journal.pt\n",
      "load journal_rev_in_journal_paper.pt\n",
      "load paper.pt\n",
      "load paper_has_category_category.pt\n",
      "load paper_has_titleword_word.pt\n",
      "load paper_has_word_word.pt\n",
      "load paper_in_journal_journal.pt\n",
      "load paper_written_by_author.pt\n",
      "load word.pt\n",
      "load word_co_occurs_with_word.pt\n",
      "load word_rev_co_occurs_with_word.pt\n",
      "load word_rev_has_titleword_paper.pt\n",
      "load word_rev_has_word_paper.pt\n"
     ]
    }
   ],
   "source": [
    "test_dataset = load_heterograph_dataset(\"val_data_arxiv_paper\")"
   ]
  }
 ],
 "metadata": {
  "kernelspec": {
   "display_name": "gnnpapersearch",
   "language": "python",
   "name": "python3"
  },
  "language_info": {
   "codemirror_mode": {
    "name": "ipython",
    "version": 3
   },
   "file_extension": ".py",
   "mimetype": "text/x-python",
   "name": "python",
   "nbconvert_exporter": "python",
   "pygments_lexer": "ipython3",
   "version": "3.11.5"
  }
 },
 "nbformat": 4,
 "nbformat_minor": 2
}
