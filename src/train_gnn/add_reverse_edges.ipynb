{
 "cells": [
  {
   "cell_type": "code",
   "execution_count": 7,
   "metadata": {},
   "outputs": [],
   "source": [
    "import pickle\n",
    "\n",
    "heterodata = pickle.load(open(\"hetero_graph_final.pkl\", \"rb\"))"
   ]
  },
  {
   "cell_type": "code",
   "execution_count": 2,
   "metadata": {},
   "outputs": [],
   "source": [
    "heterodata[('paper', 'in_journal', 'journal')] = heterodata[('paper', 'in_journal', 'journal-ref')]\n",
    "del heterodata[('paper', 'in_journal', 'journal-ref')]\n",
    "\n",
    "# remove isolated nodes\n",
    "import torch_geometric.transforms as T\n",
    "transform = T.Compose([\n",
    "       #T.RemoveIsolatedNodes(),\n",
    "       T.RemoveDuplicatedEdges(),\n",
    "       # T.ToUndirected(merge=False) # don't merge reversed edges into the original edge type\n",
    "])\n",
    "\n",
    "heterodata = transform(heterodata)\n",
    "\n",
    "heterodata['paper']['name'] = heterodata['paper']['title']\n",
    "del heterodata['paper']['title']"
   ]
  },
  {
   "cell_type": "code",
   "execution_count": 3,
   "metadata": {},
   "outputs": [
    {
     "name": "stdout",
     "output_type": "stream",
     "text": [
      "paper\n",
      "del paper num_nodes\n",
      "del paper license\n",
      "del paper doi\n",
      "del paper pages\n",
      "del paper journal\n",
      "del paper date\n",
      "del paper id\n",
      "del paper name\n",
      "author\n",
      "del author num_nodes\n",
      "del author name\n",
      "category\n",
      "del category num_nodes\n",
      "del category name\n",
      "journal\n",
      "del journal num_nodes\n",
      "del journal name\n",
      "word\n",
      "del word num_nodes\n",
      "del word name\n"
     ]
    }
   ],
   "source": [
    "import torch\n",
    "# id mapping so we can remove the attributes and then remove isolated nodes, later we can add the attributes back\n",
    "id_dict = {}\n",
    "heterodata_dict = heterodata.to_dict()\n",
    "for nodetype in heterodata.node_types:\n",
    "    print(nodetype)\n",
    "    ids = torch.arange(heterodata[nodetype].num_nodes) \n",
    "    id_mapping = {i.item():name for i, name in zip(ids, heterodata[nodetype].name)}\n",
    "    \n",
    "    heterodata[nodetype].x = ids.unsqueeze(-1)\n",
    "    id_dict[nodetype] = id_mapping\n",
    "    \n",
    "    for key in heterodata_dict[nodetype].keys():\n",
    "        if key != 'x':\n",
    "            print('del', nodetype, key)\n",
    "            del heterodata[nodetype][key]"
   ]
  },
  {
   "cell_type": "code",
   "execution_count": 4,
   "metadata": {},
   "outputs": [
    {
     "name": "stdout",
     "output_type": "stream",
     "text": [
      "paper torch.Size([2385180, 1]) 2385180\n",
      "author torch.Size([1878690, 1]) 1878690\n",
      "category torch.Size([176, 1]) 176\n",
      "journal torch.Size([2385180, 1]) 2385180\n",
      "word torch.Size([2406583, 1]) 2406583\n"
     ]
    }
   ],
   "source": [
    "# check shapes are correct\n",
    "for nodetype in heterodata.node_types:\n",
    "    print(nodetype, heterodata[nodetype].x.shape, heterodata[nodetype].num_nodes)\n",
    "    print(heterodata[nodetype])"
   ]
  },
  {
   "cell_type": "code",
   "execution_count": 9,
   "metadata": {},
   "outputs": [
    {
     "name": "stdout",
     "output_type": "stream",
     "text": [
      "     \n",
      "('paper', 'written_by', 'author')\n",
      "paper max idx in edge: tensor(4277325) actual number of nodes: 2385180\n",
      "author max idx in edge: tensor(4277328) actual number of nodes: 1878690\n",
      "     \n",
      "('paper', 'has_category', 'category')\n",
      "paper max idx in edge: tensor(2381347) actual number of nodes: 2385180\n",
      "category max idx in edge: tensor(2380598) actual number of nodes: 176\n",
      "     \n",
      "('paper', 'has_word', 'word')\n",
      "paper max idx in edge: tensor(2385179) actual number of nodes: 2385180\n",
      "word max idx in edge: tensor(725125) actual number of nodes: 2406583\n",
      "     \n",
      "('paper', 'has_titleword', 'word')\n",
      "paper max idx in edge: tensor(2779629) actual number of nodes: 2385180\n",
      "word max idx in edge: tensor(2779624) actual number of nodes: 2406583\n",
      "     \n",
      "('paper', 'in_journal', 'journal-ref')\n",
      "paper max idx in edge: tensor(1642840) actual number of nodes: 2385180\n",
      "journal-ref max idx in edge: tensor(1642841) actual number of nodes: None\n",
      "     \n",
      "('word', 'co_occurs_with', 'word')\n",
      "word max idx in edge: tensor(1475095) actual number of nodes: 2406583\n",
      "word max idx in edge: tensor(1475095) actual number of nodes: 2406583\n"
     ]
    },
    {
     "name": "stderr",
     "output_type": "stream",
     "text": [
      "/home/amosd/miniconda3/envs/gnn/lib/python3.11/site-packages/torch_geometric/data/storage.py:327: UserWarning: Unable to accurately infer 'num_nodes' from the attribute set 'set()'. Please explicitly set 'num_nodes' as an attribute of 'data[journal-ref]' to suppress this warning\n",
      "  warnings.warn(\n"
     ]
    }
   ],
   "source": [
    "# check id mapping is correct\n",
    "for edge_type in heterodata.edge_types:\n",
    "    print(\"     \")\n",
    "    print(edge_type)\n",
    "    print(edge_type[0], 'max idx in edge:',heterodata[edge_type].edge_index[0,:].max() ,'actual number of nodes:',heterodata[edge_type[0]].num_nodes)\n",
    "    print(edge_type[2],'max idx in edge:', heterodata[edge_type].edge_index[1,:].max(),'actual number of nodes:' ,heterodata[edge_type[2]].num_nodes)\n",
    "    \n",
    "    "
   ]
  },
  {
   "cell_type": "code",
   "execution_count": null,
   "metadata": {},
   "outputs": [],
   "source": [
    "# check correct edge types:\n",
    "transform = T.Compose([\n",
    "       #T.RemoveIsolatedNodes(),\n",
    "       #    T.RemoveDuplicatedEdges(),\n",
    "       T.ToUndirected(merge=False) # don't merge reversed edges into the original edge type\n",
    "])\n",
    "\n",
    "heterodata = transform(heterodata)"
   ]
  },
  {
   "cell_type": "code",
   "execution_count": 5,
   "metadata": {},
   "outputs": [
    {
     "ename": "IndexError",
     "evalue": "index 3741316 is out of bounds for dimension 0 with size 2385180",
     "output_type": "error",
     "traceback": [
      "\u001b[0;31m---------------------------------------------------------------------------\u001b[0m",
      "\u001b[0;31mIndexError\u001b[0m                                Traceback (most recent call last)",
      "Cell \u001b[0;32mIn[5], line 4\u001b[0m\n\u001b[1;32m      1\u001b[0m transform \u001b[38;5;241m=\u001b[39m T\u001b[38;5;241m.\u001b[39mCompose([\n\u001b[1;32m      2\u001b[0m        T\u001b[38;5;241m.\u001b[39mRemoveIsolatedNodes(),\n\u001b[1;32m      3\u001b[0m ])\n\u001b[0;32m----> 4\u001b[0m heterodata \u001b[38;5;241m=\u001b[39m \u001b[43mtransform\u001b[49m\u001b[43m(\u001b[49m\u001b[43mheterodata\u001b[49m\u001b[43m)\u001b[49m\n",
      "File \u001b[0;32m~/miniconda3/envs/gnn/lib/python3.11/site-packages/torch_geometric/transforms/base_transform.py:32\u001b[0m, in \u001b[0;36mBaseTransform.__call__\u001b[0;34m(self, data)\u001b[0m\n\u001b[1;32m     30\u001b[0m \u001b[38;5;28;01mdef\u001b[39;00m \u001b[38;5;21m__call__\u001b[39m(\u001b[38;5;28mself\u001b[39m, data: Any) \u001b[38;5;241m-\u001b[39m\u001b[38;5;241m>\u001b[39m Any:\n\u001b[1;32m     31\u001b[0m     \u001b[38;5;66;03m# Shallow-copy the data so that we prevent in-place data modification.\u001b[39;00m\n\u001b[0;32m---> 32\u001b[0m     \u001b[38;5;28;01mreturn\u001b[39;00m \u001b[38;5;28;43mself\u001b[39;49m\u001b[38;5;241;43m.\u001b[39;49m\u001b[43mforward\u001b[49m\u001b[43m(\u001b[49m\u001b[43mcopy\u001b[49m\u001b[38;5;241;43m.\u001b[39;49m\u001b[43mcopy\u001b[49m\u001b[43m(\u001b[49m\u001b[43mdata\u001b[49m\u001b[43m)\u001b[49m\u001b[43m)\u001b[49m\n",
      "File \u001b[0;32m~/miniconda3/envs/gnn/lib/python3.11/site-packages/torch_geometric/transforms/compose.py:24\u001b[0m, in \u001b[0;36mCompose.forward\u001b[0;34m(self, data)\u001b[0m\n\u001b[1;32m     22\u001b[0m         data \u001b[38;5;241m=\u001b[39m [transform(d) \u001b[38;5;28;01mfor\u001b[39;00m d \u001b[38;5;129;01min\u001b[39;00m data]\n\u001b[1;32m     23\u001b[0m     \u001b[38;5;28;01melse\u001b[39;00m:\n\u001b[0;32m---> 24\u001b[0m         data \u001b[38;5;241m=\u001b[39m \u001b[43mtransform\u001b[49m\u001b[43m(\u001b[49m\u001b[43mdata\u001b[49m\u001b[43m)\u001b[49m\n\u001b[1;32m     25\u001b[0m \u001b[38;5;28;01mreturn\u001b[39;00m data\n",
      "File \u001b[0;32m~/miniconda3/envs/gnn/lib/python3.11/site-packages/torch_geometric/transforms/base_transform.py:32\u001b[0m, in \u001b[0;36mBaseTransform.__call__\u001b[0;34m(self, data)\u001b[0m\n\u001b[1;32m     30\u001b[0m \u001b[38;5;28;01mdef\u001b[39;00m \u001b[38;5;21m__call__\u001b[39m(\u001b[38;5;28mself\u001b[39m, data: Any) \u001b[38;5;241m-\u001b[39m\u001b[38;5;241m>\u001b[39m Any:\n\u001b[1;32m     31\u001b[0m     \u001b[38;5;66;03m# Shallow-copy the data so that we prevent in-place data modification.\u001b[39;00m\n\u001b[0;32m---> 32\u001b[0m     \u001b[38;5;28;01mreturn\u001b[39;00m \u001b[38;5;28;43mself\u001b[39;49m\u001b[38;5;241;43m.\u001b[39;49m\u001b[43mforward\u001b[49m\u001b[43m(\u001b[49m\u001b[43mcopy\u001b[49m\u001b[38;5;241;43m.\u001b[39;49m\u001b[43mcopy\u001b[49m\u001b[43m(\u001b[49m\u001b[43mdata\u001b[49m\u001b[43m)\u001b[49m\u001b[43m)\u001b[49m\n",
      "File \u001b[0;32m~/miniconda3/envs/gnn/lib/python3.11/site-packages/torch_geometric/transforms/remove_isolated_nodes.py:65\u001b[0m, in \u001b[0;36mRemoveIsolatedNodes.forward\u001b[0;34m(self, data)\u001b[0m\n\u001b[1;32m     63\u001b[0m             out\u001b[38;5;241m.\u001b[39mnum_nodes \u001b[38;5;241m=\u001b[39m n_id_dict[store\u001b[38;5;241m.\u001b[39m_key]\u001b[38;5;241m.\u001b[39mnumel()\n\u001b[1;32m     64\u001b[0m         \u001b[38;5;28;01melif\u001b[39;00m store\u001b[38;5;241m.\u001b[39mis_node_attr(key):\n\u001b[0;32m---> 65\u001b[0m             out[key] \u001b[38;5;241m=\u001b[39m \u001b[43mvalue\u001b[49m\u001b[43m[\u001b[49m\u001b[43mn_id_dict\u001b[49m\u001b[43m[\u001b[49m\u001b[43mstore\u001b[49m\u001b[38;5;241;43m.\u001b[39;49m\u001b[43m_key\u001b[49m\u001b[43m]\u001b[49m\u001b[43m]\u001b[49m\n\u001b[1;32m     67\u001b[0m \u001b[38;5;28;01mreturn\u001b[39;00m data\n",
      "\u001b[0;31mIndexError\u001b[0m: index 3741316 is out of bounds for dimension 0 with size 2385180"
     ]
    }
   ],
   "source": [
    "transform = T.Compose([\n",
    "       T.RemoveIsolatedNodes(),\n",
    "])\n",
    "heterodata = transform(heterodata)"
   ]
  },
  {
   "cell_type": "code",
   "execution_count": null,
   "metadata": {},
   "outputs": [],
   "source": [
    "for nodetype in heterodata.node_types:\n",
    "    print(nodetype, heterodata[nodetype].x.shape, heterodata[nodetype].num_nodes)"
   ]
  },
  {
   "cell_type": "code",
   "execution_count": 7,
   "metadata": {},
   "outputs": [
    {
     "name": "stdout",
     "output_type": "stream",
     "text": [
      "paper\n",
      "   2385180\n",
      "   dict_keys(['num_nodes', 'license', 'doi', 'title', 'pages', 'journal', 'date', 'id'])\n",
      "author\n",
      "   1878690\n",
      "   dict_keys(['num_nodes', 'name'])\n",
      "category\n",
      "   176\n",
      "   dict_keys(['num_nodes', 'name'])\n",
      "journal\n",
      "   2385180\n",
      "   dict_keys(['num_nodes', 'name'])\n",
      "word\n",
      "   2406583\n",
      "   dict_keys(['num_nodes', 'name'])\n",
      "('paper', 'written_by', 'author')\n",
      "   10597219\n",
      "   {'edge_index': tensor([[      0,       1,       1,  ..., 4277325, 4277325, 4277325],\n",
      "        [1589437,   23307, 1051965,  ..., 3198795, 3316631, 4058572]])}\n",
      "('paper', 'has_category', 'category')\n",
      "   4037381\n",
      "   {'edge_index': tensor([[      0,       0,       1,  ..., 2381346, 2381346, 2381347],\n",
      "        [ 674169, 1788806,  207521,  ..., 1520372, 1862801, 2270900]])}\n",
      "('paper', 'has_word', 'word')\n",
      "   138266332\n",
      "   {'edge_index': tensor([[      0,       0,       0,  ..., 2385179, 2385179, 2385179],\n",
      "        [  95660,  102536,  115088,  ...,  652992,  684129,  697016]]), 'edge_attr': tensor([0.0693, 0.0758, 0.1286,  ..., 0.1126, 0.0358, 0.2207])}\n",
      "('paper', 'has_titleword', 'word')\n",
      "   24026714\n",
      "   {'edge_index': tensor([[      1,       1,       1,  ..., 2779629, 2779629, 2779629],\n",
      "        [ 509968, 1101608, 1211288,  ..., 2026780, 2280675, 2630963]])}\n",
      "('word', 'co_occurs_with', 'word')\n",
      "   24251981\n",
      "   {'edge_index': tensor([[      0,       1,       2,  ..., 1475095, 1475095, 1475095],\n",
      "        [1326983, 1043094,   75892,  ..., 1146293, 1176724, 1243567]]), 'edge_attr': tensor([19.6276, 21.2997,  9.0683,  ..., 11.0281, 15.0149, 14.2149])}\n",
      "('author', 'rev_written_by', 'paper')\n",
      "   10597219\n",
      "   {'edge_index': tensor([[1589437,   23307, 1051965,  ..., 3198795, 3316631, 4058572],\n",
      "        [      0,       1,       1,  ..., 4277325, 4277325, 4277325]])}\n",
      "('category', 'rev_has_category', 'paper')\n",
      "   4037381\n",
      "   {'edge_index': tensor([[ 674169, 1788806,  207521,  ..., 1520372, 1862801, 2270900],\n",
      "        [      0,       0,       1,  ..., 2381346, 2381346, 2381347]])}\n",
      "('word', 'rev_has_word', 'paper')\n",
      "   138266332\n",
      "   {'edge_index': tensor([[  95660,  102536,  115088,  ...,  652992,  684129,  697016],\n",
      "        [      0,       0,       0,  ..., 2385179, 2385179, 2385179]]), 'edge_attr': tensor([0.0693, 0.0758, 0.1286,  ..., 0.1126, 0.0358, 0.2207])}\n",
      "('word', 'rev_has_titleword', 'paper')\n",
      "   24026714\n",
      "   {'edge_index': tensor([[ 509968, 1101608, 1211288,  ..., 2026780, 2280675, 2630963],\n",
      "        [      1,       1,       1,  ..., 2779629, 2779629, 2779629]])}\n",
      "('word', 'rev_co_occurs_with', 'word')\n",
      "   24251981\n",
      "   {'edge_index': tensor([[1326983, 1043094,   75892,  ..., 1146293, 1176724, 1243567],\n",
      "        [      0,       1,       2,  ..., 1475095, 1475095, 1475095]]), 'edge_attr': tensor([19.6276, 21.2997,  9.0683,  ..., 11.0281, 15.0149, 14.2149])}\n"
     ]
    }
   ],
   "source": [
    "def describe(heterodata):\n",
    "    heterodata_dict = heterodata.to_dict()\n",
    "    # print('has isolated nodes:', heterodata.has_isolated_nodes())\n",
    "    # print('has self loops:', heterodata.has_self_loops())\n",
    "    # print('is directed', heterodata.is_directed())\n",
    "    for nodetype in heterodata.node_types:\n",
    "        print(nodetype)\n",
    "        print('  ',heterodata[nodetype].num_nodes)\n",
    "        print('  ',heterodata_dict[nodetype].keys())\n",
    "        \n",
    "    for edgetype in heterodata.edge_types:\n",
    "        print(edgetype)\n",
    "        print('  ',heterodata[edgetype].num_edges)\n",
    "        print('  ',heterodata[edgetype])\n",
    "\n",
    "describe(heterodata)"
   ]
  },
  {
   "cell_type": "code",
   "execution_count": null,
   "metadata": {},
   "outputs": [],
   "source": [
    "heterodata_dict"
   ]
  },
  {
   "cell_type": "code",
   "execution_count": 3,
   "metadata": {},
   "outputs": [],
   "source": []
  },
  {
   "cell_type": "code",
   "execution_count": 4,
   "metadata": {},
   "outputs": [],
   "source": []
  },
  {
   "cell_type": "code",
   "execution_count": 6,
   "metadata": {},
   "outputs": [
    {
     "data": {
      "text/plain": [
       "dict_keys(['num_nodes', 'license', 'doi', 'title', 'pages', 'journal', 'date', 'id'])"
      ]
     },
     "execution_count": 6,
     "metadata": {},
     "output_type": "execute_result"
    }
   ],
   "source": [
    "heterodata_dict['paper'].keys()"
   ]
  },
  {
   "cell_type": "code",
   "execution_count": null,
   "metadata": {},
   "outputs": [],
   "source": [
    "# check if object has duplicate edges\n",
    "def get_num_nodes"
   ]
  }
 ],
 "metadata": {
  "kernelspec": {
   "display_name": "gnn",
   "language": "python",
   "name": "python3"
  },
  "language_info": {
   "codemirror_mode": {
    "name": "ipython",
    "version": 3
   },
   "file_extension": ".py",
   "mimetype": "text/x-python",
   "name": "python",
   "nbconvert_exporter": "python",
   "pygments_lexer": "ipython3",
   "version": "3.11.5"
  }
 },
 "nbformat": 4,
 "nbformat_minor": 2
}
